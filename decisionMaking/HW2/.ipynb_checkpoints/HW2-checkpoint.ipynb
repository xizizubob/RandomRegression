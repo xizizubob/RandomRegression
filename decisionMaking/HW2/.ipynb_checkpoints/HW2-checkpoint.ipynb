{
 "cells": [
  {
   "cell_type": "code",
   "execution_count": 2,
   "metadata": {},
   "outputs": [
    {
     "name": "stdout",
     "output_type": "stream",
     "text": [
      "\n"
     ]
    },
    {
     "name": "stderr",
     "output_type": "stream",
     "text": [
      "/Users/xizizhu/anaconda2/lib/python2.7/site-packages/statsmodels/compat/pandas.py:56: FutureWarning: The pandas.core.datetools module is deprecated and will be removed in a future version. Please use the pandas.tseries module instead.\n",
      "  from pandas.core import datetools\n"
     ]
    }
   ],
   "source": [
    "import numpy as np\n",
    "from __future__ import division\n",
    "import scipy\n",
    "from scipy import stats\n",
    "import pandas as pd\n",
    "from matplotlib.pyplot import hist\n",
    "import matplotlib.pyplot as plt\n",
    "import statsmodels.stats.api as sms\n",
    "import statsmodels.api as sm"
   ]
  },
  {
   "cell_type": "code",
   "execution_count": 503,
   "metadata": {},
   "outputs": [
    {
     "name": "stdout",
     "output_type": "stream",
     "text": [
      "95 quantile: 0.29350462401365035\n"
     ]
    },
    {
     "data": {
      "image/png": "[encoded data removed]",
      "text/plain": [
       "<matplotlib.figure.Figure at 0x10d1330d0>"
      ]
     },
     "metadata": {},
     "output_type": "display_data"
    }
   ],
   "source": [
    "#Q4\n",
    "#pt.c\n",
    "a = np.random.uniform(0,1,[10000,20])\n",
    "D201000 = np.zeros(10000)\n",
    "for i in range(len(a)):\n",
    "    D20 = np.ones(20)\n",
    "    for j in range(20):\n",
    "        a[i].sort()\n",
    "        D20[j] = max((j+1)/20-(a[i][j]),(a[i][j])-j/20)\n",
    "    D201000[i] = max(D20)\n",
    "print \"95 quantile:\",np.percentile(D201000, 95)\n",
    "hist(D201000)\n",
    "plt.show()"
   ]
  },
  {
   "cell_type": "code",
   "execution_count": 458,
   "metadata": {},
   "outputs": [
    {
     "name": "stdout",
     "output_type": "stream",
     "text": [
      "KS test for normality\n",
      "KstestResult(statistic=0.1474318867982395, pvalue=0.7639877640103565)\n"
     ]
    },
    {
     "data": {
      "image/png": "[encoded data removed]",
      "text/plain": [
       "<matplotlib.figure.Figure at 0x10b348cd0>"
      ]
     },
     "metadata": {},
     "output_type": "display_data"
    }
   ],
   "source": [
    "#Q4\n",
    "#pt.d\n",
    "a = [0.23, 0.72, -0.60, -0.68, 0.77, 0.24, -0.53, 0.26, -0.33, -0.76, 0.16, -0.92, 0.54, 1.6, -1.1, 0.065, -0.091, 2.3, 0.18, -0.19]\n",
    "print 'KS test for normality'\n",
    "print scipy.stats.kstest(a, 'norm')\n",
    "fig = sm.graphics.qqplot(np.array(a), scipy.stats.norm, fit=True, line='45')\n",
    "plt.show()\n",
    "# Y looks like standard normal\n",
    "#1, KS test says it is likely to be a normal distribution with pvalue telling us that the KS test, \n",
    "#does not reject the null hypothesis that the sample comes from normal distribution\n",
    "#also, the 95 percent is thershold obtained in part c is 0.29 and is bigger than 0.14\n",
    "#meaning that it does not reject H0, again "
   ]
  },
  {
   "cell_type": "code",
   "execution_count": 73,
   "metadata": {},
   "outputs": [],
   "source": [
    "#Q5\n",
    "url = \"https://raw.githubusercontent.com/genomicsclass/dagdata/master/inst/extdata/babies.txt\"\n",
    "babies = pd.read_table(url,sep='\\s+')\n",
    "bwt_nonsmoke = babies[babies.smoke==0].bwt\n",
    "bwt_smoke = babies[babies.smoke==1].bwt"
   ]
  },
  {
   "cell_type": "code",
   "execution_count": 116,
   "metadata": {},
   "outputs": [
    {
     "name": "stdout",
     "output_type": "stream",
     "text": [
      "-12.700000000000003\n"
     ]
    }
   ],
   "source": [
    "#pt.a\n",
    "a = np.ones(10)\n",
    "b = np.zeros(len(bwt_nonsmoke)-10)\n",
    "c = np.zeros(len(bwt_smoke)-10)\n",
    "t1 = np.concatenate([a,b]) \n",
    "t2 = np.concatenate([a,c]) \n",
    "np.random.shuffle(t1)\n",
    "np.random.shuffle(t2)\n",
    "bwt_smoke_mean = np.array(bwt_smoke).dot(t2).sum()/10\n",
    "bwt_nonsmoke_mean = np.array(bwt_nonsmoke).dot(t1).sum()/10\n",
    "print bwt_smoke_mean - bwt_nonsmoke_mean"
   ]
  },
  {
   "cell_type": "code",
   "execution_count": 1,
   "metadata": {},
   "outputs": [
    {
     "ename": "NameError",
     "evalue": "name 'bwt_smoke' is not defined",
     "output_type": "error",
     "traceback": [
      "\u001b[0;31m---------------------------------------------------------------------------\u001b[0m",
      "\u001b[0;31mNameError\u001b[0m                                 Traceback (most recent call last)",
      "\u001b[0;32m<ipython-input-1-daca79934474>\u001b[0m in \u001b[0;36m<module>\u001b[0;34m()\u001b[0m\n\u001b[1;32m      1\u001b[0m \u001b[0;31m#pt.b\u001b[0m\u001b[0;34m\u001b[0m\u001b[0;34m\u001b[0m\u001b[0m\n\u001b[1;32m      2\u001b[0m \u001b[0;31m#here permutation test uses the code from lecture 7\u001b[0m\u001b[0;34m\u001b[0m\u001b[0;34m\u001b[0m\u001b[0m\n\u001b[0;32m----> 3\u001b[0;31m \u001b[0mbwt_smoke\u001b[0m\u001b[0;34m.\u001b[0m\u001b[0msample\u001b[0m\u001b[0;34m(\u001b[0m\u001b[0mfrac\u001b[0m \u001b[0;34m=\u001b[0m \u001b[0;36m0.1\u001b[0m\u001b[0;34m)\u001b[0m\u001b[0;34m.\u001b[0m\u001b[0msum\u001b[0m\u001b[0;34m(\u001b[0m\u001b[0;34m)\u001b[0m\u001b[0;34m/\u001b[0m\u001b[0mlen\u001b[0m\u001b[0;34m(\u001b[0m\u001b[0mbwt_smoke\u001b[0m\u001b[0;34m.\u001b[0m\u001b[0msample\u001b[0m\u001b[0;34m(\u001b[0m\u001b[0mfrac\u001b[0m \u001b[0;34m=\u001b[0m \u001b[0;36m0.1\u001b[0m\u001b[0;34m)\u001b[0m\u001b[0;34m)\u001b[0m \u001b[0;34m-\u001b[0m \u001b[0mbwt_nonsmoke\u001b[0m\u001b[0;34m.\u001b[0m\u001b[0msample\u001b[0m\u001b[0;34m(\u001b[0m\u001b[0mfrac\u001b[0m \u001b[0;34m=\u001b[0m \u001b[0;36m0.1\u001b[0m\u001b[0;34m)\u001b[0m\u001b[0;34m.\u001b[0m\u001b[0msum\u001b[0m\u001b[0;34m(\u001b[0m\u001b[0;34m)\u001b[0m\u001b[0;34m/\u001b[0m\u001b[0mlen\u001b[0m\u001b[0;34m(\u001b[0m\u001b[0mbwt_nonsmoke\u001b[0m\u001b[0;34m.\u001b[0m\u001b[0msample\u001b[0m\u001b[0;34m(\u001b[0m\u001b[0mfrac\u001b[0m \u001b[0;34m=\u001b[0m \u001b[0;36m0.1\u001b[0m\u001b[0;34m)\u001b[0m\u001b[0;34m)\u001b[0m\u001b[0;34m\u001b[0m\u001b[0m\n\u001b[0m",
      "\u001b[0;31mNameError\u001b[0m: name 'bwt_smoke' is not defined"
     ]
    }
   ],
   "source": [
    "#pt.b\n",
    "#here permutation test uses the code from lecture 7 \n",
    "bwt_smoke.sample(frac = 0.1).sum()/len(bwt_smoke.sample(frac = 0.1)) - bwt_nonsmoke.sample(frac = 0.1).sum()/len(bwt_nonsmoke.sample(frac = 0.1))"
   ]
  },
  {
   "cell_type": "code",
   "execution_count": 137,
   "metadata": {},
   "outputs": [
    {
     "name": "stdout",
     "output_type": "stream",
     "text": [
      "permutation pval = 0.123876123876\n"
     ]
    }
   ],
   "source": [
    "#pt.c\n",
    "#here permutation test uses the code from lecture 7 \n",
    "B = 1000\n",
    "permutations = np.zeros(B)\n",
    "delta = bwt_smoke_mean - bwt_nonsmoke_mean\n",
    "for i in range(B):\n",
    "    permutations[i] = bwt_smoke.sample(frac = 0.1).sum()/len(bwt_smoke.sample(frac = 0.1)) - bwt_nonsmoke.sample(frac = 0.1).sum()/len(bwt_nonsmoke.sample(frac = 0.1))\n",
    "print 'permutation pval =',(1.+(np.abs(permutations)>=np.abs(delta)).sum())/(B+1.)"
   ]
  },
  {
   "cell_type": "code",
   "execution_count": 145,
   "metadata": {},
   "outputs": [
    {
     "data": {
      "image/png": "[encoded data removed]",
      "text/plain": [
       "<matplotlib.figure.Figure at 0x10886f050>"
      ]
     },
     "metadata": {},
     "output_type": "display_data"
    }
   ],
   "source": [
    "#pt.c\n",
    "hist(permutations)\n",
    "plt.show()"
   ]
  },
  {
   "cell_type": "code",
   "execution_count": 234,
   "metadata": {},
   "outputs": [
    {
     "name": "stdout",
     "output_type": "stream",
     "text": [
      "permutation pval = 0.544455544456\n"
     ]
    }
   ],
   "source": [
    "#pt.d\n",
    "delta = np.median(np.array(bwt_smoke.sample(frac = 0.1))) - np.median(np.array(bwt_nonsmoke.sample(frac = 0.1)))\n",
    "B = 1000\n",
    "permutations = np.zeros(B)\n",
    "for i in range(B):\n",
    "    permutations[i] = np.median(bwt_smoke.sample(frac = 0.1)) - np.median(bwt_nonsmoke.sample(frac = 0.1))\n",
    "print 'permutation pval =',(1.+(np.abs(permutations)>=np.abs(delta)).sum())/(B+1.)"
   ]
  },
  {
   "cell_type": "code",
   "execution_count": 268,
   "metadata": {},
   "outputs": [
    {
     "name": "stdout",
     "output_type": "stream",
     "text": [
      "permutation pval = 0.0829170829171\n"
     ]
    }
   ],
   "source": [
    "#pt.e\n",
    "B = 1000\n",
    "permutations = np.zeros(B)\n",
    "delta = scipy.stats.ks_2samp(bwt_smoke.sample(frac = 0.1), bwt_nonsmoke.sample(frac = 0.1))[0]\n",
    "for i in range(B):\n",
    "    permutations[i] = scipy.stats.ks_2samp(np.array(bwt_smoke.sample(frac = 0.1)),np.array(bwt_nonsmoke.sample(frac = 0.1)))[0]\n",
    "print 'permutation pval =',(1.+(np.abs(permutations)>=np.abs(delta)).sum())/(B+1.)"
   ]
  },
  {
   "cell_type": "code",
   "execution_count": 253,
   "metadata": {},
   "outputs": [
    {
     "data": {
      "text/plain": [
       "10"
      ]
     },
     "execution_count": 253,
     "metadata": {},
     "output_type": "execute_result"
    }
   ],
   "source": [
    "len(bwt_nonsmoke.sample(frac = 0.013))"
   ]
  },
  {
   "cell_type": "code",
   "execution_count": 269,
   "metadata": {},
   "outputs": [],
   "source": [
    "#pt.f\n",
    "ks = 0\n",
    "it = 1000\n",
    "B = 1000\n",
    "for j in range(it):\n",
    "    permutations = np.zeros(B)\n",
    "    delta = scipy.stats.ks_2samp(bwt_smoke.sample(frac = 0.02), bwt_nonsmoke.sample(frac = 0.013))[0]\n",
    "    for i in range(B):\n",
    "        permutations[i] = scipy.stats.ks_2samp(np.array(bwt_smoke.sample(frac = 0.02)),np.array(bwt_nonsmoke.sample(frac = 0.013)))[0]\n",
    "    ks = ks + (1.+(np.abs(permutations)>=np.abs(delta)).sum())/(B+1.)/it"
   ]
  },
  {
   "cell_type": "code",
   "execution_count": 270,
   "metadata": {},
   "outputs": [
    {
     "name": "stdout",
     "output_type": "stream",
     "text": [
      "0.564482517483 0.522391608392 0.321797202797\n"
     ]
    }
   ],
   "source": [
    "print ks, md, mn/1000"
   ]
  },
  {
   "cell_type": "code",
   "execution_count": 259,
   "metadata": {},
   "outputs": [],
   "source": [
    "#pt.f\n",
    "md = 0\n",
    "it = 1000\n",
    "B = 1000\n",
    "for j in range(it):\n",
    "    delta = np.median(np.array(bwt_smoke.sample(frac = 0.02))) - np.median(np.array(bwt_nonsmoke.sample(frac = 0.013)))\n",
    "    B = 1000\n",
    "    permutations = np.zeros(B)\n",
    "    for i in range(B):\n",
    "        permutations[i] = np.median(bwt_smoke.sample(frac = 0.02)) - np.median(bwt_nonsmoke.sample(frac = 0.013))\n",
    "    md = md + (1.+(np.abs(permutations)>=np.abs(delta)).sum())/(B+1.)/it"
   ]
  },
  {
   "cell_type": "code",
   "execution_count": 260,
   "metadata": {},
   "outputs": [],
   "source": [
    "#pt.f\n",
    "mn = 0\n",
    "it = 1000\n",
    "B = 1000\n",
    "for j in range(it):\n",
    "    permutations = np.zeros(B)\n",
    "    delta = bwt_smoke_mean - bwt_nonsmoke_mean\n",
    "    for i in range(B):\n",
    "        permutations[i] = bwt_smoke.sample(frac = 0.02).sum()/len(bwt_smoke.sample(frac = 0.02)) - bwt_nonsmoke.sample(frac = 0.013).sum()/len(bwt_nonsmoke.sample(frac = 0.013))\n",
    "    mn = mn + (1.+(np.abs(permutations)>=np.abs(delta)).sum())/(B+1.)"
   ]
  },
  {
   "cell_type": "code",
   "execution_count": 192,
   "metadata": {},
   "outputs": [
    {
     "name": "stdout",
     "output_type": "stream",
     "text": [
      "95pct CI for avg diff = [0.016431,0.027919]\n",
      "0.0013221391366111668\n"
     ]
    }
   ],
   "source": [
    "#Q6\n",
    "#pt.a\n",
    "a = [.225, .262, .217, .240, .230, .229, .235, .217]\n",
    "b = [.209, .205, .196, .210, .202, .207, .224, .223, .220, .201]\n",
    "a1 = np.mean(a)\n",
    "a2 =np.var(a)\n",
    "b1 = np.mean(b)\n",
    "b2 = np.var(b)\n",
    "t = (a1-b1)/(((7*a2+9*b2)/16*(1/7+1/9))**(1/2))\n",
    "p=2*(1-scipy.stats.t.cdf(abs(t),18-2))#code from lecture 6\n",
    "delta = a1 - b1\n",
    "Q = scipy.stats.t.ppf(1-.05/2,18-2)\n",
    "sd = ((7*a2+9*b2)/16*(1/7+1/9))**(1/2)\n",
    "print '95pct CI for avg diff = [%f,%f]'%(delta - Q*(sd * np.sqrt(1./10+1./8)),delta + Q*(sd * np.sqrt(1./10+1./8)))\n",
    "print p"
   ]
  },
  {
   "cell_type": "code",
   "execution_count": 102,
   "metadata": {},
   "outputs": [
    {
     "name": "stdout",
     "output_type": "stream",
     "text": [
      "permutation pval = 0.000899910008999\n"
     ]
    }
   ],
   "source": [
    "#here permutation test uses the code from lecture 7 \n",
    "#pt.b\n",
    "c = np.ones(len(a))\n",
    "d = np.zeros(len(b))\n",
    "y = np.array(a + b)\n",
    "t = np.concatenate([c,d]) \n",
    "t = t.astype('bool')\n",
    "delta = y.dot(t)/t.sum() - y.dot(~t)/(~t).sum()\n",
    "np.random.shuffle(t)\n",
    "B = 10000\n",
    "permutations = np.zeros(B)\n",
    "for i in range(B):\n",
    "    np.random.shuffle(t)\n",
    "    permutations[i] = y.dot(t)/t.sum() - y.dot(~t)/(~t).sum()\n",
    "print 'permutation pval =',(1.+(np.abs(permutations)>=np.abs(delta)).sum())/(B+1.)"
   ]
  },
  {
   "cell_type": "code",
   "execution_count": 3,
   "metadata": {},
   "outputs": [
    {
     "name": "stdout",
     "output_type": "stream",
     "text": [
      "n = 100 firmoment 0.5135563422877752\n",
      "n = 100 secmoment"
     ]
    },
    {
     "ename": "NameError",
     "evalue": "name 'firmoment' is not defined",
     "output_type": "error",
     "traceback": [
      "\u001b[0;31m---------------------------------------------------------------------------\u001b[0m",
      "\u001b[0;31mNameError\u001b[0m                                 Traceback (most recent call last)",
      "\u001b[0;32m<ipython-input-3-9ef4c8c92154>\u001b[0m in \u001b[0;36m<module>\u001b[0;34m()\u001b[0m\n\u001b[1;32m      5\u001b[0m \u001b[0ma\u001b[0m \u001b[0;34m=\u001b[0m \u001b[0;36m1\u001b[0m\u001b[0;34m\u001b[0m\u001b[0m\n\u001b[1;32m      6\u001b[0m \u001b[0;32mprint\u001b[0m \u001b[0;34m\"n = 100 firmoment\"\u001b[0m\u001b[0;34m,\u001b[0m \u001b[0mnp\u001b[0m\u001b[0;34m.\u001b[0m\u001b[0mmean\u001b[0m\u001b[0;34m(\u001b[0m\u001b[0mnp\u001b[0m\u001b[0;34m.\u001b[0m\u001b[0mrandom\u001b[0m\u001b[0;34m.\u001b[0m\u001b[0mbeta\u001b[0m\u001b[0;34m(\u001b[0m\u001b[0ma\u001b[0m\u001b[0;34m,\u001b[0m\u001b[0mb\u001b[0m\u001b[0;34m,\u001b[0m\u001b[0mn\u001b[0m\u001b[0;34m)\u001b[0m\u001b[0;34m)\u001b[0m\u001b[0;34m\u001b[0m\u001b[0m\n\u001b[0;32m----> 7\u001b[0;31m \u001b[0;32mprint\u001b[0m \u001b[0;34m\"n = 100 secmoment\"\u001b[0m\u001b[0;34m,\u001b[0m \u001b[0mnp\u001b[0m\u001b[0;34m.\u001b[0m\u001b[0mvar\u001b[0m\u001b[0;34m(\u001b[0m\u001b[0mnp\u001b[0m\u001b[0;34m.\u001b[0m\u001b[0mrandom\u001b[0m\u001b[0;34m.\u001b[0m\u001b[0mbeta\u001b[0m\u001b[0;34m(\u001b[0m\u001b[0ma\u001b[0m\u001b[0;34m,\u001b[0m\u001b[0mb\u001b[0m\u001b[0;34m,\u001b[0m\u001b[0mn\u001b[0m\u001b[0;34m)\u001b[0m\u001b[0;34m)\u001b[0m \u001b[0;34m+\u001b[0m \u001b[0mfirmoment\u001b[0m\u001b[0;34m**\u001b[0m\u001b[0;36m2\u001b[0m\u001b[0;34m\u001b[0m\u001b[0m\n\u001b[0m\u001b[1;32m      8\u001b[0m \u001b[0mn\u001b[0m \u001b[0;34m=\u001b[0m \u001b[0;36m1000\u001b[0m\u001b[0;34m\u001b[0m\u001b[0m\n\u001b[1;32m      9\u001b[0m \u001b[0;32mprint\u001b[0m \u001b[0;34m\"n = 1000 firmoment\"\u001b[0m\u001b[0;34m,\u001b[0m \u001b[0mnp\u001b[0m\u001b[0;34m.\u001b[0m\u001b[0mmean\u001b[0m\u001b[0;34m(\u001b[0m\u001b[0mnp\u001b[0m\u001b[0;34m.\u001b[0m\u001b[0mrandom\u001b[0m\u001b[0;34m.\u001b[0m\u001b[0mbeta\u001b[0m\u001b[0;34m(\u001b[0m\u001b[0ma\u001b[0m\u001b[0;34m,\u001b[0m\u001b[0mb\u001b[0m\u001b[0;34m,\u001b[0m\u001b[0mn\u001b[0m\u001b[0;34m)\u001b[0m\u001b[0;34m)\u001b[0m\u001b[0;34m\u001b[0m\u001b[0m\n",
      "\u001b[0;31mNameError\u001b[0m: name 'firmoment' is not defined"
     ]
    }
   ],
   "source": [
    "#Q8\n",
    "#pt.d\n",
    "n = 100\n",
    "b = 1\n",
    "a = 1\n",
    "print \"n = 100 firmoment\", np.mean(np.random.beta(a,b,n))\n",
    "print \"n = 100 secmoment\", np.var(np.random.beta(a,b,n)) + firmoment**2\n",
    "n = 1000\n",
    "print \"n = 1000 firmoment\", np.mean(np.random.beta(a,b,n))\n",
    "print \"n = 1000 secmoment\", np.var(np.random.beta(a,b,n)) + firmoment**2\n",
    "n = 10000\n",
    "print \"n = 10000 firmoment\", np.mean(np.random.beta(a,b,n))\n",
    "print \"n = 10000 secmoment\", np.var(np.random.beta(a,b,n)) + firmoment**2"
   ]
  },
  {
   "cell_type": "code",
   "execution_count": null,
   "metadata": {},
   "outputs": [],
   "source": []
  }
 ],
 "metadata": {
  "kernelspec": {
   "display_name": "Python 2",
   "language": "python",
   "name": "python2"
  },
  "language_info": {
   "codemirror_mode": {
    "name": "ipython",
    "version": 2
   },
   "file_extension": ".py",
   "mimetype": "text/x-python",
   "name": "python",
   "nbconvert_exporter": "python",
   "pygments_lexer": "ipython2",
   "version": "2.7.13"
  }
 },
 "nbformat": 4,
 "nbformat_minor": 2
}
