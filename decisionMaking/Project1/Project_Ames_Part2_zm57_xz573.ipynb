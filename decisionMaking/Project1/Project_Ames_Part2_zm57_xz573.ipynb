{
 "cells": [
  {
   "cell_type": "code",
   "execution_count": 61,
   "metadata": {},
   "outputs": [
    {
     "name": "stdout",
     "output_type": "stream",
     "text": [
      "Using matplotlib backend: MacOSX\n",
      "Populating the interactive namespace from numpy and matplotlib\n"
     ]
    },
    {
     "name": "stderr",
     "output_type": "stream",
     "text": [
      "/Users/xizizhu/anaconda2/lib/python2.7/site-packages/IPython/core/magics/pylab.py:161: UserWarning: pylab import has clobbered these variables: ['cm']\n",
      "`%matplotlib` prevents importing * from pylab and numpy\n",
      "  \"\\n`%matplotlib` prevents importing * from pylab and numpy\"\n"
     ]
    }
   ],
   "source": [
    "%pylab\n",
    "%matplotlib inline\n",
    "\n",
    "import pandas as pd\n",
    "import numpy as np\n",
    "from __future__ import division\n",
    "import matplotlib.pyplot as plt\n",
    "from sklearn.model_selection import train_test_split\n",
    "from pylab import pcolor\n",
    "import scipy\n",
    "import statsmodels.api as sm\n",
    "import statsmodels.stats.api as sms\n",
    "\n",
    "%config InlineBackend.figure_format = 'png' #set 'png' here when working on notebook\n",
    "%matplotlib inline"
   ]
  },
  {
   "cell_type": "code",
   "execution_count": 2,
   "metadata": {},
   "outputs": [
    {
     "name": "stdout",
     "output_type": "stream",
     "text": [
      "180796.060068\n",
      "0.2924914675767918\n"
     ]
    }
   ],
   "source": [
    "#Q1_A\n",
    "'''\n",
    "According to pt.1 we chose 'SalePrice' as continous variable\n",
    "and we created a binary response variables 'those houses have sale prices \n",
    "over $200,000 \n",
    "\n",
    "'''\n",
    "data = pd.read_csv(\"ames_data.txt\", sep = '\\t')\n",
    "SaleOver2k = (np.array([data['SalePrice']>200000])*1).reshape(2930,1)\n",
    "#mean continous variable\n",
    "print np.mean(data['SalePrice'])\n",
    "#mean binary variable\n",
    "print np.mean(SaleOver2k)"
   ]
  },
  {
   "cell_type": "code",
   "execution_count": 3,
   "metadata": {},
   "outputs": [
    {
     "name": "stdout",
     "output_type": "stream",
     "text": [
      "95pct t-dist CI for avg diff = [24156.291660,337435.828476]\n",
      "95pct t-dist CI for avg diff = [-0.599478,1.184461]\n"
     ]
    }
   ],
   "source": [
    "#Q1_B, some codes borrowed from lecture9.ipynb\n",
    "'''\n",
    "the mean of sales price is approximately following the normal distribution \n",
    "with the following premise:\n",
    "\n",
    "1, the population distribution of the mean of sales price follows normal distribution\n",
    "according to CLT\n",
    "2, it is then subsampled to this dataset, which is similar to t distribution\n",
    "\n",
    "'''\n",
    "def ConstCI(dataset):\n",
    "    n = len(dataset)\n",
    "    m = np.mean(dataset)\n",
    "    sd = dataset.std()\n",
    "    Q = scipy.stats.t.ppf(1-.05/2,n-1)\n",
    "    print '95pct t-dist CI for avg diff = [%f,%f]'%(m-Q*sd,m+Q*sd)\n",
    "\n",
    "ConstCI(data['SalePrice'])\n",
    "ConstCI(SaleOver2k)"
   ]
  },
  {
   "cell_type": "code",
   "execution_count": null,
   "metadata": {},
   "outputs": [],
   "source": [
    "#Q1_C\n",
    "'''\n",
    "Positive: as long as the assumption is solid \n",
    "(most distribution's mean follows CLT), \n",
    "also with this many examples (data length: 1930), \n",
    "t distribution looks similar with normal distribution\n",
    "\n",
    "'''\n"
   ]
  },
  {
   "cell_type": "code",
   "execution_count": 4,
   "metadata": {},
   "outputs": [
    {
     "name": "stdout",
     "output_type": "stream",
     "text": [
      "KS test for normality\n",
      "KstestResult(statistic=1.0, pvalue=0.0)\n"
     ]
    },
    {
     "data": {
      "image/png": "[encoded data removed]",
      "text/plain": [
       "<matplotlib.figure.Figure at 0x1061bfa90>"
      ]
     },
     "metadata": {},
     "output_type": "display_data"
    }
   ],
   "source": [
    "#Q1_D\n",
    "print 'KS test for normality'\n",
    "print scipy.stats.kstest(data['SalePrice'], 'norm')\n",
    "fig = sm.graphics.qqplot(np.array(data['SalePrice']), scipy.stats.norm, fit=True, line='45')\n",
    "plt.title('QQ Plot')\n",
    "plt.show()\n",
    "# Y does not look like standard normal at all, as expected\n",
    "#1, KS test says it is not likely to be a normal distribution with pvalue  \n",
    "#KS test rejects the null hypothesis that the sample comes from normal distribution\n",
    "#with 99 percent confidence"
   ]
  },
  {
   "cell_type": "code",
   "execution_count": 50,
   "metadata": {},
   "outputs": [
    {
     "name": "stdout",
     "output_type": "stream",
     "text": [
      "mean of sales price given Grvl 106663.333333\n",
      "mean of sales price Pave 181100.92392\n",
      "95pct t-test CI (equal vars): (-119675.87922365409, -29199.301950666224)\n",
      "95pct t-test CI (Welch's): (-110515.777233212, -38359.40394110833)\n"
     ]
    }
   ],
   "source": [
    "#Q1_E, some codes borrowed from lecture9.ipynb\n",
    "#here we use the binary varible street taking two values: Grvl and Pave\n",
    "cm = sms.CompareMeans(\n",
    "    sms.DescrStatsW(data['SalePrice'][data['Street']=='Grvl']),\n",
    "    sms.DescrStatsW(data['SalePrice'][data['Street']=='Pave'])\n",
    ")\n",
    "print 'mean of sales price given Grvl', np.mean(data['SalePrice'][data['Street']=='Grvl'])\n",
    "print 'mean of sales price Pave', np.mean(data['SalePrice'][data['Street']=='Pave'])\n",
    "print '95pct t-test CI (equal vars):', cm.tconfint_diff()\n",
    "print '95pct t-test CI (Welch\\'s):', cm.tconfint_diff(usevar='unequal')\n"
   ]
  },
  {
   "cell_type": "code",
   "execution_count": 69,
   "metadata": {},
   "outputs": [
    {
     "name": "stdout",
     "output_type": "stream",
     "text": [
      "permutation pval = 0.001998001998\n"
     ]
    },
    {
     "data": {
      "image/png": "[encoded data removed]",
      "text/plain": [
       "<matplotlib.figure.Figure at 0x110c3d850>"
      ]
     },
     "metadata": {},
     "output_type": "display_data"
    }
   ],
   "source": [
    "#Q1_E, some codes borrowed from lecture7.ipynb\n",
    "t = np.array(data['Street']=='Grvl').astype('bool')\n",
    "B = 1000\n",
    "permutations = np.zeros(B)\n",
    "y = data['SalePrice']\n",
    "mean = np.mean(data['SalePrice'][data['Street']=='Grvl'])\n",
    "for i in range(B):\n",
    "    np.random.shuffle(t)\n",
    "    permutations[i] = y.dot(t)/t.sum() - y.dot(~t)/(~t).sum()\n",
    "hist(permutations)\n",
    "axvline(x=mean)\n",
    "print 'permutation pval =',(1.+(np.abs(permutations)>=np.abs(mean)).sum())/(B+1.)\n",
    "#Conclusion: reject H0 that the treatment variable has an effect on outcome variable"
   ]
  },
  {
   "cell_type": "code",
   "execution_count": null,
   "metadata": {},
   "outputs": [],
   "source": [
    "#Q1_F\n",
    "'''\n",
    "In term of making sense of part e casualy: \n",
    "Why is the type of road to property irrelavent to the price of the property?\n",
    "First of, property's pricing is mostly related to the quality of the property\n",
    "itself rather than anything.\n",
    "Second of, it is a unbalanced sample where \"Gravel\" only has \n",
    "12 samples out of 1930 samples, \n",
    "which is not sufficient to make concrete conclusion. \n",
    "'''"
   ]
  },
  {
   "cell_type": "code",
   "execution_count": null,
   "metadata": {},
   "outputs": [],
   "source": [
    "#Q2_A\n"
   ]
  },
  {
   "cell_type": "code",
   "execution_count": null,
   "metadata": {},
   "outputs": [],
   "source": []
  }
 ],
 "metadata": {
  "kernelspec": {
   "display_name": "Python 2",
   "language": "python",
   "name": "python2"
  },
  "language_info": {
   "codemirror_mode": {
    "name": "ipython",
    "version": 2
   },
   "file_extension": ".py",
   "mimetype": "text/x-python",
   "name": "python",
   "nbconvert_exporter": "python",
   "pygments_lexer": "ipython2",
   "version": "2.7.13"
  }
 },
 "nbformat": 4,
 "nbformat_minor": 2
}
