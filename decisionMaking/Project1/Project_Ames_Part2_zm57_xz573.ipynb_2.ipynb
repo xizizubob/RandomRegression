{
 "cells": [
  {
   "cell_type": "code",
   "execution_count": 17,
   "metadata": {},
   "outputs": [],
   "source": [
    "import pandas as pd\n",
    "import numpy as np\n",
    "import seaborn as sns\n",
    "import matplotlib\n",
    "import sklearn\n",
    "from scipy import stats\n",
    "import statsmodels.formula.api as sm\n",
    "\n",
    "import matplotlib.pyplot as plt\n",
    "from scipy.stats import skew\n",
    "from scipy.stats.stats import pearsonr\n",
    "from sklearn import linear_model\n",
    "\n",
    "\n",
    "%config InlineBackend.figure_format = 'png' #set 'png' here when working on notebook\n",
    "%matplotlib inline"
   ]
  },
  {
   "cell_type": "code",
   "execution_count": 2,
   "metadata": {},
   "outputs": [],
   "source": [
    "data = pd.read_excel(\"RawData.xlsx\")\n",
    "data=pd.get_dummies(data)"
   ]
  },
  {
   "cell_type": "code",
   "execution_count": 3,
   "metadata": {},
   "outputs": [
    {
     "data": {
      "text/plain": [
       "328"
      ]
     },
     "execution_count": 3,
     "metadata": {},
     "output_type": "execute_result"
    }
   ],
   "source": [
    "len(data.columns)"
   ]
  },
  {
   "cell_type": "markdown",
   "metadata": {},
   "source": [
    "# Q2.a"
   ]
  },
  {
   "cell_type": "code",
   "execution_count": 62,
   "metadata": {},
   "outputs": [],
   "source": [
    "non_cat=data[[\"Lot Frontage\",\"Lot Area\",\"Overall Qual\",\"Overall Cond\",\"Year Built\",\"Year Remod/Add\",\"Mas Vnr Area\",\"BsmtFin SF 1\",\"BsmtFin SF 2\",\"Bsmt Unf SF\",\"Total Bsmt SF\",\"1st Flr SF\",\"2nd Flr SF\",\"Low Qual Fin SF\",\"Gr Liv Area\",\"Bsmt Full Bath\",\"Bsmt Half Bath\",\"Full Bath\",\"Half Bath\",\"Bedroom AbvGr\",\"Kitchen AbvGr\",\"TotRms AbvGrd\",\"Fireplaces\",\"Garage Cars\",\"Garage Area\",\"Wood Deck SF\",\"Open Porch SF\",\"Enclosed Porch\",\"3Ssn Porch\",\"Screen Porch\",\"Pool Area\",\"Mo Sold\",\"Yr Sold\"]]"
   ]
  },
  {
   "cell_type": "code",
   "execution_count": 5,
   "metadata": {},
   "outputs": [],
   "source": [
    "pvalue=[]\n",
    "for i in non_cat:\n",
    "    a=np.array(data[i])\n",
    "    b=np.array(data[\"SalePrice\"])\n",
    "    slope, intercept, r_value, p_value, std_err = stats.linregress(a,b)\n",
    "    pvalue.append(p_value)"
   ]
  },
  {
   "cell_type": "code",
   "execution_count": 7,
   "metadata": {},
   "outputs": [
    {
     "name": "stdout",
     "output_type": "stream",
     "text": [
      "[['Lot Frontage' '2.692819347100139e-28']\n",
      " ['Lot Area' '8.412704980319314e-49']\n",
      " ['Overall Qual' '0.0']\n",
      " ['Overall Cond' '3.6625626792482755e-08']\n",
      " ['Year Built' '4.7911776785423254e-240']\n",
      " ['Year Remod/Add' '9.63102773844886e-215']\n",
      " ['Mas Vnr Area' '7.203264875059987e-187']\n",
      " ['BsmtFin SF 1' '3.1380198118447924e-134']\n",
      " ['BsmtFin SF 2' '0.747410200319529']\n",
      " ['Bsmt Unf SF' '1.4625216678407592e-23']\n",
      " ['Total Bsmt SF' '0.0']\n",
      " ['1st Flr SF' '9.07625866166e-313']\n",
      " ['2nd Flr SF' '5.431097618181768e-50']\n",
      " ['Low Qual Fin SF' '0.041457529640660455']\n",
      " ['Gr Liv Area' '0.0']\n",
      " ['Bsmt Full Bath' '3.094469362407378e-52']\n",
      " ['Bsmt Half Bath' '0.052270305499901415']\n",
      " ['Full Bath' '4.060898314853283e-227']\n",
      " ['Half Bath' '8.014870998257531e-56']\n",
      " ['Bedroom AbvGr' '4.224763968021181e-15']\n",
      " ['Kitchen AbvGr' '7.682102589825774e-11']\n",
      " ['TotRms AbvGrd' '2.2907489472358e-181']\n",
      " ['Fireplaces' '2.552509784468786e-164']\n",
      " ['Garage Cars' '0.0']\n",
      " ['Garage Area' '0.0']\n",
      " ['Wood Deck SF' '4.8624354673996716e-74']\n",
      " ['Open Porch SF' '1.6668847373307364e-67']\n",
      " ['Enclosed Porch' '2.9443756257890208e-12']\n",
      " ['3Ssn Porch' '0.08146043445599076']\n",
      " ['Screen Porch' '1.18515402208386e-09']\n",
      " ['Pool Area' '0.00021262697986482344']\n",
      " ['Mo Sold' '0.056743958206433694']\n",
      " ['Yr Sold' '0.09744698488703671']]\n"
     ]
    }
   ],
   "source": [
    "non_cat_name = [\"Lot Frontage\",\"Lot Area\",\"Overall Qual\",\"Overall Cond\",\"Year Built\",\"Year Remod/Add\",\"Mas Vnr Area\",\"BsmtFin SF 1\",\"BsmtFin SF 2\",\"Bsmt Unf SF\",\"Total Bsmt SF\",\"1st Flr SF\",\"2nd Flr SF\",\"Low Qual Fin SF\",\"Gr Liv Area\",\"Bsmt Full Bath\",\"Bsmt Half Bath\",\"Full Bath\",\"Half Bath\",\"Bedroom AbvGr\",\"Kitchen AbvGr\",\"TotRms AbvGrd\",\"Fireplaces\",\"Garage Cars\",\"Garage Area\",\"Wood Deck SF\",\"Open Porch SF\",\"Enclosed Porch\",\"3Ssn Porch\",\"Screen Porch\",\"Pool Area\",\"Mo Sold\",\"Yr Sold\"]\n",
    "pvalue_noncat = np.column_stack((non_cat_name, pvalue))\n",
    "print (pvalue_noncat)"
   ]
  },
  {
   "cell_type": "markdown",
   "metadata": {},
   "source": [
    "As we can see 'Overall Qual', 'Total Bsmt SF', 'Gr Liv Area', 'Garage Cars', 'Garage Area' have the lowest p-value, which equals zero. These variables are actually correlated to each other, and they are very related to the gross area of the house. This makes sense as larger gross area is usually correlated to higher sale price. In project part 1 (2g), 'Overall Qual', 'Gr Liv Area', 'Garage Cars', Garage Area ', 'Total Bsmt SF' have the highest absolute value of correlation to the response variable. These top 5 variables are the same as the top 5 with the lowest p-value, only with different orders. "
   ]
  },
  {
   "cell_type": "markdown",
   "metadata": {},
   "source": [
    "# Q2.b and c for linear and logistic"
   ]
  },
  {
   "cell_type": "code",
   "execution_count": 8,
   "metadata": {},
   "outputs": [],
   "source": [
    "variables = data.drop(columns=['SalePrice'])\n",
    "SalePrice_Linear = data[['SalePrice']]"
   ]
  },
  {
   "cell_type": "code",
   "execution_count": 10,
   "metadata": {},
   "outputs": [],
   "source": [
    "SalePrice_binary = np.array(SalePrice_Linear)"
   ]
  },
  {
   "cell_type": "code",
   "execution_count": 11,
   "metadata": {},
   "outputs": [
    {
     "name": "stdout",
     "output_type": "stream",
     "text": [
      "                            OLS Regression Results                            \n",
      "==============================================================================\n",
      "Dep. Variable:              SalePrice   R-squared:                       0.923\n",
      "Model:                            OLS   Adj. R-squared:                  0.915\n",
      "Method:                 Least Squares   F-statistic:                     116.5\n",
      "Date:                Thu, 15 Mar 2018   Prob (F-statistic):               0.00\n",
      "Time:                        22:09:02   Log-Likelihood:                -33449.\n",
      "No. Observations:                2928   AIC:                         6.745e+04\n",
      "Df Residuals:                    2653   BIC:                         6.909e+04\n",
      "Df Model:                         274                                         \n",
      "Covariance Type:            nonrobust                                         \n",
      "=====================================================================================================================================\n",
      "                                                                        coef    std err          t      P>|t|      [0.025      0.975]\n",
      "-------------------------------------------------------------------------------------------------------------------------------------\n",
      "Lot Frontage                                                          5.6003     16.331      0.343      0.732     -26.423      37.624\n",
      "Lot Area                                                              0.5138      0.086      5.961      0.000       0.345       0.683\n",
      "Overall Qual                                                       6444.5371    705.936      9.129      0.000    5060.296    7828.778\n",
      "Overall Cond                                                       5723.4299    600.279      9.535      0.000    4546.367    6900.493\n",
      "Year Built                                                          327.4678     57.592      5.686      0.000     214.538     440.397\n",
      "Year Remod/Add                                                       71.2205     38.165      1.866      0.062      -3.615     146.056\n",
      "Mas Vnr Area                                                         17.4425      4.147      4.206      0.000       9.311      25.574\n",
      "BsmtFin SF 1                                                         11.3643      1.875      6.062      0.000       7.688      15.040\n",
      "BsmtFin SF 2                                                         11.7345      3.864      3.037      0.002       4.157      19.312\n",
      "Bsmt Unf SF                                                          -4.2435      1.795     -2.364      0.018      -7.764      -0.723\n",
      "Total Bsmt SF                                                        18.8554      2.530      7.452      0.000      13.894      23.817\n",
      "1st Flr SF                                                            9.4078      3.889      2.419      0.016       1.783      17.033\n",
      "2nd Flr SF                                                           25.6085      3.553      7.208      0.000      18.642      32.575\n",
      "Low Qual Fin SF                                                      -2.3090      8.543     -0.270      0.787     -19.061      14.443\n",
      "Gr Liv Area                                                          32.7073      3.554      9.202      0.000      25.738      39.677\n",
      "Bsmt Full Bath                                                     3030.8981   1339.810      2.262      0.024     403.720    5658.076\n",
      "Bsmt Half Bath                                                    -3663.3111   2031.527     -1.803      0.071   -7646.849     320.226\n",
      "Full Bath                                                          5626.9137   1494.815      3.764      0.000    2695.792    8558.035\n",
      "Half Bath                                                          2610.5797   1431.499      1.824      0.068    -196.387    5417.547\n",
      "Bedroom AbvGr                                                     -1550.5112    942.899     -1.644      0.100   -3399.403     298.381\n",
      "Kitchen AbvGr                                                     -7813.4156   4425.463     -1.766      0.078   -1.65e+04     864.292\n",
      "TotRms AbvGrd                                                       121.2330    636.186      0.191      0.849   -1126.237    1368.703\n",
      "Fireplaces                                                         7112.5935   1764.900      4.030      0.000    3651.875    1.06e+04\n",
      "Garage Cars                                                        5322.0707   1590.662      3.346      0.001    2203.007    8441.135\n",
      "Garage Area                                                          15.7536      5.325      2.958      0.003       5.311      26.196\n",
      "Wood Deck SF                                                          6.4112      4.080      1.571      0.116      -1.589      14.412\n",
      "Open Porch SF                                                       -13.7519      7.781     -1.767      0.077     -29.009       1.505\n",
      "Enclosed Porch                                                        3.0326      8.188      0.370      0.711     -13.024      19.089\n",
      "3Ssn Porch                                                            8.3572     18.333      0.456      0.649     -27.591      44.305\n",
      "Screen Porch                                                         46.5608      8.522      5.463      0.000      29.850      63.272\n",
      "Pool Area                                                            39.8816     59.254      0.673      0.501     -76.308     156.071\n",
      "Mo Sold                                                            -269.4537    170.488     -1.580      0.114    -603.756      64.848\n",
      "Yr Sold                                                            -673.1622    357.505     -1.883      0.060   -1374.178      27.854\n",
      "MS SubClass_1-1/2 STORY - UNFINISHED ALL AGES                      2.243e+04   1.34e+04      1.677      0.094   -3794.594    4.86e+04\n",
      "MS SubClass_1-1/2 STORY FINISHED ALL AGES                           1.74e+04   7557.243      2.302      0.021    2577.424    3.22e+04\n",
      "MS SubClass_1-1/2 STORY PUD - ALL AGES                             -4.01e+04   2.57e+04     -1.563      0.118   -9.04e+04    1.02e+04\n",
      "MS SubClass_1-STORY 1945 & OLDER                                   1.211e+04   7310.660      1.656      0.098   -2228.644    2.64e+04\n",
      "MS SubClass_1-STORY 1946 & NEWER ALL STYLES                        9331.5039   6980.690      1.337      0.181   -4356.641     2.3e+04\n",
      "MS SubClass_1-STORY PUD (Planned Unit Development) - 1946 & NEWER -1.147e+04   9380.995     -1.223      0.221   -2.99e+04    6921.698\n",
      "MS SubClass_1-STORY W/FINISHED ATTIC ALL AGES                      2.274e+04   1.18e+04      1.931      0.054    -357.507    4.58e+04\n",
      "MS SubClass_2 FAMILY CONVERSION - ALL STYLES AND AGES              5679.8065   1.78e+04      0.319      0.750   -2.92e+04    4.06e+04\n",
      "MS SubClass_2-1/2 STORY ALL AGES                                   7940.0433   1.05e+04      0.759      0.448   -1.26e+04    2.84e+04\n",
      "MS SubClass_2-STORY 1945 & OLDER                                   1.866e+04   7309.400      2.553      0.011    4329.220     3.3e+04\n",
      "MS SubClass_2-STORY 1946 & NEWER                                   1.118e+04   7223.058      1.547      0.122   -2986.326    2.53e+04\n",
      "MS SubClass_2-STORY PUD - 1946 & NEWER                            -1.386e+04   9890.266     -1.401      0.161   -3.33e+04    5533.014\n",
      "MS SubClass_DUPLEX - ALL STYLES AND AGES                           4641.7630   1.24e+04      0.375      0.708   -1.96e+04    2.89e+04\n",
      "MS SubClass_PUD - MULTILEVEL - INCL SPLIT LEV/FOYER               -1.544e+04   1.18e+04     -1.312      0.190   -3.85e+04    7629.232\n",
      "MS SubClass_SPLIT FOYER                                            5026.5593   8810.450      0.571      0.568   -1.22e+04    2.23e+04\n",
      "MS SubClass_SPLIT OR MULTI-LEVEL                                  -1252.9362   1.08e+04     -0.116      0.908   -2.25e+04       2e+04\n",
      "MS Zoning_A (agr)                                                 -2971.0452   3.07e+04     -0.097      0.923   -6.31e+04    5.72e+04\n",
      "MS Zoning_C (all)                                                  1269.9977   1.47e+04      0.087      0.931   -2.75e+04    3.01e+04\n",
      "MS Zoning_FV                                                       8641.2703   1.44e+04      0.602      0.547   -1.95e+04    3.68e+04\n",
      "MS Zoning_I (all)                                                  1.359e+04   2.29e+04      0.593      0.554   -3.14e+04    5.86e+04\n",
      "MS Zoning_RH                                                       1.612e+04   1.45e+04      1.113      0.266   -1.23e+04    4.45e+04\n",
      "MS Zoning_RL                                                       1.158e+04   1.37e+04      0.847      0.397   -1.52e+04    3.84e+04\n",
      "MS Zoning_RM                                                       6766.3288   1.38e+04      0.491      0.624   -2.03e+04    3.38e+04\n",
      "Street_Grvl                                                        1.825e+04   4.39e+04      0.416      0.678   -6.79e+04    1.04e+05\n",
      "Street_Pave                                                        3.675e+04   4.39e+04      0.837      0.403   -4.94e+04    1.23e+05\n",
      "Alley_Grvl                                                         1.894e+04   2.92e+04      0.648      0.517   -3.83e+04    7.62e+04\n",
      "Alley_No Alley                                                     1.775e+04   2.92e+04      0.607      0.544   -3.96e+04    7.51e+04\n",
      "Alley_Pave                                                          1.83e+04   2.92e+04      0.626      0.531    -3.9e+04    7.56e+04\n",
      "Lot Shape_IR1                                                      1.073e+04    2.2e+04      0.489      0.625   -3.23e+04    5.38e+04\n",
      "Lot Shape_IR2                                                      1.624e+04    2.2e+04      0.738      0.460   -2.69e+04    5.94e+04\n",
      "Lot Shape_IR3                                                      1.569e+04   2.24e+04      0.701      0.483   -2.82e+04    5.96e+04\n",
      "Lot Shape_Reg                                                      1.233e+04    2.2e+04      0.561      0.575   -3.08e+04    5.55e+04\n",
      "Land Contour_Bnk                                                   7779.0901    2.2e+04      0.354      0.724   -3.54e+04    5.09e+04\n",
      "Land Contour_HLS                                                   2.219e+04    2.2e+04      1.010      0.313   -2.09e+04    6.53e+04\n",
      "Land Contour_Low                                                   7022.6504    2.2e+04      0.319      0.750   -3.62e+04    5.02e+04\n",
      "Land Contour_Lvl                                                   1.801e+04   2.19e+04      0.820      0.412    -2.5e+04     6.1e+04\n",
      "Utilities_AllPub                                                   3.159e+04   3.11e+04      1.014      0.311   -2.95e+04    9.27e+04\n",
      "Utilities_NoSeWa                                                   1549.1142   3.51e+04      0.044      0.965   -6.72e+04    7.03e+04\n",
      "Utilities_NoSewr                                                   2.186e+04   3.32e+04      0.659      0.510   -4.32e+04     8.7e+04\n",
      "Lot Config_Corner                                                  1.195e+04   1.76e+04      0.679      0.497   -2.26e+04    4.65e+04\n",
      "Lot Config_CulDSac                                                 1.781e+04   1.77e+04      1.006      0.314   -1.69e+04    5.25e+04\n",
      "Lot Config_FR2                                                     5977.8946   1.77e+04      0.337      0.736   -2.88e+04    4.08e+04\n",
      "Lot Config_FR3                                                     7736.3961   1.82e+04      0.426      0.670   -2.79e+04    4.33e+04\n",
      "Lot Config_Inside                                                  1.152e+04   1.76e+04      0.655      0.513    -2.3e+04     4.6e+04\n",
      "Land Slope_Gtl                                                     2.217e+04   2.92e+04      0.758      0.448   -3.52e+04    7.95e+04\n",
      "Land Slope_Mod                                                     2.998e+04   2.93e+04      1.024      0.306   -2.74e+04    8.74e+04\n",
      "Land Slope_Sev                                                     2845.2997   2.98e+04      0.095      0.924   -5.56e+04    6.13e+04\n",
      "Neighborhood_Blmngtn                                               -387.3054   6183.418     -0.063      0.950   -1.25e+04    1.17e+04\n",
      "Neighborhood_Blueste                                               5847.7153   8888.594      0.658      0.511   -1.16e+04    2.33e+04\n",
      "Neighborhood_BrDale                                                1.009e+04   6867.199      1.469      0.142   -3375.579    2.36e+04\n",
      "Neighborhood_BrkSide                                              -7647.6882   4756.894     -1.608      0.108    -1.7e+04    1679.908\n",
      "Neighborhood_ClearCr                                              -8269.0136   5566.024     -1.486      0.137   -1.92e+04    2645.172\n",
      "Neighborhood_CollgCr                                              -1.039e+04   3978.152     -2.612      0.009   -1.82e+04   -2591.045\n",
      "Neighborhood_Crawfor                                               4058.2572   4368.621      0.929      0.353   -4507.991    1.26e+04\n",
      "Neighborhood_Edwards                                              -2.179e+04   3998.737     -5.450      0.000   -2.96e+04    -1.4e+04\n",
      "Neighborhood_Gilbert                                               -1.32e+04   4374.909     -3.017      0.003   -2.18e+04   -4622.377\n",
      "Neighborhood_Greens                                                7497.4583   9770.142      0.767      0.443   -1.17e+04    2.67e+04\n",
      "Neighborhood_GrnHill                                               1.094e+05   1.69e+04      6.466      0.000    7.62e+04    1.43e+05\n",
      "Neighborhood_IDOTRR                                               -1.288e+04   5277.124     -2.440      0.015   -2.32e+04   -2529.624\n",
      "Neighborhood_Landmrk                                              -5839.0245   2.37e+04     -0.247      0.805   -5.22e+04    4.06e+04\n",
      "Neighborhood_MeadowV                                                614.3159   6873.671      0.089      0.929   -1.29e+04    1.41e+04\n",
      "Neighborhood_Mitchel                                              -1.628e+04   4285.079     -3.799      0.000   -2.47e+04   -7874.689\n",
      "Neighborhood_NAmes                                                 -1.62e+04   3829.073     -4.230      0.000   -2.37e+04   -8689.393\n",
      "Neighborhood_NPkVill                                               1.356e+04   1.03e+04      1.313      0.189   -6695.826    3.38e+04\n",
      "Neighborhood_NWAmes                                               -1.688e+04   4282.209     -3.941      0.000   -2.53e+04   -8481.179\n",
      "Neighborhood_NoRidge                                               2.898e+04   4962.462      5.840      0.000    1.93e+04    3.87e+04\n",
      "Neighborhood_NridgHt                                               2.143e+04   4471.467      4.794      0.000    1.27e+04    3.02e+04\n",
      "Neighborhood_OldTown                                              -1.762e+04   4672.451     -3.771      0.000   -2.68e+04   -8458.718\n",
      "Neighborhood_SWISU                                                -1.456e+04   5356.412     -2.718      0.007   -2.51e+04   -4057.852\n",
      "Neighborhood_Sawyer                                               -1.135e+04   4123.837     -2.752      0.006   -1.94e+04   -3261.487\n",
      "Neighborhood_SawyerW                                              -1.161e+04   4333.547     -2.679      0.007   -2.01e+04   -3110.487\n",
      "Neighborhood_Somerst                                               1.225e+04   5334.966      2.295      0.022    1784.893    2.27e+04\n",
      "Neighborhood_StoneBr                                               4.196e+04   5264.116      7.971      0.000    3.16e+04    5.23e+04\n",
      "Neighborhood_Timber                                               -7529.5228   4722.673     -1.594      0.111   -1.68e+04    1730.971\n",
      "Neighborhood_Veenker                                              -8241.5762   6229.772     -1.323      0.186   -2.05e+04    3974.125\n",
      "Condition 1_Artery                                                 -451.3184   1.03e+04     -0.044      0.965   -2.07e+04    1.98e+04\n",
      "Condition 1_Feedr                                                  3807.8030      1e+04      0.381      0.704   -1.58e+04    2.34e+04\n",
      "Condition 1_Norm                                                    1.27e+04   9885.506      1.284      0.199   -6687.485    3.21e+04\n",
      "Condition 1_PosA                                                   1.487e+04   1.11e+04      1.335      0.182   -6976.060    3.67e+04\n",
      "Condition 1_PosN                                                   1.932e+04   1.07e+04      1.813      0.070   -1574.240    4.02e+04\n",
      "Condition 1_RRAe                                                  -1461.5931   1.06e+04     -0.137      0.891   -2.23e+04    1.94e+04\n",
      "Condition 1_RRAn                                                   6340.2615   1.03e+04      0.617      0.537   -1.38e+04    2.65e+04\n",
      "Condition 1_RRNe                                                    845.5987   1.33e+04      0.063      0.949   -2.53e+04     2.7e+04\n",
      "Condition 1_RRNn                                                   -969.2338   1.23e+04     -0.079      0.937   -2.52e+04    2.32e+04\n",
      "Condition 2_Artery                                                  1.65e+04   1.61e+04      1.024      0.306   -1.51e+04    4.81e+04\n",
      "Condition 2_Feedr                                                  6563.4697    1.4e+04      0.470      0.638   -2.08e+04     3.4e+04\n",
      "Condition 2_Norm                                                   1.384e+04   1.25e+04      1.108      0.268   -1.07e+04    3.83e+04\n",
      "Condition 2_PosA                                                   7.407e+04   1.69e+04      4.391      0.000     4.1e+04    1.07e+05\n",
      "Condition 2_PosN                                                  -8.663e+04   1.67e+04     -5.196      0.000   -1.19e+05   -5.39e+04\n",
      "Condition 2_RRAe                                                  -3558.7694   2.85e+04     -0.125      0.901   -5.95e+04    5.24e+04\n",
      "Condition 2_RRAn                                                   1.404e+04   2.41e+04      0.582      0.560   -3.32e+04    6.13e+04\n",
      "Condition 2_RRNn                                                   2.018e+04   1.94e+04      1.041      0.298   -1.78e+04    5.82e+04\n",
      "Bldg Type_1Fam                                                     1.668e+04   1.98e+04      0.840      0.401   -2.22e+04    5.56e+04\n",
      "Bldg Type_2fmCon                                                   1.225e+04   2.39e+04      0.512      0.609   -3.47e+04    5.92e+04\n",
      "Bldg Type_Duplex                                                   4641.7630   1.24e+04      0.375      0.708   -1.96e+04    2.89e+04\n",
      "Bldg Type_Twnhs                                                    7210.1336   2.01e+04      0.359      0.720   -3.22e+04    4.66e+04\n",
      "Bldg Type_TwnhsE                                                   1.422e+04      2e+04      0.711      0.477    -2.5e+04    5.34e+04\n",
      "House Style_1.5Fin                                                 1340.8044    1.2e+04      0.112      0.911   -2.22e+04    2.49e+04\n",
      "House Style_1.5Unf                                                 5419.7877   1.54e+04      0.352      0.725   -2.48e+04    3.56e+04\n",
      "House Style_1Story                                                 1.512e+04    1.2e+04      1.265      0.206   -8321.799    3.86e+04\n",
      "House Style_2.5Fin                                                -6094.7297   1.54e+04     -0.395      0.693   -3.63e+04    2.42e+04\n",
      "House Style_2.5Unf                                                 8087.1893   1.32e+04      0.612      0.541   -1.78e+04     3.4e+04\n",
      "House Style_2Story                                                 -136.8822   1.18e+04     -0.012      0.991   -2.34e+04    2.31e+04\n",
      "House Style_SFoyer                                                  1.41e+04   1.25e+04      1.127      0.260   -1.04e+04    3.86e+04\n",
      "House Style_SLvl                                                   1.717e+04   1.37e+04      1.253      0.210   -9697.738     4.4e+04\n",
      "Roof Style_Flat                                                   -5313.8441   1.74e+04     -0.305      0.760   -3.95e+04    2.88e+04\n",
      "Roof Style_Gable                                                   1.158e+04    1.5e+04      0.771      0.441   -1.79e+04     4.1e+04\n",
      "Roof Style_Gambrel                                                 9891.3068   1.57e+04      0.628      0.530    -2.1e+04    4.08e+04\n",
      "Roof Style_Hip                                                     1.267e+04   1.51e+04      0.842      0.400   -1.68e+04    4.22e+04\n",
      "Roof Style_Mansard                                                 3328.8819   1.65e+04      0.202      0.840    -2.9e+04    3.57e+04\n",
      "Roof Style_Shed                                                    2.284e+04   1.98e+04      1.156      0.248   -1.59e+04    6.16e+04\n",
      "Roof Matl_ClyTile                                                 -5.095e+05   3.32e+04    -15.343      0.000   -5.75e+05   -4.44e+05\n",
      "Roof Matl_CompShg                                                    5.6e+04   1.38e+04      4.062      0.000     2.9e+04     8.3e+04\n",
      "Roof Matl_Membran                                                  1.137e+05   2.63e+04      4.317      0.000    6.21e+04    1.65e+05\n",
      "Roof Matl_Metal                                                    1.003e+05   2.59e+04      3.867      0.000    4.94e+04    1.51e+05\n",
      "Roof Matl_Roll                                                     6.258e+04   2.54e+04      2.468      0.014    1.28e+04    1.12e+05\n",
      "Roof Matl_Tar&Grv                                                  6.095e+04   1.46e+04      4.186      0.000    3.24e+04    8.95e+04\n",
      "Roof Matl_WdShake                                                  5.347e+04   1.58e+04      3.378      0.001    2.24e+04    8.45e+04\n",
      "Roof Matl_WdShngl                                                  1.175e+05   1.59e+04      7.394      0.000    8.63e+04    1.49e+05\n",
      "Exterior 1st_AsbShng                                                583.1733   9564.278      0.061      0.951   -1.82e+04    1.93e+04\n",
      "Exterior 1st_AsphShn                                              -1.193e+04   2.42e+04     -0.493      0.622   -5.94e+04    3.55e+04\n",
      "Exterior 1st_BrkComm                                               1.348e+04   1.34e+04      1.004      0.315   -1.28e+04    3.98e+04\n",
      "Exterior 1st_BrkFace                                               2.021e+04   7533.058      2.682      0.007    5435.668     3.5e+04\n",
      "Exterior 1st_CBlock                                                1.004e+04   2.85e+04      0.353      0.724   -4.58e+04    6.58e+04\n",
      "Exterior 1st_CemntBd                                              -4873.6026   1.33e+04     -0.365      0.715    -3.1e+04    2.13e+04\n",
      "Exterior 1st_HdBoard                                              -2349.2660   7136.461     -0.329      0.742   -1.63e+04    1.16e+04\n",
      "Exterior 1st_ImStucc                                              -1.999e+04   2.39e+04     -0.836      0.403   -6.69e+04    2.69e+04\n",
      "Exterior 1st_MetalSd                                               3135.3769   8331.368      0.376      0.707   -1.32e+04    1.95e+04\n",
      "Exterior 1st_Plywood                                                800.1695   7158.083      0.112      0.911   -1.32e+04    1.48e+04\n",
      "Exterior 1st_PreCast                                               3.753e+04    1.3e+04      2.884      0.004     1.2e+04    6.31e+04\n",
      "Exterior 1st_Stone                                                 1.052e+04   1.89e+04      0.558      0.577   -2.65e+04    4.75e+04\n",
      "Exterior 1st_Stucco                                                4080.0394   8442.398      0.483      0.629   -1.25e+04    2.06e+04\n",
      "Exterior 1st_VinylSd                                              -5271.2767   8175.367     -0.645      0.519   -2.13e+04    1.08e+04\n",
      "Exterior 1st_Wd Sdng                                               1316.0616   7058.024      0.186      0.852   -1.25e+04    1.52e+04\n",
      "Exterior 1st_WdShing                                              -2285.8829   7737.409     -0.295      0.768   -1.75e+04    1.29e+04\n",
      "Exterior 2nd_AsbShng                                               1264.4635   9650.561      0.131      0.896   -1.77e+04    2.02e+04\n",
      "Exterior 2nd_AsphShn                                               1.773e+04   1.75e+04      1.011      0.312   -1.66e+04    5.21e+04\n",
      "Exterior 2nd_Brk Cmn                                              -3894.5393   1.19e+04     -0.327      0.744   -2.73e+04    1.95e+04\n",
      "Exterior 2nd_BrkFace                                              -3432.1558   7508.220     -0.457      0.648   -1.82e+04    1.13e+04\n",
      "Exterior 2nd_CBlock                                                2378.3008   2.33e+04      0.102      0.919   -4.32e+04     4.8e+04\n",
      "Exterior 2nd_CmentBd                                               5452.8320   1.32e+04      0.413      0.679   -2.04e+04    3.13e+04\n",
      "Exterior 2nd_HdBoard                                               3073.7628   6581.232      0.467      0.641   -9831.103     1.6e+04\n",
      "Exterior 2nd_ImStucc                                               7413.1305   8707.882      0.851      0.395   -9661.795    2.45e+04\n",
      "Exterior 2nd_MetalSd                                               2175.6283   7516.519      0.289      0.772   -1.26e+04    1.69e+04\n",
      "Exterior 2nd_Other                                                  -1.5e+04   2.35e+04     -0.638      0.524   -6.11e+04    3.11e+04\n",
      "Exterior 2nd_Plywood                                                551.4924   6386.385      0.086      0.931    -1.2e+04    1.31e+04\n",
      "Exterior 2nd_PreCast                                               3.753e+04    1.3e+04      2.884      0.004     1.2e+04    6.31e+04\n",
      "Exterior 2nd_Stone                                                -1.364e+04   1.22e+04     -1.119      0.263   -3.75e+04    1.03e+04\n",
      "Exterior 2nd_Stucco                                                -295.1768   7617.344     -0.039      0.969   -1.52e+04    1.46e+04\n",
      "Exterior 2nd_VinylSd                                               9108.4876   7330.371      1.243      0.214   -5265.334    2.35e+04\n",
      "Exterior 2nd_Wd Sdng                                               1580.6915   6363.158      0.248      0.804   -1.09e+04    1.41e+04\n",
      "Exterior 2nd_Wd Shng                                               2990.4980   6745.434      0.443      0.658   -1.02e+04    1.62e+04\n",
      "Mas Vnr Type_BrkCmn                                                1.988e+04   1.88e+04      1.057      0.291    -1.7e+04    5.68e+04\n",
      "Mas Vnr Type_BrkFace                                               2.386e+04   1.85e+04      1.290      0.197   -1.24e+04    6.01e+04\n",
      "Mas Vnr Type_CBlock                                                -4.29e+04   2.92e+04     -1.467      0.143      -1e+05    1.44e+04\n",
      "Mas Vnr Type_None                                                  2.657e+04   1.85e+04      1.438      0.151   -9659.714    6.28e+04\n",
      "Mas Vnr Type_Stone                                                 2.758e+04   1.87e+04      1.476      0.140   -9058.049    6.42e+04\n",
      "Exter Qual_Ex                                                      2.996e+04   2.22e+04      1.353      0.176   -1.35e+04    7.34e+04\n",
      "Exter Qual_Fa                                                      1.299e+04   2.24e+04      0.581      0.561   -3.08e+04    5.68e+04\n",
      "Exter Qual_Gd                                                      6726.3406   2.19e+04      0.307      0.759   -3.62e+04    4.96e+04\n",
      "Exter Qual_TA                                                      5310.9984   2.18e+04      0.243      0.808   -3.75e+04    4.81e+04\n",
      "Exter Cond_Ex                                                      9739.4125   1.86e+04      0.523      0.601   -2.68e+04    4.62e+04\n",
      "Exter Cond_Fa                                                      1.077e+04    1.8e+04      0.599      0.549   -2.45e+04     4.6e+04\n",
      "Exter Cond_Gd                                                      1.488e+04   1.78e+04      0.834      0.404   -2.01e+04    4.98e+04\n",
      "Exter Cond_Po                                                      3402.2253   2.25e+04      0.151      0.880   -4.07e+04    4.75e+04\n",
      "Exter Cond_TA                                                      1.621e+04   1.78e+04      0.912      0.362   -1.86e+04     5.1e+04\n",
      "Foundation_BrkTil                                                  8928.8540   1.48e+04      0.603      0.547   -2.01e+04     3.8e+04\n",
      "Foundation_CBlock                                                  1.003e+04   1.48e+04      0.679      0.497   -1.89e+04     3.9e+04\n",
      "Foundation_PConc                                                   1.136e+04   1.48e+04      0.766      0.443   -1.77e+04    4.04e+04\n",
      "Foundation_Slab                                                    6378.0652   1.55e+04      0.411      0.681    -2.4e+04    3.68e+04\n",
      "Foundation_Stone                                                   2.064e+04   1.63e+04      1.268      0.205   -1.13e+04    5.26e+04\n",
      "Foundation_Wood                                                   -2339.2569   1.74e+04     -0.134      0.893   -3.65e+04    3.18e+04\n",
      "Bsmt Qual_Ex                                                       2.032e+04   1.54e+04      1.318      0.188   -9914.627    5.05e+04\n",
      "Bsmt Qual_Fa                                                       5030.5841   1.53e+04      0.329      0.742   -2.49e+04     3.5e+04\n",
      "Bsmt Qual_Gd                                                       1414.8331   1.53e+04      0.093      0.926   -2.86e+04    3.14e+04\n",
      "Bsmt Qual_No Basement                                              1.307e+04    1.5e+04      0.870      0.384   -1.64e+04    4.25e+04\n",
      "Bsmt Qual_Po                                                       1.199e+04   2.19e+04      0.549      0.583   -3.09e+04    5.48e+04\n",
      "Bsmt Qual_TA                                                       3178.9203   1.52e+04      0.209      0.835   -2.67e+04     3.3e+04\n",
      "Bsmt Cond_Ex                                                       1595.3320   1.88e+04      0.085      0.932   -3.53e+04    3.85e+04\n",
      "Bsmt Cond_Fa                                                       8342.7397   1.52e+04      0.547      0.584   -2.15e+04    3.82e+04\n",
      "Bsmt Cond_Gd                                                       7477.9127   1.52e+04      0.493      0.622   -2.23e+04    3.72e+04\n",
      "Bsmt Cond_No Basement                                              1.307e+04    1.5e+04      0.870      0.384   -1.64e+04    4.25e+04\n",
      "Bsmt Cond_Po                                                       1.712e+04   1.84e+04      0.929      0.353    -1.9e+04    5.33e+04\n",
      "Bsmt Cond_TA                                                       7391.9362   1.52e+04      0.486      0.627   -2.24e+04    3.72e+04\n",
      "Bsmt Exposure_Av                                                   1.178e+04    1.5e+04      0.787      0.431   -1.76e+04    4.11e+04\n",
      "Bsmt Exposure_Gd                                                   2.297e+04    1.5e+04      1.532      0.126   -6428.860    5.24e+04\n",
      "Bsmt Exposure_Mn                                                   4539.0719    1.5e+04      0.303      0.762   -2.49e+04    3.39e+04\n",
      "Bsmt Exposure_No                                                   5172.7470    1.5e+04      0.344      0.731   -2.43e+04    3.46e+04\n",
      "Bsmt Exposure_No Basement                                          1.307e+04    1.5e+04      0.870      0.384   -1.64e+04    4.25e+04\n",
      "Bsmt Exposure_No Exposure                                         -2538.7969   1.85e+04     -0.137      0.891   -3.88e+04    3.37e+04\n",
      "BsmtFin Type 1_ALQ                                                 7382.2873   1.23e+04      0.599      0.549   -1.68e+04    3.16e+04\n",
      "BsmtFin Type 1_BLQ                                                 7525.4260   1.24e+04      0.609      0.543   -1.67e+04    3.18e+04\n",
      "BsmtFin Type 1_GLQ                                                 1.073e+04   1.24e+04      0.864      0.388   -1.36e+04    3.51e+04\n",
      "BsmtFin Type 1_LwQ                                                 2678.5139   1.24e+04      0.216      0.829   -2.16e+04     2.7e+04\n",
      "BsmtFin Type 1_No Basement                                         1.307e+04    1.5e+04      0.870      0.384   -1.64e+04    4.25e+04\n",
      "BsmtFin Type 1_Rec                                                 5214.7374   1.23e+04      0.423      0.673    -1.9e+04    2.94e+04\n",
      "BsmtFin Type 1_Unf                                                 8391.1441   1.23e+04      0.679      0.497   -1.58e+04    3.26e+04\n",
      "BsmtFin Type 2_0                                                  -1.541e+04   3.74e+04     -0.411      0.681   -8.88e+04     5.8e+04\n",
      "BsmtFin Type 2_ALQ                                                 1.613e+04   1.37e+04      1.179      0.238   -1.07e+04     4.3e+04\n",
      "BsmtFin Type 2_BLQ                                                 8979.6949   1.35e+04      0.666      0.506   -1.75e+04    3.54e+04\n",
      "BsmtFin Type 2_GLQ                                                 2.054e+04   1.41e+04      1.460      0.144   -7047.041    4.81e+04\n",
      "BsmtFin Type 2_LwQ                                                 7033.7382   1.35e+04      0.523      0.601   -1.94e+04    3.34e+04\n",
      "BsmtFin Type 2_No Basement                                        -4848.3135   2.18e+04     -0.223      0.824   -4.75e+04    3.78e+04\n",
      "BsmtFin Type 2_Rec                                                 8619.2032   1.34e+04      0.643      0.520   -1.77e+04    3.49e+04\n",
      "BsmtFin Type 2_Unf                                                 1.395e+04   1.34e+04      1.044      0.297   -1.23e+04    4.02e+04\n",
      "Heating_Floor                                                      7724.8762   2.55e+04      0.303      0.762   -4.23e+04    5.78e+04\n",
      "Heating_GasA                                                       1.399e+04   1.56e+04      0.896      0.371   -1.66e+04    4.46e+04\n",
      "Heating_GasW                                                       1.464e+04    1.6e+04      0.913      0.361   -1.68e+04    4.61e+04\n",
      "Heating_Grav                                                       1.007e+04   1.75e+04      0.574      0.566   -2.43e+04    4.44e+04\n",
      "Heating_OthW                                                      -1.468e+04   2.13e+04     -0.689      0.491   -5.65e+04    2.71e+04\n",
      "Heating_Wall                                                       2.326e+04   1.87e+04      1.245      0.213   -1.34e+04    5.99e+04\n",
      "Heating QC_Ex                                                      1.674e+04   1.78e+04      0.939      0.348   -1.82e+04    5.17e+04\n",
      "Heating QC_Fa                                                      1.324e+04   1.79e+04      0.739      0.460   -2.19e+04    4.84e+04\n",
      "Heating QC_Gd                                                      1.482e+04   1.78e+04      0.834      0.404      -2e+04    4.96e+04\n",
      "Heating QC_Po                                                     -3372.3312   2.24e+04     -0.151      0.880   -4.73e+04    4.06e+04\n",
      "Heating QC_TA                                                      1.357e+04   1.78e+04      0.761      0.447   -2.14e+04    4.85e+04\n",
      "Central Air_N                                                      2.908e+04   4.37e+04      0.665      0.506   -5.67e+04    1.15e+05\n",
      "Central Air_Y                                                      2.592e+04   4.38e+04      0.592      0.554   -5.99e+04    1.12e+05\n",
      "Electrical_FuseA                                                   7331.1513   1.87e+04      0.392      0.695   -2.94e+04     4.4e+04\n",
      "Electrical_FuseF                                                   7025.4850   1.89e+04      0.372      0.710      -3e+04    4.41e+04\n",
      "Electrical_FuseP                                                   6510.8671      2e+04      0.326      0.744   -3.26e+04    4.57e+04\n",
      "Electrical_Mix                                                     2.739e+04   3.07e+04      0.891      0.373   -3.29e+04    8.76e+04\n",
      "Electrical_SBrkr                                                   6742.2345   1.88e+04      0.359      0.719      -3e+04    4.35e+04\n",
      "Kitchen Qual_Ex                                                    2.447e+04   1.83e+04      1.339      0.181   -1.14e+04    6.03e+04\n",
      "Kitchen Qual_Fa                                                     830.9238   1.82e+04      0.046      0.964   -3.49e+04    3.66e+04\n",
      "Kitchen Qual_Gd                                                    2215.4817   1.82e+04      0.122      0.903   -3.34e+04    3.79e+04\n",
      "Kitchen Qual_Po                                                    2.677e+04   2.69e+04      0.996      0.320   -2.59e+04    7.95e+04\n",
      "Kitchen Qual_TA                                                     712.3581   1.81e+04      0.039      0.969   -3.48e+04    3.62e+04\n",
      "Functional_Maj1                                                    5744.5279   1.25e+04      0.460      0.646   -1.88e+04    3.02e+04\n",
      "Functional_Maj2                                                    -115.2447   1.42e+04     -0.008      0.994   -2.79e+04    2.77e+04\n",
      "Functional_Min1                                                    1.463e+04   1.19e+04      1.226      0.220   -8771.012     3.8e+04\n",
      "Functional_Min2                                                     1.29e+04    1.2e+04      1.076      0.282   -1.06e+04    3.64e+04\n",
      "Functional_Mod                                                     8457.6252   1.23e+04      0.690      0.491   -1.56e+04    3.25e+04\n",
      "Functional_Sal                                                    -1965.9761   2.31e+04     -0.085      0.932   -4.72e+04    4.32e+04\n",
      "Functional_Sev                                                    -5387.2450   1.97e+04     -0.273      0.785    -4.4e+04    3.33e+04\n",
      "Functional_Typ                                                     2.073e+04   1.17e+04      1.772      0.077   -2212.367    4.37e+04\n",
      "Fireplace Qu_Ex                                                    1.536e+04   1.49e+04      1.027      0.304    -1.4e+04    4.47e+04\n",
      "Fireplace Qu_Fa                                                    4831.3491   1.48e+04      0.327      0.744   -2.42e+04    3.38e+04\n",
      "Fireplace Qu_Gd                                                    7808.6054   1.46e+04      0.533      0.594   -2.09e+04    3.65e+04\n",
      "Fireplace Qu_No Fireplace                                          1.154e+04   1.48e+04      0.782      0.434   -1.74e+04    4.05e+04\n",
      "Fireplace Qu_Po                                                    7979.4201   1.49e+04      0.534      0.593   -2.13e+04    3.73e+04\n",
      "Fireplace Qu_TA                                                    7485.1373   1.46e+04      0.512      0.609   -2.12e+04    3.62e+04\n",
      "Garage Type_2Types                                                -2405.4932   1.26e+04     -0.191      0.849   -2.71e+04    2.23e+04\n",
      "Garage Type_Attchd                                                 9950.6195    1.2e+04      0.827      0.408   -1.36e+04    3.35e+04\n",
      "Garage Type_Basment                                                 1.13e+04   1.28e+04      0.882      0.378   -1.38e+04    3.64e+04\n",
      "Garage Type_BuiltIn                                                8824.1266   1.22e+04      0.721      0.471   -1.52e+04    3.28e+04\n",
      "Garage Type_CarPort                                                5625.2853   1.31e+04      0.430      0.667      -2e+04    3.13e+04\n",
      "Garage Type_Detchd                                                 9273.3220   1.21e+04      0.768      0.442   -1.44e+04    3.29e+04\n",
      "Garage Type_No Garage                                              1.242e+04   1.61e+04      0.770      0.441   -1.92e+04     4.4e+04\n",
      "Garage Finish_Fin                                                  1.524e+04   2.38e+04      0.639      0.523   -3.15e+04     6.2e+04\n",
      "Garage Finish_No Garage                                            1.242e+04   1.61e+04      0.770      0.441   -1.92e+04     4.4e+04\n",
      "Garage Finish_RFn                                                  1.235e+04   2.38e+04      0.519      0.604   -3.43e+04     5.9e+04\n",
      "Garage Finish_Unf                                                  1.499e+04   2.38e+04      0.630      0.529   -3.17e+04    6.17e+04\n",
      "Garage Qual_Ex                                                     7.221e+04   2.19e+04      3.291      0.001    2.92e+04    1.15e+05\n",
      "Garage Qual_Fa                                                    -8300.0396   1.53e+04     -0.542      0.588   -3.83e+04    2.17e+04\n",
      "Garage Qual_Gd                                                     7728.1105   1.57e+04      0.493      0.622    -2.3e+04    3.85e+04\n",
      "Garage Qual_No Garage                                              1.242e+04   1.61e+04      0.770      0.441   -1.92e+04     4.4e+04\n",
      "Garage Qual_Po                                                     -2.17e+04   1.91e+04     -1.139      0.255   -5.91e+04    1.57e+04\n",
      "Garage Qual_TA                                                    -7365.5270   1.54e+04     -0.479      0.632   -3.75e+04    2.28e+04\n",
      "Garage Cond_Ex                                                    -4.051e+04   2.15e+04     -1.887      0.059   -8.26e+04    1588.826\n",
      "Garage Cond_Fa                                                     2.192e+04   1.52e+04      1.444      0.149   -7844.003    5.17e+04\n",
      "Garage Cond_Gd                                                     1.411e+04   1.57e+04      0.899      0.369   -1.67e+04    4.49e+04\n",
      "Garage Cond_No Garage                                              1.242e+04   1.61e+04      0.770      0.441   -1.92e+04     4.4e+04\n",
      "Garage Cond_Po                                                     2.377e+04   1.63e+04      1.459      0.145   -8187.120    5.57e+04\n",
      "Garage Cond_TA                                                     2.327e+04    1.5e+04      1.553      0.121   -6113.635    5.27e+04\n",
      "Paved Drive_N                                                      1.872e+04   2.92e+04      0.642      0.521   -3.85e+04    7.59e+04\n",
      "Paved Drive_P                                                      1.722e+04   2.92e+04      0.589      0.556   -4.01e+04    7.45e+04\n",
      "Paved Drive_Y                                                      1.905e+04   2.92e+04      0.652      0.515   -3.83e+04    7.64e+04\n",
      "Pool QC_Ex                                                         8.354e+04   2.12e+04      3.935      0.000    4.19e+04    1.25e+05\n",
      "Pool QC_Fa                                                        -2.847e+04   2.49e+04     -1.145      0.252   -7.72e+04    2.03e+04\n",
      "Pool QC_Gd                                                         8117.9429   2.79e+04      0.291      0.771   -4.66e+04    6.28e+04\n",
      "Pool QC_No Pool                                                   -1887.5864   3.03e+04     -0.062      0.950   -6.13e+04    5.75e+04\n",
      "Pool QC_TA                                                        -6306.5420   2.19e+04     -0.288      0.774   -4.93e+04    3.67e+04\n",
      "Fence_GdPrv                                                        9380.6282   1.77e+04      0.530      0.596   -2.54e+04    4.41e+04\n",
      "Fence_GdWo                                                         1.227e+04   1.77e+04      0.693      0.488   -2.24e+04     4.7e+04\n",
      "Fence_MnPrv                                                        1.249e+04   1.76e+04      0.709      0.478   -2.21e+04     4.7e+04\n",
      "Fence_MnWw                                                         1.017e+04   1.83e+04      0.557      0.578   -2.56e+04     4.6e+04\n",
      "Fence_No Fence                                                     1.069e+04   1.76e+04      0.608      0.543   -2.38e+04    4.51e+04\n",
      "Sale Type_COD                                                      -140.5153   9743.670     -0.014      0.988   -1.92e+04     1.9e+04\n",
      "Sale Type_CWD                                                      7985.4900    1.1e+04      0.725      0.469   -1.36e+04    2.96e+04\n",
      "Sale Type_Con                                                      2.826e+04   1.35e+04      2.089      0.037    1730.464    5.48e+04\n",
      "Sale Type_ConLD                                                    7196.0249   1.05e+04      0.687      0.492   -1.33e+04    2.77e+04\n",
      "Sale Type_ConLI                                                     683.5353   1.19e+04      0.058      0.954   -2.26e+04     2.4e+04\n",
      "Sale Type_ConLw                                                    4063.7183   1.22e+04      0.333      0.739   -1.98e+04     2.8e+04\n",
      "Sale Type_New                                                      9083.1472   1.29e+04      0.707      0.480   -1.61e+04    3.43e+04\n",
      "Sale Type_Oth                                                      3784.9334   1.26e+04      0.301      0.763   -2.09e+04    2.84e+04\n",
      "Sale Type_VWD                                                     -7376.3033   2.35e+04     -0.314      0.753   -5.34e+04    3.87e+04\n",
      "Sale Type_WD                                                       1453.6255   9324.541      0.156      0.876   -1.68e+04    1.97e+04\n",
      "Sale Condition_Abnorml                                              718.9177   1.49e+04      0.048      0.962   -2.85e+04    2.99e+04\n",
      "Sale Condition_AdjLand                                              2.05e+04   1.57e+04      1.304      0.193   -1.03e+04    5.13e+04\n",
      "Sale Condition_Alloca                                              1.323e+04   1.58e+04      0.839      0.402   -1.77e+04    4.42e+04\n",
      "Sale Condition_Family                                              2834.0877   1.51e+04      0.188      0.851   -2.67e+04    3.24e+04\n",
      "Sale Condition_Normal                                              8624.7535   1.49e+04      0.579      0.563   -2.06e+04    3.78e+04\n",
      "Sale Condition_Partial                                             9081.8503   1.69e+04      0.537      0.591   -2.41e+04    4.23e+04\n",
      "==============================================================================\n",
      "Omnibus:                     2087.309   Durbin-Watson:                   1.713\n",
      "Prob(Omnibus):                  0.000   Jarque-Bera (JB):           440108.910\n",
      "Skew:                          -2.367   Prob(JB):                         0.00\n",
      "Kurtosis:                      62.875   Cond. No.                     1.33e+16\n",
      "==============================================================================\n",
      "\n",
      "Warnings:\n",
      "[1] Standard Errors assume that the covariance matrix of the errors is correctly specified.\n",
      "[2] The smallest eigenvalue is 2.93e-21. This might indicate that there are\n",
      "strong multicollinearity problems or that the design matrix is singular.\n"
     ]
    }
   ],
   "source": [
    "mod = sm.OLS(SalePrice_Linear,variables)\n",
    "res = mod.fit()\n",
    "print(res.summary())"
   ]
  },
  {
   "cell_type": "markdown",
   "metadata": {},
   "source": [
    "This is the summary for the linear regression model. Statistical significance means that these coefficients has value that doesn't equal to zero. As we can see, most of the significant coefficients are those that are related to the size of the house, the condition of the house, and the location of the house. I do believe the results becasue intuitively speaking, these 3 parts are the determine factors of house price. They are also very similar to what we measured in part a. "
   ]
  },
  {
   "cell_type": "code",
   "execution_count": 12,
   "metadata": {},
   "outputs": [],
   "source": [
    "for i in range(2928):\n",
    "    if SalePrice_binary[i]> 200000:\n",
    "        SalePrice_binary[i]=0\n",
    "    else:\n",
    "        SalePrice_binary[i]=1"
   ]
  },
  {
   "cell_type": "code",
   "execution_count": 61,
   "metadata": {},
   "outputs": [],
   "source": [
    "SalePrice_binary=pd.DataFrame(SalePrice_binary)"
   ]
  },
  {
   "cell_type": "code",
   "execution_count": 14,
   "metadata": {},
   "outputs": [
    {
     "name": "stderr",
     "output_type": "stream",
     "text": [
      "/Applications/anaconda/envs/py36/lib/python3.6/site-packages/statsmodels/discrete/discrete_model.py:1214: RuntimeWarning: overflow encountered in exp\n",
      "  return 1/(1+np.exp(-X))\n",
      "/Applications/anaconda/envs/py36/lib/python3.6/site-packages/statsmodels/discrete/discrete_model.py:1264: RuntimeWarning: divide by zero encountered in log\n",
      "  return np.sum(np.log(self.cdf(q*np.dot(X,params))))\n"
     ]
    },
    {
     "name": "stdout",
     "output_type": "stream",
     "text": [
      "Warning: Maximum number of iterations has been exceeded.\n",
      "         Current function value: inf\n",
      "         Iterations: 35\n"
     ]
    },
    {
     "ename": "LinAlgError",
     "evalue": "Singular matrix",
     "output_type": "error",
     "traceback": [
      "\u001b[0;31m---------------------------------------------------------------------------\u001b[0m",
      "\u001b[0;31mLinAlgError\u001b[0m                               Traceback (most recent call last)",
      "\u001b[0;32m<ipython-input-14-e7fd6d62ddbd>\u001b[0m in \u001b[0;36m<module>\u001b[0;34m()\u001b[0m\n\u001b[1;32m      1\u001b[0m \u001b[0mmod_bi\u001b[0m \u001b[0;34m=\u001b[0m \u001b[0msm\u001b[0m\u001b[0;34m.\u001b[0m\u001b[0mLogit\u001b[0m\u001b[0;34m(\u001b[0m\u001b[0mSalePrice_binary\u001b[0m\u001b[0;34m,\u001b[0m\u001b[0mvariables\u001b[0m\u001b[0;34m)\u001b[0m\u001b[0;34m\u001b[0m\u001b[0m\n\u001b[0;32m----> 2\u001b[0;31m \u001b[0mres_bi\u001b[0m \u001b[0;34m=\u001b[0m \u001b[0mmod_bi\u001b[0m\u001b[0;34m.\u001b[0m\u001b[0mfit\u001b[0m\u001b[0;34m(\u001b[0m\u001b[0;34m)\u001b[0m\u001b[0;34m\u001b[0m\u001b[0m\n\u001b[0m\u001b[1;32m      3\u001b[0m \u001b[0mres_bi\u001b[0m\u001b[0;34m.\u001b[0m\u001b[0msummary\u001b[0m\u001b[0;34m(\u001b[0m\u001b[0;34m)\u001b[0m\u001b[0;34m\u001b[0m\u001b[0m\n",
      "\u001b[0;32m/Applications/anaconda/envs/py36/lib/python3.6/site-packages/statsmodels/discrete/discrete_model.py\u001b[0m in \u001b[0;36mfit\u001b[0;34m(self, start_params, method, maxiter, full_output, disp, callback, **kwargs)\u001b[0m\n\u001b[1;32m   1375\u001b[0m         bnryfit = super(Logit, self).fit(start_params=start_params,\n\u001b[1;32m   1376\u001b[0m                 \u001b[0mmethod\u001b[0m\u001b[0;34m=\u001b[0m\u001b[0mmethod\u001b[0m\u001b[0;34m,\u001b[0m \u001b[0mmaxiter\u001b[0m\u001b[0;34m=\u001b[0m\u001b[0mmaxiter\u001b[0m\u001b[0;34m,\u001b[0m \u001b[0mfull_output\u001b[0m\u001b[0;34m=\u001b[0m\u001b[0mfull_output\u001b[0m\u001b[0;34m,\u001b[0m\u001b[0;34m\u001b[0m\u001b[0m\n\u001b[0;32m-> 1377\u001b[0;31m                 disp=disp, callback=callback, **kwargs)\n\u001b[0m\u001b[1;32m   1378\u001b[0m \u001b[0;34m\u001b[0m\u001b[0m\n\u001b[1;32m   1379\u001b[0m         \u001b[0mdiscretefit\u001b[0m \u001b[0;34m=\u001b[0m \u001b[0mLogitResults\u001b[0m\u001b[0;34m(\u001b[0m\u001b[0mself\u001b[0m\u001b[0;34m,\u001b[0m \u001b[0mbnryfit\u001b[0m\u001b[0;34m)\u001b[0m\u001b[0;34m\u001b[0m\u001b[0m\n",
      "\u001b[0;32m/Applications/anaconda/envs/py36/lib/python3.6/site-packages/statsmodels/discrete/discrete_model.py\u001b[0m in \u001b[0;36mfit\u001b[0;34m(self, start_params, method, maxiter, full_output, disp, callback, **kwargs)\u001b[0m\n\u001b[1;32m    202\u001b[0m         mlefit = super(DiscreteModel, self).fit(start_params=start_params,\n\u001b[1;32m    203\u001b[0m                 \u001b[0mmethod\u001b[0m\u001b[0;34m=\u001b[0m\u001b[0mmethod\u001b[0m\u001b[0;34m,\u001b[0m \u001b[0mmaxiter\u001b[0m\u001b[0;34m=\u001b[0m\u001b[0mmaxiter\u001b[0m\u001b[0;34m,\u001b[0m \u001b[0mfull_output\u001b[0m\u001b[0;34m=\u001b[0m\u001b[0mfull_output\u001b[0m\u001b[0;34m,\u001b[0m\u001b[0;34m\u001b[0m\u001b[0m\n\u001b[0;32m--> 204\u001b[0;31m                 disp=disp, callback=callback, **kwargs)\n\u001b[0m\u001b[1;32m    205\u001b[0m \u001b[0;34m\u001b[0m\u001b[0m\n\u001b[1;32m    206\u001b[0m         \u001b[0;32mreturn\u001b[0m \u001b[0mmlefit\u001b[0m \u001b[0;31m# up to subclasses to wrap results\u001b[0m\u001b[0;34m\u001b[0m\u001b[0m\n",
      "\u001b[0;32m/Applications/anaconda/envs/py36/lib/python3.6/site-packages/statsmodels/base/model.py\u001b[0m in \u001b[0;36mfit\u001b[0;34m(self, start_params, method, maxiter, full_output, disp, fargs, callback, retall, skip_hessian, **kwargs)\u001b[0m\n\u001b[1;32m    456\u001b[0m             \u001b[0mHinv\u001b[0m \u001b[0;34m=\u001b[0m \u001b[0mcov_params_func\u001b[0m\u001b[0;34m(\u001b[0m\u001b[0mself\u001b[0m\u001b[0;34m,\u001b[0m \u001b[0mxopt\u001b[0m\u001b[0;34m,\u001b[0m \u001b[0mretvals\u001b[0m\u001b[0;34m)\u001b[0m\u001b[0;34m\u001b[0m\u001b[0m\n\u001b[1;32m    457\u001b[0m         \u001b[0;32melif\u001b[0m \u001b[0mmethod\u001b[0m \u001b[0;34m==\u001b[0m \u001b[0;34m'newton'\u001b[0m \u001b[0;32mand\u001b[0m \u001b[0mfull_output\u001b[0m\u001b[0;34m:\u001b[0m\u001b[0;34m\u001b[0m\u001b[0m\n\u001b[0;32m--> 458\u001b[0;31m             \u001b[0mHinv\u001b[0m \u001b[0;34m=\u001b[0m \u001b[0mnp\u001b[0m\u001b[0;34m.\u001b[0m\u001b[0mlinalg\u001b[0m\u001b[0;34m.\u001b[0m\u001b[0minv\u001b[0m\u001b[0;34m(\u001b[0m\u001b[0;34m-\u001b[0m\u001b[0mretvals\u001b[0m\u001b[0;34m[\u001b[0m\u001b[0;34m'Hessian'\u001b[0m\u001b[0;34m]\u001b[0m\u001b[0;34m)\u001b[0m \u001b[0;34m/\u001b[0m \u001b[0mnobs\u001b[0m\u001b[0;34m\u001b[0m\u001b[0m\n\u001b[0m\u001b[1;32m    459\u001b[0m         \u001b[0;32melif\u001b[0m \u001b[0;32mnot\u001b[0m \u001b[0mskip_hessian\u001b[0m\u001b[0;34m:\u001b[0m\u001b[0;34m\u001b[0m\u001b[0m\n\u001b[1;32m    460\u001b[0m             \u001b[0mH\u001b[0m \u001b[0;34m=\u001b[0m \u001b[0;34m-\u001b[0m\u001b[0;36m1\u001b[0m \u001b[0;34m*\u001b[0m \u001b[0mself\u001b[0m\u001b[0;34m.\u001b[0m\u001b[0mhessian\u001b[0m\u001b[0;34m(\u001b[0m\u001b[0mxopt\u001b[0m\u001b[0;34m)\u001b[0m\u001b[0;34m\u001b[0m\u001b[0m\n",
      "\u001b[0;32m/Applications/anaconda/envs/py36/lib/python3.6/site-packages/numpy/linalg/linalg.py\u001b[0m in \u001b[0;36minv\u001b[0;34m(a)\u001b[0m\n\u001b[1;32m    526\u001b[0m     \u001b[0msignature\u001b[0m \u001b[0;34m=\u001b[0m \u001b[0;34m'D->D'\u001b[0m \u001b[0;32mif\u001b[0m \u001b[0misComplexType\u001b[0m\u001b[0;34m(\u001b[0m\u001b[0mt\u001b[0m\u001b[0;34m)\u001b[0m \u001b[0;32melse\u001b[0m \u001b[0;34m'd->d'\u001b[0m\u001b[0;34m\u001b[0m\u001b[0m\n\u001b[1;32m    527\u001b[0m     \u001b[0mextobj\u001b[0m \u001b[0;34m=\u001b[0m \u001b[0mget_linalg_error_extobj\u001b[0m\u001b[0;34m(\u001b[0m\u001b[0m_raise_linalgerror_singular\u001b[0m\u001b[0;34m)\u001b[0m\u001b[0;34m\u001b[0m\u001b[0m\n\u001b[0;32m--> 528\u001b[0;31m     \u001b[0mainv\u001b[0m \u001b[0;34m=\u001b[0m \u001b[0m_umath_linalg\u001b[0m\u001b[0;34m.\u001b[0m\u001b[0minv\u001b[0m\u001b[0;34m(\u001b[0m\u001b[0ma\u001b[0m\u001b[0;34m,\u001b[0m \u001b[0msignature\u001b[0m\u001b[0;34m=\u001b[0m\u001b[0msignature\u001b[0m\u001b[0;34m,\u001b[0m \u001b[0mextobj\u001b[0m\u001b[0;34m=\u001b[0m\u001b[0mextobj\u001b[0m\u001b[0;34m)\u001b[0m\u001b[0;34m\u001b[0m\u001b[0m\n\u001b[0m\u001b[1;32m    529\u001b[0m     \u001b[0;32mreturn\u001b[0m \u001b[0mwrap\u001b[0m\u001b[0;34m(\u001b[0m\u001b[0mainv\u001b[0m\u001b[0;34m.\u001b[0m\u001b[0mastype\u001b[0m\u001b[0;34m(\u001b[0m\u001b[0mresult_t\u001b[0m\u001b[0;34m,\u001b[0m \u001b[0mcopy\u001b[0m\u001b[0;34m=\u001b[0m\u001b[0;32mFalse\u001b[0m\u001b[0;34m)\u001b[0m\u001b[0;34m)\u001b[0m\u001b[0;34m\u001b[0m\u001b[0m\n\u001b[1;32m    530\u001b[0m \u001b[0;34m\u001b[0m\u001b[0m\n",
      "\u001b[0;32m/Applications/anaconda/envs/py36/lib/python3.6/site-packages/numpy/linalg/linalg.py\u001b[0m in \u001b[0;36m_raise_linalgerror_singular\u001b[0;34m(err, flag)\u001b[0m\n\u001b[1;32m     87\u001b[0m \u001b[0;34m\u001b[0m\u001b[0m\n\u001b[1;32m     88\u001b[0m \u001b[0;32mdef\u001b[0m \u001b[0m_raise_linalgerror_singular\u001b[0m\u001b[0;34m(\u001b[0m\u001b[0merr\u001b[0m\u001b[0;34m,\u001b[0m \u001b[0mflag\u001b[0m\u001b[0;34m)\u001b[0m\u001b[0;34m:\u001b[0m\u001b[0;34m\u001b[0m\u001b[0m\n\u001b[0;32m---> 89\u001b[0;31m     \u001b[0;32mraise\u001b[0m \u001b[0mLinAlgError\u001b[0m\u001b[0;34m(\u001b[0m\u001b[0;34m\"Singular matrix\"\u001b[0m\u001b[0;34m)\u001b[0m\u001b[0;34m\u001b[0m\u001b[0m\n\u001b[0m\u001b[1;32m     90\u001b[0m \u001b[0;34m\u001b[0m\u001b[0m\n\u001b[1;32m     91\u001b[0m \u001b[0;32mdef\u001b[0m \u001b[0m_raise_linalgerror_nonposdef\u001b[0m\u001b[0;34m(\u001b[0m\u001b[0merr\u001b[0m\u001b[0;34m,\u001b[0m \u001b[0mflag\u001b[0m\u001b[0;34m)\u001b[0m\u001b[0;34m:\u001b[0m\u001b[0;34m\u001b[0m\u001b[0m\n",
      "\u001b[0;31mLinAlgError\u001b[0m: Singular matrix"
     ]
    }
   ],
   "source": [
    "mod_bi = sm.Logit(SalePrice_binary,variables)\n",
    "res_bi = mod_bi.fit()\n",
    "res_bi.summary()"
   ]
  },
  {
   "cell_type": "markdown",
   "metadata": {},
   "source": [
    "We could not fit a logistic regression to the dataset using the binary variable that we created. The error message suggests that our dataset forms a singular matrix, meaning that variables are highly correlated, and that a logistic regression can't be produced. In the future, we will try to eliminate the colinearity existed in our dataset. We are not so concerned about this logistic regression with the binary outcome since our main objective is actually to predict the house price. "
   ]
  },
  {
   "cell_type": "markdown",
   "metadata": {},
   "source": [
    "However, we are going to run a logistic model with selected covariates that we believe won't have collinearity issues in part f. "
   ]
  },
  {
   "cell_type": "markdown",
   "metadata": {},
   "source": [
    "# Q2.d"
   ]
  },
  {
   "cell_type": "markdown",
   "metadata": {},
   "source": [
    "If multiple hypotheses are tested, the chance of a rare event increases, and therefore, the likelihood of incorrectly rejecting a null hypothesis increases. So by applying Bonferroni correction, the significance level will be decreased to alpha/#of hypotheses. Thus, some of the coefficients that now seem to be significant won't be significant after applying Bonferroni correction."
   ]
  },
  {
   "cell_type": "markdown",
   "metadata": {},
   "source": [
    "# Q2.e"
   ]
  },
  {
   "cell_type": "markdown",
   "metadata": {},
   "source": [
    "For significant coefficients that I found in part C, I choose to believe that there is a causality to the sale price of the house. I think this dataset is a very easy case to argue. Since we humans build and buy houses, we decide what factors matter the most the sale price of a house. This causality is not only discovered but created by us.\n",
    "In the summary of the linear model, we see that variables relate to house conditions, house areas, house locations, and the year that a house built have significant impact of the house price. However, in the dataset, we not only have the gross living area of a house, but also has the area of its basement, first floor, second floor, garage, and etc. As you can see, these variables are definitely somewhat collinear. We might eventually to delete all the area related variables but the gross total area. The reason we are doing so is that imaging when you are buying a house, you are eventually paying for the total area of the house rather than how many square feet the basement or the garage is. Those areas matter, but far less than the total area. We thus want to eliminate the collinear variables that can be confounding in our dataset to stress the causallity of gross area of the house to the sale price. "
   ]
  },
  {
   "cell_type": "markdown",
   "metadata": {},
   "source": [
    "# Q2.f"
   ]
  },
  {
   "cell_type": "markdown",
   "metadata": {},
   "source": [
    "We were unable to fit an logistic model because the error message \"'module' object has no attribute 'chisqprob'\" occurs for some odd reason, and therefore we found a code online that uses sklearn logistic model to calculate the p-values of variables, and it worked well. "
   ]
  },
  {
   "cell_type": "markdown",
   "metadata": {},
   "source": [
    "# Source"
   ]
  },
  {
   "cell_type": "markdown",
   "metadata": {},
   "source": [
    "https://gist.github.com/rspeare/77061e6e317896be29c6de9a85db301d"
   ]
  },
  {
   "cell_type": "code",
   "execution_count": 65,
   "metadata": {},
   "outputs": [],
   "source": [
    "from sklearn import linear_model\n",
    "import numpy as np\n",
    "import scipy.stats as stat\n",
    "\n",
    "class LogisticRegression:\n",
    "    \"\"\"\n",
    "    Wrapper Class for Logistic Regression which has the usual sklearn instance \n",
    "    in an attribute self.model, and pvalues, z scores and estimated \n",
    "    errors for each coefficient in \n",
    "    \n",
    "    self.z_scores\n",
    "    self.p_values\n",
    "    self.sigma_estimates\n",
    "    \n",
    "    as well as the negative hessian of the log Likelihood (Fisher information)\n",
    "    \n",
    "    self.F_ij\n",
    "    \"\"\"\n",
    "    \n",
    "    def __init__(self,*args,**kwargs):#,**kwargs):\n",
    "        self.model = linear_model.LogisticRegression(*args,**kwargs)#,**args)\n",
    "\n",
    "    def fit(self,X,y):\n",
    "        self.model.fit(X,y)\n",
    "        #### Get p-values for the fitted model ####\n",
    "        denom = (2.0*(1.0+np.cosh(self.model.decision_function(X))))\n",
    "        F_ij = np.dot((X/denom[:,None]).T,X) ## Fisher Information Matrix\n",
    "        Cramer_Rao = np.linalg.inv(F_ij) ## Inverse Information Matrix\n",
    "        sigma_estimates = np.array([np.sqrt(Cramer_Rao[i,i]) for i in range(Cramer_Rao.shape[0])]) # sigma for each coefficient\n",
    "        z_scores = self.model.coef_[0]/sigma_estimates # z-score for eaach model coefficient\n",
    "        p_values = [stat.norm.sf(abs(x))*2 for x in z_scores] ### two tailed test for p-values\n",
    "        \n",
    "        self.z_scores = z_scores\n",
    "        self.sigma_estimates = sigma_estimates\n",
    "        self.F_ij = F_ij\n",
    "        return p_values"
   ]
  },
  {
   "cell_type": "code",
   "execution_count": 63,
   "metadata": {},
   "outputs": [],
   "source": [
    "non_collinear_name = non_cat.drop(columns=[\"Bsmt Full Bath\",\"Bsmt Half Bath\",\"Full Bath\",\"Half Bath\",\"Bedroom AbvGr\",\"Kitchen AbvGr\",\"TotRms AbvGrd\",\"Fireplaces\",\"Garage Cars\",\"Pool Area\",\"Mo Sold\",\"BsmtFin SF 1\",\"BsmtFin SF 2\",\"Bsmt Unf SF\",\"Total Bsmt SF\",\"1st Flr SF\",\"2nd Flr SF\",\"Low Qual Fin SF\",\"Wood Deck SF\",\"Open Porch SF\",\"Enclosed Porch\",\"3Ssn Porch\",\"Screen Porch\"])\n",
    "non_collinear=non_collinear.values\n",
    "SalePrice_binary=SalePrice_binary.values.flatten()"
   ]
  },
  {
   "cell_type": "code",
   "execution_count": 70,
   "metadata": {},
   "outputs": [],
   "source": [
    "non_collinear_name = non_cat.drop(columns=[\"Bsmt Full Bath\",\"Bsmt Half Bath\",\"Full Bath\",\"Half Bath\",\"Bedroom AbvGr\",\"Kitchen AbvGr\",\"TotRms AbvGrd\",\"Fireplaces\",\"Garage Cars\",\"Pool Area\",\"Mo Sold\",\"BsmtFin SF 1\",\"BsmtFin SF 2\",\"Bsmt Unf SF\",\"Total Bsmt SF\",\"1st Flr SF\",\"2nd Flr SF\",\"Low Qual Fin SF\",\"Wood Deck SF\",\"Open Porch SF\",\"Enclosed Porch\",\"3Ssn Porch\",\"Screen Porch\"])"
   ]
  },
  {
   "cell_type": "code",
   "execution_count": 74,
   "metadata": {},
   "outputs": [
    {
     "data": {
      "text/plain": [
       "[0.34079550251806234,\n",
       " 3.0571885263072977e-13,\n",
       " 1.8561505116511118e-40,\n",
       " 2.043249033711827e-05,\n",
       " 6.612265808077153e-08,\n",
       " 0.002688368888518816,\n",
       " 0.14740100371894774,\n",
       " 1.0088078778907594e-37,\n",
       " 2.74086400450268e-08,\n",
       " 7.950014415334876e-24]"
      ]
     },
     "execution_count": 74,
     "metadata": {},
     "output_type": "execute_result"
    }
   ],
   "source": [
    "mod_bi2 = LogisticRegression()\n",
    "mod_bi2.fit(non_collinear,SalePrice_binary)"
   ]
  },
  {
   "cell_type": "code",
   "execution_count": 75,
   "metadata": {},
   "outputs": [
    {
     "name": "stdout",
     "output_type": "stream",
     "text": [
      "Lot Frontage\n",
      "Lot Area\n",
      "Overall Qual\n",
      "Overall Cond\n",
      "Year Built\n",
      "Year Remod/Add\n",
      "Mas Vnr Area\n",
      "Gr Liv Area\n",
      "Garage Area\n",
      "Yr Sold\n"
     ]
    }
   ],
   "source": [
    "for i in non_collinear_name:\n",
    "    print (i)"
   ]
  },
  {
   "cell_type": "markdown",
   "metadata": {},
   "source": [
    "C.\n",
    "Overall Qual, Gr Liv Area, Yr Sold, Lot Area, and Year Built seem to play a bigger role in determining if a house's sale price is over $200,000 or not, and their corresponding significant p-values are used to prove that. Besides Yr Sold, all the other variables do have a small p-value in part a as well. Yr Sold appears to be more relevant not but I don't beleive this result. It might be just in some certain years, there is a large volume of low-price house transactions. However, I do believe the significance of the other variables.  "
   ]
  },
  {
   "cell_type": "markdown",
   "metadata": {},
   "source": [
    "D. I believe that all the variables besides Yr Sold have a casuality effect to determine if a house is above or below 200k usd. As for Yr Sold, I don't think there is a casulity effect. It is very possible that during some years economy is bad, and people are leaning towards buying small and cheap houses, and that's what made Yr Sold so significant. But using Yr Sold as a variable to determine if a house is expensive or not is not convincing. Also, we have removed most of the collinear variables in order to fit the logistic model, and so we don't think we need to exclude more variables to draw the causallity. I argue that the other variables that are significant have a causal relationship to if a house is above or below 200k usd with the same arguments I gave in part D for the linear regression."
   ]
  }
 ],
 "metadata": {
  "kernelspec": {
   "display_name": "Python 3",
   "language": "python",
   "name": "python3"
  },
  "language_info": {
   "codemirror_mode": {
    "name": "ipython",
    "version": 3
   },
   "file_extension": ".py",
   "mimetype": "text/x-python",
   "name": "python",
   "nbconvert_exporter": "python",
   "pygments_lexer": "ipython3",
   "version": "3.6.4"
  }
 },
 "nbformat": 4,
 "nbformat_minor": 2
}
