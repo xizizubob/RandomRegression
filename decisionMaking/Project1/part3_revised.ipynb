{
 "cells": [
  {
   "cell_type": "code",
   "execution_count": 1,
   "metadata": {
    "collapsed": true
   },
   "outputs": [],
   "source": [
    "import pandas as pd\n",
    "import numpy as np\n",
    "import seaborn as sns\n",
    "import matplotlib\n",
    "import math\n",
    "import sklearn\n",
    "from scipy import stats\n",
    "import statsmodels.formula.api as sm\n",
    "\n",
    "import matplotlib.pyplot as plt\n",
    "from scipy.stats import skew\n",
    "from scipy.stats.stats import pearsonr\n",
    "from sklearn import linear_model\n",
    "import patsy\n",
    "import statsmodels.formula.api as smf\n",
    "from sklearn.linear_model import Lasso\n",
    "from sklearn.model_selection import train_test_split\n",
    "\n",
    "%config InlineBackend.figure_format = 'png' #set 'png' here when working on notebook\n",
    "%matplotlib inline"
   ]
  },
  {
   "cell_type": "code",
   "execution_count": 44,
   "metadata": {
    "collapsed": true
   },
   "outputs": [],
   "source": [
    "data = pd.read_excel(\"RawDataFinal1.xlsx\")"
   ]
  },
  {
   "cell_type": "code",
   "execution_count": 45,
   "metadata": {
    "collapsed": true
   },
   "outputs": [],
   "source": [
    "train, test = train_test_split(data, test_size=0.2)#it is not time-series data\n",
    "train.to_csv('train.csv')\n",
    "test.to_csv('test.csv')"
   ]
  },
  {
   "cell_type": "code",
   "execution_count": 46,
   "metadata": {},
   "outputs": [
    {
     "name": "stdout",
     "output_type": "stream",
     "text": [
      "[u'LotFrontage' u'LotArea' u'OverallQual' u'OverallCond' u'YearBuilt'\n",
      " u'YearRemodAdd' u'MasVnrArea' u'ExterQual' u'ExterCond' u'BsmtQual'\n",
      " u'BsmtCond' u'BsmtFinSF1' u'BsmtFinSF2' u'BsmtUnfSF' u'TotalBsmtSF'\n",
      " u'OnestFlrSF' u'TwondFlrSF' u'LowQualFinSF' u'GrLivArea' u'BsmtFullBath'\n",
      " u'BsmtHalfBath' u'FullBath' u'HalfBath' u'BedroomAbvGr' u'KitchenAbvGr'\n",
      " u'TotRmsAbvGrd' u'Fireplaces' u'GarageCars' u'GarageArea' u'WoodDeckSF'\n",
      " u'OpenPorchSF' u'EnclosedPorch' u'threeSsnPorch' u'ScreenPorch'\n",
      " u'PoolArea' u'MoSold' u'YrSold' u'Alley_NoAlley' u'Alley_Pave'\n",
      " u'LotShape_IR2' u'LotShape_IR3' u'LandContour_Bnk' u'LandContour_HLS'\n",
      " u'LandContour_Low' u'LandContour_Lvl' u'LandSlope_Gtl'\n",
      " u'Neighborhood_Blmngtn' u'Neighborhood_BrDale' u'Neighborhood_CollgCr'\n",
      " u'Neighborhood_Crawfor' u'Neighborhood_Edwards' u'Neighborhood_Gilbert'\n",
      " u'Neighborhood_Greens' u'Neighborhood_GrnHill' u'Neighborhood_IDOTRR'\n",
      " u'Neighborhood_MeadowV' u'Neighborhood_Mitchel' u'Neighborhood_NAmes'\n",
      " u'Neighborhood_NPkVill' u'Neighborhood_NWAmes' u'Neighborhood_NoRidge'\n",
      " u'Neighborhood_NridgHt' u'Neighborhood_OldTown' u'Neighborhood_SWISU'\n",
      " u'Neighborhood_Sawyer' u'Neighborhood_SawyerW' u'Neighborhood_Somerst'\n",
      " u'Neighborhood_StoneBr' u'Condition1_Feedr' u'Condition1_Norm'\n",
      " u'Condition1_PosA' u'Condition1_PosN' u'Condition1_RRAe'\n",
      " u'Condition1_RRAn' u'Condition2_Artery' u'Condition2_PosA'\n",
      " u'Condition2_PosN' u'BldgType_1Fam' u'BldgType_2fmCon' u'BldgType_Twnhs'\n",
      " u'BldgType_TwnhsE' u'HouseStyle_1DOT5Fin' u'HouseStyle_1Story'\n",
      " u'HouseStyle_2DOT5Unf' u'HouseStyle_2Story' u'HouseStyle_SFoyer'\n",
      " u'RoofStyle_Hip' u'RoofStyle_Mansard' u'Exterior1st_BrkFace'\n",
      " u'Exterior1st_HdBoard' u'Exterior1st_Plywood' u'Exterior1st_PreCast'\n",
      " u'Exterior1st_VinylSd' u'Exterior1st_WdSdng' u'Exterior1st_WdShing'\n",
      " u'Exterior2nd_BrkFace' u'Exterior2nd_CmentBd' u'Exterior2nd_ImStucc'\n",
      " u'Exterior2nd_Plywood' u'Exterior2nd_Stucco' u'Exterior2nd_VinylSd'\n",
      " u'Exterior2nd_WdShng' u'MasVnrType_BrkCmn' u'MasVnrType_None'\n",
      " u'MasVnrType_Stone' u'Foundation_BrkTil' u'Foundation_CBlock'\n",
      " u'Foundation_Slab' u'Foundation_Stone' u'Functional_Maj1'\n",
      " u'Functional_Maj2' u'Functional_Min2' u'Functional_Typ' u'PavedDrive_N'\n",
      " u'PavedDrive_P' u'Fence_MnPrv' u'Fence_NoFence' u'SaleType_COD'\n",
      " u'SaleType_CWD' u'SaleType_ConLD' u'SaleType_ConLI' u'SaleType_New'\n",
      " u'SaleType_WD' u'SaleCondition_Abnorml']\n"
     ]
    }
   ],
   "source": [
    "X = train.drop(columns=['SalePrice'])\n",
    "Y = train['SalePrice']\n",
    "alpha=np.arange(0,30,0.1)\n",
    "singlefeatures = list(X)\n",
    "lasso = linear_model.LassoCV(alphas=alpha,cv =5).fit(X,Y)\n",
    "lassofeatures = np.array(singlefeatures)[np.abs(lasso.coef_)>1e-10]\n",
    "print lassofeatures"
   ]
  },
  {
   "cell_type": "code",
   "execution_count": 47,
   "metadata": {},
   "outputs": [
    {
     "name": "stdout",
     "output_type": "stream",
     "text": [
      "Here is in-sample R-square:0.8857552807\n",
      "Here is the out-of-sample R-square:0.885238718916\n"
     ]
    }
   ],
   "source": [
    "lm = smf.ols('SalePrice ~ '+' + '.join(lassofeatures), data=train).fit()\n",
    "print 'Here is in-sample R-square:'+str(lm.rsquared)\n",
    "test_x=test.drop(columns=['SalePrice'])\n",
    "test_y=test['SalePrice']\n",
    "rsq = 1. - np.sum((lm.predict(test_x)-test_y)**2)/np.sum((\n",
    "    test_y.mean()-test_y)**2)\n",
    "print 'Here is the out-of-sample R-square:'+str(rsq)"
   ]
  },
  {
   "cell_type": "code",
   "execution_count": 48,
   "metadata": {
    "collapsed": true
   },
   "outputs": [],
   "source": [
    "from sklearn.metrics import mean_squared_error\n",
    "from math import sqrt"
   ]
  },
  {
   "cell_type": "code",
   "execution_count": 49,
   "metadata": {},
   "outputs": [
    {
     "name": "stdout",
     "output_type": "stream",
     "text": [
      "Root mean squared error of the prediction is  25333.5824249\n"
     ]
    }
   ],
   "source": [
    "rms_test = sqrt(mean_squared_error(test['SalePrice'], lm.predict(test)))\n",
    "print \"Root mean squared error of the prediction is \", rms_test"
   ]
  },
  {
   "cell_type": "markdown",
   "metadata": {},
   "source": [
    "# Log Transformation\n"
   ]
  },
  {
   "cell_type": "code",
   "execution_count": 50,
   "metadata": {
    "collapsed": true
   },
   "outputs": [],
   "source": [
    "train = train.set_index([list(range(len(train)))])\n",
    "for i in range(len(train[\"SalePrice\"])):\n",
    "    train.loc[i,('SalePrice')] = math.log(train.loc[i,('SalePrice')])"
   ]
  },
  {
   "cell_type": "code",
   "execution_count": 51,
   "metadata": {},
   "outputs": [
    {
     "name": "stdout",
     "output_type": "stream",
     "text": [
      "[u'LotFrontage' u'LotArea' u'OverallQual' u'OverallCond' u'YearBuilt'\n",
      " u'YearRemodAdd' u'MasVnrArea' u'ExterQual' u'ExterCond' u'BsmtQual'\n",
      " u'BsmtCond' u'BsmtFinSF1' u'BsmtFinSF2' u'BsmtUnfSF' u'TotalBsmtSF'\n",
      " u'OnestFlrSF' u'TwondFlrSF' u'LowQualFinSF' u'GrLivArea' u'BsmtFullBath'\n",
      " u'BsmtHalfBath' u'FullBath' u'HalfBath' u'BedroomAbvGr' u'KitchenAbvGr'\n",
      " u'TotRmsAbvGrd' u'Fireplaces' u'GarageCars' u'GarageArea' u'WoodDeckSF'\n",
      " u'OpenPorchSF' u'EnclosedPorch' u'threeSsnPorch' u'ScreenPorch'\n",
      " u'PoolArea' u'MoSold' u'YrSold' u'Street_Grvl' u'Alley_Grvl'\n",
      " u'Alley_NoAlley' u'Alley_Pave' u'LotShape_IR1' u'LotShape_IR2'\n",
      " u'LotShape_IR3' u'LotShape_Reg' u'LandContour_Bnk' u'LandContour_HLS'\n",
      " u'LandContour_Low' u'LandContour_Lvl' u'Utilities_AllPub'\n",
      " u'Utilities_NoSeWa' u'Utilities_NoSewr' u'LandSlope_Gtl' u'LandSlope_Mod'\n",
      " u'LandSlope_Sev' u'Neighborhood_Blmngtn' u'Neighborhood_Blueste'\n",
      " u'Neighborhood_BrDale' u'Neighborhood_BrkSide' u'Neighborhood_ClearCr'\n",
      " u'Neighborhood_CollgCr' u'Neighborhood_Crawfor' u'Neighborhood_Edwards'\n",
      " u'Neighborhood_Gilbert' u'Neighborhood_Greens' u'Neighborhood_GrnHill'\n",
      " u'Neighborhood_IDOTRR' u'Neighborhood_Landmrk' u'Neighborhood_MeadowV'\n",
      " u'Neighborhood_Mitchel' u'Neighborhood_NAmes' u'Neighborhood_NPkVill'\n",
      " u'Neighborhood_NWAmes' u'Neighborhood_NoRidge' u'Neighborhood_NridgHt'\n",
      " u'Neighborhood_OldTown' u'Neighborhood_SWISU' u'Neighborhood_Sawyer'\n",
      " u'Neighborhood_SawyerW' u'Neighborhood_Somerst' u'Neighborhood_StoneBr'\n",
      " u'Neighborhood_Timber' u'Neighborhood_Veenker' u'Condition1_Artery'\n",
      " u'Condition1_Feedr' u'Condition1_Norm' u'Condition1_PosA'\n",
      " u'Condition1_PosN' u'Condition1_RRAe' u'Condition1_RRAn'\n",
      " u'Condition1_RRNe' u'Condition1_RRNn' u'Condition2_Artery'\n",
      " u'Condition2_Feedr' u'Condition2_Norm' u'Condition2_PosA'\n",
      " u'Condition2_PosN' u'Condition2_RRAe' u'Condition2_RRAn'\n",
      " u'Condition2_RRNn' u'BldgType_1Fam' u'BldgType_2fmCon' u'BldgType_Duplex'\n",
      " u'BldgType_Twnhs' u'BldgType_TwnhsE' u'HouseStyle_1DOT5Fin'\n",
      " u'HouseStyle_1DOT5Unf' u'HouseStyle_1Story' u'HouseStyle_2DOT5Fin'\n",
      " u'HouseStyle_2DOT5Unf' u'HouseStyle_2Story' u'HouseStyle_SFoyer'\n",
      " u'HouseStyle_SLvl' u'RoofStyle_Flat' u'RoofStyle_Gable'\n",
      " u'RoofStyle_Gambrel' u'RoofStyle_Hip' u'RoofStyle_Mansard'\n",
      " u'RoofStyle_Shed' u'Exterior1st_AsbShng' u'Exterior1st_AsphShn'\n",
      " u'Exterior1st_BrkComm' u'Exterior1st_BrkFace' u'Exterior1st_CBlock'\n",
      " u'Exterior1st_CemntBd' u'Exterior1st_HdBoard' u'Exterior1st_MetalSd'\n",
      " u'Exterior1st_Plywood' u'Exterior1st_PreCast' u'Exterior1st_Stone'\n",
      " u'Exterior1st_Stucco' u'Exterior1st_VinylSd' u'Exterior1st_WdSdng'\n",
      " u'Exterior1st_WdShing' u'Exterior2nd_AsbShng' u'Exterior2nd_AsphShn'\n",
      " u'Exterior2nd_BrkCmn' u'Exterior2nd_BrkFace' u'Exterior2nd_CBlock'\n",
      " u'Exterior2nd_CmentBd' u'Exterior2nd_HdBoard' u'Exterior2nd_ImStucc'\n",
      " u'Exterior2nd_MetalSd' u'Exterior2nd_Other' u'Exterior2nd_Plywood'\n",
      " u'Exterior2nd_PreCast' u'Exterior2nd_Stone' u'Exterior2nd_Stucco'\n",
      " u'Exterior2nd_VinylSd' u'Exterior2nd_WdSdng' u'Exterior2nd_WdShng'\n",
      " u'MasVnrType_BrkCmn' u'MasVnrType_BrkFace' u'MasVnrType_CBlock'\n",
      " u'MasVnrType_None' u'MasVnrType_Stone' u'Foundation_BrkTil'\n",
      " u'Foundation_CBlock' u'Foundation_PConc' u'Foundation_Slab'\n",
      " u'Foundation_Stone' u'Foundation_Wood' u'Functional_Maj1'\n",
      " u'Functional_Maj2' u'Functional_Min1' u'Functional_Min2' u'Functional_Mod'\n",
      " u'Functional_Sal' u'Functional_Sev' u'Functional_Typ' u'PavedDrive_N'\n",
      " u'PavedDrive_P' u'PavedDrive_Y' u'Fence_GdPrv' u'Fence_GdWo'\n",
      " u'Fence_MnPrv' u'Fence_MnWw' u'Fence_NoFence' u'SaleType_COD'\n",
      " u'SaleType_CWD' u'SaleType_Con' u'SaleType_ConLD' u'SaleType_ConLI'\n",
      " u'SaleType_ConLw' u'SaleType_New' u'SaleType_Oth' u'SaleType_WD'\n",
      " u'SaleCondition_Abnorml' u'SaleCondition_AdjLand' u'SaleCondition_Alloca'\n",
      " u'SaleCondition_Family' u'SaleCondition_Normal']\n"
     ]
    }
   ],
   "source": [
    "X = train.drop(columns=['SalePrice'])\n",
    "Y = train['SalePrice']\n",
    "alpha=np.arange(0,30,0.1)\n",
    "singlefeatures = list(X)\n",
    "lasso = linear_model.LassoCV(alphas=alpha,cv =5).fit(X,Y)\n",
    "lassofeatures = np.array(singlefeatures)[np.abs(lasso.coef_)>1e-10]\n",
    "print lassofeatures"
   ]
  },
  {
   "cell_type": "code",
   "execution_count": 52,
   "metadata": {
    "collapsed": true
   },
   "outputs": [],
   "source": [
    "test = test.set_index([list(range(len(test)))])\n",
    "for i in range(len(test[\"SalePrice\"])):\n",
    "    test.loc[i,('SalePrice')] = math.log(test.loc[i,('SalePrice')])"
   ]
  },
  {
   "cell_type": "code",
   "execution_count": 53,
   "metadata": {},
   "outputs": [
    {
     "name": "stdout",
     "output_type": "stream",
     "text": [
      "Here is in-sample R-square:0.912561649859\n",
      "Here is the out-of-sample R-square:0.891487156425\n"
     ]
    }
   ],
   "source": [
    "lm = smf.ols('SalePrice ~ '+' + '.join(lassofeatures), data=train).fit()\n",
    "print 'Here is in-sample R-square:'+str(lm.rsquared)\n",
    "test_x=test.drop(columns=['SalePrice'])\n",
    "test_y=test['SalePrice']\n",
    "rsq = 1. - np.sum((lm.predict(test_x)-test_y)**2)/np.sum((\n",
    "    test_y.mean()-test_y)**2)\n",
    "print 'Here is the out-of-sample R-square:'+str(rsq)"
   ]
  },
  {
   "cell_type": "code",
   "execution_count": 54,
   "metadata": {
    "collapsed": true
   },
   "outputs": [],
   "source": [
    "for i in range(len(test[\"SalePrice\"])):\n",
    "    test.loc[i,('SalePrice')] = math.exp(test.loc[i,('SalePrice')])"
   ]
  },
  {
   "cell_type": "code",
   "execution_count": 55,
   "metadata": {
    "collapsed": true
   },
   "outputs": [],
   "source": [
    "prediction = lm.predict(test_x)\n",
    "for i in range(len(prediction)):\n",
    "      prediction[i]=math.exp(prediction[i])"
   ]
  },
  {
   "cell_type": "code",
   "execution_count": 56,
   "metadata": {},
   "outputs": [
    {
     "name": "stdout",
     "output_type": "stream",
     "text": [
      "Root mean squared error of the prediction is  22119.1886228\n"
     ]
    }
   ],
   "source": [
    "rms_test = sqrt(mean_squared_error(test['SalePrice'], prediction))\n",
    "print \"Root mean squared error of the prediction is \", rms_test"
   ]
  },
  {
   "cell_type": "markdown",
   "metadata": {},
   "source": [
    "# BASELINE MODEL"
   ]
  },
  {
   "cell_type": "code",
   "execution_count": 57,
   "metadata": {
    "collapsed": true
   },
   "outputs": [],
   "source": [
    "singlefeatures=train.drop(columns=['SalePrice'])"
   ]
  },
  {
   "cell_type": "code",
   "execution_count": 58,
   "metadata": {
    "collapsed": true
   },
   "outputs": [],
   "source": [
    "for i in range(len(train[\"SalePrice\"])):\n",
    "    train.loc[i,('SalePrice')] = math.exp(train.loc[i,('SalePrice')])"
   ]
  },
  {
   "cell_type": "code",
   "execution_count": 59,
   "metadata": {},
   "outputs": [
    {
     "name": "stdout",
     "output_type": "stream",
     "text": [
      "Here is in-sample R-square:0.88657019625\n",
      "Here is the out-of-sample R-square:0.883791424551\n"
     ]
    }
   ],
   "source": [
    "lm = smf.ols('SalePrice ~ '+' + '.join(singlefeatures), data=train).fit()\n",
    "print 'Here is in-sample R-square:'+str(lm.rsquared)\n",
    "rsq = 1. - np.sum((lm.predict(test_x)-test_y)**2)/np.sum((\n",
    "    test_y.mean()-test_y)**2)\n",
    "print 'Here is the out-of-sample R-square:'+str(rsq)"
   ]
  },
  {
   "cell_type": "code",
   "execution_count": 60,
   "metadata": {},
   "outputs": [
    {
     "name": "stdout",
     "output_type": "stream",
     "text": [
      "Root mean squared error of the prediction is  25492.8272274\n"
     ]
    }
   ],
   "source": [
    "rms_test = sqrt(mean_squared_error(test['SalePrice'], lm.predict(test_x)))\n",
    "print \"Root mean squared error of the prediction is \", rms_test"
   ]
  }
 ],
 "metadata": {
  "kernelspec": {
   "display_name": "Python 2",
   "language": "python",
   "name": "python2"
  },
  "language_info": {
   "codemirror_mode": {
    "name": "ipython",
    "version": 2
   },
   "file_extension": ".py",
   "mimetype": "text/x-python",
   "name": "python",
   "nbconvert_exporter": "python",
   "pygments_lexer": "ipython2",
   "version": "2.7.14"
  }
 },
 "nbformat": 4,
 "nbformat_minor": 2
}
