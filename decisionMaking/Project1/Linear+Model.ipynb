{
 "cells": [
  {
   "cell_type": "code",
   "execution_count": 1,
   "metadata": {
    "collapsed": true
   },
   "outputs": [],
   "source": [
    "import pandas as pd\n",
    "import numpy as np\n",
    "import seaborn as sns\n",
    "import matplotlib\n",
    "import math\n",
    "import sklearn\n",
    "from scipy import stats\n",
    "import statsmodels.formula.api as sm\n",
    "\n",
    "import matplotlib.pyplot as plt\n",
    "from scipy.stats import skew\n",
    "from scipy.stats.stats import pearsonr\n",
    "from sklearn import linear_model\n",
    "import patsy\n",
    "import statsmodels.formula.api as smf\n",
    "from sklearn.linear_model import Lasso\n",
    "from sklearn.model_selection import train_test_split\n",
    "from sklearn.metrics import mean_squared_error\n",
    "from math import sqrt\n",
    "\n",
    "%config InlineBackend.figure_format = 'png' #set 'png' here when working on notebook\n",
    "%matplotlib inline"
   ]
  },
  {
   "cell_type": "markdown",
   "metadata": {},
   "source": [
    "1.a."
   ]
  },
  {
   "cell_type": "code",
   "execution_count": 59,
   "metadata": {
    "collapsed": true
   },
   "outputs": [],
   "source": [
    "data1 = pd.read_excel(\"RawDataFinal1.xlsx\")\n",
    "train1, test1 = train_test_split(data1, test_size=0.2,random_state=3)"
   ]
  },
  {
   "cell_type": "code",
   "execution_count": 44,
   "metadata": {},
   "outputs": [
    {
     "name": "stdout",
     "output_type": "stream",
     "text": [
      "Estimated out of sample Root mean squared error for this model is  29679.1051548\n",
      "Estimated out of sample R-square for this model is 0.851209179287\n",
      "Estimated in sample R-square for this model is 0.88465163387\n"
     ]
    }
   ],
   "source": [
    "#results from the baseline model\n",
    "insample_r2=[]\n",
    "outsample_r2=[]\n",
    "outsample_rsme=[]\n",
    "for i in range (5):\n",
    "    training, testing = train_test_split(train1, test_size=0.2)\n",
    "    X = training.drop(columns=['SalePrice'])\n",
    "    Y = training['SalePrice']\n",
    "    test_x=testing.drop(columns=['SalePrice'])\n",
    "    test_y=testing['SalePrice']\n",
    "    lm = smf.ols('SalePrice ~ '+' + '.join(list(X)), data=training).fit()\n",
    "    insample_r2.append(lm.rsquared)\n",
    "    rsq = 1. - np.sum((lm.predict(test_x)-test_y)**2)/np.sum((\n",
    "    test_y.mean()-test_y)**2)\n",
    "    outsample_r2.append(rsq)\n",
    "    rsme = sqrt(mean_squared_error(test_y, lm.predict(test_x)))\n",
    "    outsample_rsme.append(rsme)\n",
    "print \"Estimated out of sample Root mean squared error for this model is \", sum(outsample_rsme)/5\n",
    "print 'Estimated out of sample R-square for this model is',sum(outsample_r2)/5\n",
    "print 'Estimated in sample R-square for this model is',sum(insample_r2)/5"
   ]
  },
  {
   "cell_type": "markdown",
   "metadata": {},
   "source": [
    "1.c."
   ]
  },
  {
   "cell_type": "code",
   "execution_count": 45,
   "metadata": {
    "collapsed": true
   },
   "outputs": [],
   "source": [
    "data2 = pd.read_excel(\"NewData.xlsx\")\n",
    "singlefeatures = data2.columns[:-1]\n",
    "features = list(singlefeatures)\n",
    "for i in range(len(features)):\n",
    "    features[i] = \"\".join(features[i].split())\n",
    "    features[i] = features[i].replace('.','DOT')\n",
    "singlefeatures = features\n",
    "features.append('SalePrice')\n",
    "data2.columns = features\n",
    "train2, test2 = train_test_split(data2, test_size=0.2,random_state=3)\n"
   ]
  },
  {
   "cell_type": "code",
   "execution_count": 46,
   "metadata": {},
   "outputs": [
    {
     "name": "stdout",
     "output_type": "stream",
     "text": [
      "Estimated out of sample Root mean squared error for this model is  34977.3884266\n",
      "Estimated out of sample R-square for this model is 0.812686369025\n",
      "Estimated in sample R-square for this model is 0.861790422022\n"
     ]
    }
   ],
   "source": [
    "#results from the selected variable model\n",
    "insample_r2=[]\n",
    "outsample_r2=[]\n",
    "outsample_rsme=[]\n",
    "for i in range (5):\n",
    "    training, testing = train_test_split(train2, test_size=0.5)\n",
    "    X = training.drop(columns=['SalePrice'])\n",
    "    Y = training['SalePrice']\n",
    "    test_x=testing.drop(columns=['SalePrice'])\n",
    "    test_y=testing['SalePrice']\n",
    "    lm = smf.ols('SalePrice ~ '+' + '.join(list(X)), data=training).fit()\n",
    "    insample_r2.append(lm.rsquared)\n",
    "    rsq = 1. - np.sum((lm.predict(test_x)-test_y)**2)/np.sum((\n",
    "    test_y.mean()-test_y)**2)\n",
    "    outsample_r2.append(rsq)\n",
    "    rsme = sqrt(mean_squared_error(test_y, lm.predict(test_x)))\n",
    "    outsample_rsme.append(rsme)\n",
    "print \"Estimated out of sample Root mean squared error for this model is \", sum(outsample_rsme)/5\n",
    "print 'Estimated out of sample R-square for this model is',sum(outsample_r2)/5\n",
    "print 'Estimated in sample R-square for this model is',sum(insample_r2)/5"
   ]
  },
  {
   "cell_type": "markdown",
   "metadata": {},
   "source": [
    "Baseline model performs slightly better."
   ]
  },
  {
   "cell_type": "markdown",
   "metadata": {},
   "source": [
    "2.Building your model"
   ]
  },
  {
   "cell_type": "code",
   "execution_count": 47,
   "metadata": {},
   "outputs": [
    {
     "name": "stderr",
     "output_type": "stream",
     "text": [
      "/Applications/anaconda/lib/python2.7/site-packages/sklearn/linear_model/coordinate_descent.py:491: ConvergenceWarning: Objective did not converge. You might want to increase the number of iterations. Fitting data with very small alpha may cause precision problems.\n",
      "  ConvergenceWarning)\n",
      "/Applications/anaconda/lib/python2.7/site-packages/sklearn/linear_model/coordinate_descent.py:473: UserWarning: Coordinate descent with alpha=0 may lead to unexpected results and is discouraged.\n",
      "  tol, rng, random, positive)\n"
     ]
    },
    {
     "name": "stdout",
     "output_type": "stream",
     "text": [
      "Estimated out of sample Root mean squared error for this model is  37260.1485012\n",
      "Estimated out of sample R-square for this model is 0.790966421847\n",
      "Estimated in sample R-square for this model is 0.893823855579\n"
     ]
    }
   ],
   "source": [
    "#Linear regression with Lasso\n",
    "insample_r2=[]\n",
    "outsample_r2=[]\n",
    "outsample_rsme=[]\n",
    "for i in range (5):\n",
    "    training, testing = train_test_split(train1, test_size=0.2)\n",
    "    X = training.drop(columns=['SalePrice'])\n",
    "    Y = training['SalePrice']\n",
    "    test_x=testing.drop(columns=['SalePrice'])\n",
    "    test_y=testing['SalePrice']\n",
    "    alpha=np.arange(0,30,0.1)\n",
    "    singlefeatures = list(X)\n",
    "    lasso = linear_model.LassoCV(alphas=alpha,cv =5).fit(X,Y)\n",
    "    lassofeatures = np.array(singlefeatures)[np.abs(lasso.coef_)>1e-10]\n",
    "    lm = smf.ols('SalePrice ~ '+' + '.join(lassofeatures), data=training).fit()\n",
    "    insample_r2.append(lm.rsquared)\n",
    "    rsq = 1. - np.sum((lm.predict(test_x)-test_y)**2)/np.sum((\n",
    "    test_y.mean()-test_y)**2)\n",
    "    outsample_r2.append(rsq)\n",
    "    rsme = sqrt(mean_squared_error(test_y, lm.predict(test_x)))\n",
    "    outsample_rsme.append(rsme)\n",
    "print \"Estimated out of sample Root mean squared error for this model is \", sum(outsample_rsme)/5\n",
    "print 'Estimated out of sample R-square for this model is',sum(outsample_r2)/5\n",
    "print 'Estimated in sample R-square for this model is',sum(insample_r2)/5"
   ]
  },
  {
   "cell_type": "code",
   "execution_count": 54,
   "metadata": {},
   "outputs": [
    {
     "name": "stdout",
     "output_type": "stream",
     "text": [
      "Estimated out of sample Root mean squared error for this model is  33705.8380992\n",
      "Estimated out of sample R-square for this model is 0.826904215575\n",
      "Estimated in sample R-square for this model is 0.883152470449\n"
     ]
    }
   ],
   "source": [
    "#Linear regression with Ridge\n",
    "insample_r2=[]\n",
    "outsample_r2=[]\n",
    "outsample_rsme=[]\n",
    "for i in range (5):\n",
    "    training, testing = train_test_split(train1, test_size=0.2)\n",
    "    X = training.drop(columns=['SalePrice'])\n",
    "    Y = training['SalePrice']\n",
    "    test_x=testing.drop(columns=['SalePrice'])\n",
    "    test_y=testing['SalePrice']\n",
    "    alpha=np.arange(0,30,0.1)\n",
    "    ridge = linear_model.RidgeCV(alphas=alpha,cv =5).fit(X,Y)\n",
    "    R2=ridge.score(X,Y)\n",
    "    insample_r2.append(R2)\n",
    "    Prediction = ridge.predict(test_x)\n",
    "    R2_out = 1. - np.sum((Prediction-test_y)**2)/np.sum((\n",
    "    test_y.mean()-test_y)**2)\n",
    "    outsample_r2.append(R2_out)\n",
    "    rsme = sqrt(mean_squared_error(test_y, Prediction))\n",
    "    outsample_rsme.append(rsme)\n",
    "print \"Estimated out of sample Root mean squared error for this model is \", sum(outsample_rsme)/5\n",
    "print 'Estimated out of sample R-square for this model is',sum(outsample_r2)/5\n",
    "print 'Estimated in sample R-square for this model is',sum(insample_r2)/5"
   ]
  },
  {
   "cell_type": "code",
   "execution_count": 55,
   "metadata": {},
   "outputs": [
    {
     "name": "stdout",
     "output_type": "stream",
     "text": [
      "Estimated out of sample Root mean squared error for this model is  31351.3111695\n",
      "Estimated out of sample R-square for this model is 0.881967883428\n",
      "Estimated in sample R-square for this model is 0.911742111157\n"
     ]
    }
   ],
   "source": [
    "#Linear regression with Lasso and log transformation\n",
    "insample_r2=[]\n",
    "outsample_r2=[]\n",
    "outsample_rsme=[]\n",
    "for i in range (5):\n",
    "    training, testing = train_test_split(train1, test_size=0.2)\n",
    "    training = training.set_index([list(range(len(training)))])\n",
    "    for i in range(len(training[\"SalePrice\"])):\n",
    "        training.loc[i,('SalePrice')] = math.log(training.loc[i,('SalePrice')])    \n",
    "    X = training.drop(columns=['SalePrice'])\n",
    "    Y = training['SalePrice']\n",
    "    testing = testing.set_index([list(range(len(testing)))])\n",
    "    for i in range(len(testing[\"SalePrice\"])):\n",
    "        testing.loc[i,('SalePrice')] = math.log(testing.loc[i,('SalePrice')])\n",
    "    test_x=testing.drop(columns=['SalePrice'])\n",
    "    test_y=testing['SalePrice']\n",
    "    alpha=np.arange(0,30,0.1)\n",
    "    singlefeatures = list(X)\n",
    "    lasso = linear_model.LassoCV(alphas=alpha,cv =5).fit(X,Y)\n",
    "    lassofeatures = np.array(singlefeatures)[np.abs(lasso.coef_)>1e-8]\n",
    "    lm = smf.ols('SalePrice ~ '+' + '.join(lassofeatures), data=training).fit()\n",
    "    insample_r2.append(lm.rsquared)\n",
    "    rsq = 1. - np.sum((lm.predict(test_x)-test_y)**2)/np.sum((\n",
    "    test_y.mean()-test_y)**2)\n",
    "    outsample_r2.append(rsq)\n",
    "    for i in range(len(testing[\"SalePrice\"])):\n",
    "        testing.loc[i,('SalePrice')] = math.exp(testing.loc[i,('SalePrice')])\n",
    "    prediction = lm.predict(test_x)\n",
    "    for i in range(len(prediction)):\n",
    "        prediction[i]=math.exp(prediction[i])\n",
    "    rsme = sqrt(mean_squared_error(test_y, prediction))\n",
    "    outsample_rsme.append(rsme)\n",
    "print \"Estimated out of sample Root mean squared error for this model is \", sum(outsample_rsme)/5\n",
    "print 'Estimated out of sample R-square for this model is',sum(outsample_r2)/5\n",
    "print 'Estimated in sample R-square for this model is',sum(insample_r2)/5"
   ]
  },
  {
   "cell_type": "markdown",
   "metadata": {},
   "source": [
    "3. Prediction on the test set"
   ]
  },
  {
   "cell_type": "code",
   "execution_count": 61,
   "metadata": {},
   "outputs": [
    {
     "name": "stdout",
     "output_type": "stream",
     "text": [
      "Root mean squared error for this model is  22191.8965145\n",
      "R-square for this model is 0.906074169505\n"
     ]
    }
   ],
   "source": [
    "#Linear regression with Lasso and log transformation\n",
    "outsample_r2=[]\n",
    "outsample_rsme=[]\n",
    "train1 = train1.set_index([list(range(len(train1)))])\n",
    "for i in range(len(train1[\"SalePrice\"])):\n",
    "    train1.loc[i,('SalePrice')] = math.log(train1.loc[i,('SalePrice')])    \n",
    "X = train1.drop(columns=['SalePrice'])\n",
    "Y = train1['SalePrice']\n",
    "test1 = test1.set_index([list(range(len(test1)))])\n",
    "for i in range(len(test1[\"SalePrice\"])):\n",
    "    test1.loc[i,('SalePrice')] = math.log(test1.loc[i,('SalePrice')])\n",
    "test_x=test1.drop(columns=['SalePrice'])\n",
    "test_y=test1['SalePrice']\n",
    "alpha=np.arange(0,30,0.1)\n",
    "singlefeatures = list(X)\n",
    "lasso = linear_model.LassoCV(alphas=alpha,cv =5).fit(X,Y)\n",
    "lassofeatures = np.array(singlefeatures)[np.abs(lasso.coef_)>1e-8]\n",
    "lm = smf.ols('SalePrice ~ '+' + '.join(lassofeatures), data=train1).fit()\n",
    "rsq = 1. - np.sum((lm.predict(test_x)-test_y)**2)/np.sum((\n",
    "test_y.mean()-test_y)**2)\n",
    "outsample_r2.append(rsq)\n",
    "for i in range(len(test1[\"SalePrice\"])):\n",
    "    test1.loc[i,('SalePrice')] = math.exp(test1.loc[i,('SalePrice')])\n",
    "prediction = lm.predict(test_x)\n",
    "for i in range(len(prediction)):\n",
    "    prediction[i]=math.exp(prediction[i])\n",
    "rsme = sqrt(mean_squared_error(test_y, prediction))\n",
    "outsample_rsme.append(rsme)\n",
    "print \"Root mean squared error for this model is \", sum(outsample_rsme)/1\n",
    "print 'R-square for this model is',sum(outsample_r2)/1\n"
   ]
  },
  {
   "cell_type": "code",
   "execution_count": 63,
   "metadata": {
    "collapsed": true
   },
   "outputs": [],
   "source": [
    "data1 = pd.read_excel(\"RawDataFinal1.xlsx\")\n",
    "train1, test1 = train_test_split(data1, test_size=0.2,random_state=3)"
   ]
  },
  {
   "cell_type": "code",
   "execution_count": 64,
   "metadata": {},
   "outputs": [
    {
     "name": "stdout",
     "output_type": "stream",
     "text": [
      "Root mean squared error for this model is  26954.5168603\n",
      "R-square for this model is 0.868857088199\n"
     ]
    }
   ],
   "source": [
    "#Baseline model\n",
    "outsample_r2=[]\n",
    "outsample_rsme=[]\n",
    "\n",
    "train1, test1 = train_test_split(train1, test_size=0.2)\n",
    "X = train1.drop(columns=['SalePrice'])\n",
    "Y = train1['SalePrice']\n",
    "test_x=test1.drop(columns=['SalePrice'])\n",
    "test_y=test1['SalePrice']\n",
    "lm = smf.ols('SalePrice ~ '+' + '.join(list(X)), data=train1).fit()\n",
    "rsq = 1. - np.sum((lm.predict(test_x)-test_y)**2)/np.sum((\n",
    "test_y.mean()-test_y)**2)\n",
    "outsample_r2.append(rsq)\n",
    "rsme = sqrt(mean_squared_error(test_y, lm.predict(test_x)))\n",
    "outsample_rsme.append(rsme)\n",
    "print \"Root mean squared error for this model is \", sum(outsample_rsme)/1\n",
    "print 'R-square for this model is',sum(outsample_r2)/1"
   ]
  }
 ],
 "metadata": {
  "kernelspec": {
   "display_name": "Python 2",
   "language": "python",
   "name": "python2"
  },
  "language_info": {
   "codemirror_mode": {
    "name": "ipython",
    "version": 2
   },
   "file_extension": ".py",
   "mimetype": "text/x-python",
   "name": "python",
   "nbconvert_exporter": "python",
   "pygments_lexer": "ipython2",
   "version": "2.7.14"
  }
 },
 "nbformat": 4,
 "nbformat_minor": 2
}
