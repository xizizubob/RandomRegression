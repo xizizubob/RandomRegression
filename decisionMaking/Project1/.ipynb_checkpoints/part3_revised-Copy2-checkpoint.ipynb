{
 "cells": [
  {
   "cell_type": "code",
   "execution_count": 333,
   "metadata": {},
   "outputs": [],
   "source": [
    "import pandas as pd\n",
    "import numpy as np\n",
    "import seaborn as sns\n",
    "import matplotlib\n",
    "import math\n",
    "import sklearn\n",
    "from scipy import stats\n",
    "import statsmodels.formula.api as sm\n",
    "import matplotlib.pyplot as plt\n",
    "from scipy.stats import skew\n",
    "from scipy.stats.stats import pearsonr\n",
    "from sklearn import linear_model\n",
    "import patsy\n",
    "import statsmodels.formula.api as smf\n",
    "from sklearn.linear_model import Lasso\n",
    "from sklearn.linear_model import LogisticRegression\n",
    "from sklearn.model_selection import train_test_split\n",
    "from sklearn.metrics import mean_squared_error\n",
    "from math import sqrt\n",
    "from __future__ import division\n",
    "%config InlineBackend.figure_format = \n",
    "'png' #set 'png' here when working on notebook\n",
    "%matplotlib inline"
   ]
  },
  {
   "cell_type": "markdown",
   "metadata": {},
   "source": [
    "# Classification Model"
   ]
  },
  {
   "cell_type": "markdown",
   "metadata": {},
   "source": [
    "# Q1 Baseline Model "
   ]
  },
  {
   "cell_type": "code",
   "execution_count": 304,
   "metadata": {},
   "outputs": [],
   "source": [
    "data = pd.read_excel(\"NRDF.xlsx\")\n",
    "SaleOver2k = (np.array([data['SalePrice']>200000])*1).reshape(len(data),1)\n",
    "data = data.assign(SaleOver2k = SaleOver2k)"
   ]
  },
  {
   "cell_type": "code",
   "execution_count": 330,
   "metadata": {},
   "outputs": [],
   "source": [
    "train, test = train_test_split(data, test_size=0.2, random_state=9)\n",
    "test.to_csv('test.csv')\n",
    "data = train"
   ]
  },
  {
   "cell_type": "code",
   "execution_count": 340,
   "metadata": {},
   "outputs": [],
   "source": [
    "def dataCVforLinearModels(data,target,log):\n",
    "    training, testing = train_test_split(data, test_size=0.2, random_state=3)\n",
    "    if log == 'log':\n",
    "        training = training.set_index([list(range(len(training)))])\n",
    "        for i in range(len(training[\"SalePrice\"])):\n",
    "            training.loc[i,('SalePrice')] = math.log(training.loc\n",
    "                                                     [i,('SalePrice')])\n",
    "        testing = testing.set_index([list(range(len(testing)))])\n",
    "        for i in range(len(testing[\"SalePrice\"])):\n",
    "            testing.loc[i,('SalePrice')] = math.log(testing.loc\n",
    "                                                    [i,('SalePrice')])\n",
    "        test_x=testing.drop(['SalePrice'],axis = 1)\n",
    "        test_y=testing['SalePrice']\n",
    "    X = training.drop([target], axis=1)\n",
    "    Y = training[target]\n",
    "    test_x=testing.drop([target], axis=1)\n",
    "    test_y=testing[target]\n",
    "    return training,testing,X,Y,test_x,test_y\n",
    "\n",
    "def linearRegression(data,target):\n",
    "    lm = smf.ols(target+' ~ '+' + '.join(list(data.drop(\n",
    "        [target], axis=1))), data=data).fit()\n",
    "    return lm\n",
    "\n",
    "def logisticRegression(data,target):\n",
    "    lr = LogisticRegression(penalty='l1', solver='liblinear')\n",
    "    lr.fit(data.drop([target],axis=1),data[target])\n",
    "    return lr\n",
    "\n",
    "def CVforRegModels(data,target,lm,log):\n",
    "    insample_r2=[]\n",
    "    outsample_r2=[]\n",
    "    outsample_rsme=[]\n",
    "    for i in range (5):\n",
    "        training,testing,X,Y,test_x,test_y = dataCVforLinearModels(\n",
    "            data,target,log)\n",
    "        if lm == \"linear\":\n",
    "            lm = linearRegression(training,target)\n",
    "        elif lm == \"logistic\": \n",
    "            lm = logisticRegression(training,target)\n",
    "        rsq = 1. - np.sum((lm.predict(X)-Y)**2)/np.sum((\n",
    "        Y.mean()-Y)**2)\n",
    "        insample_r2.append(rsq)\n",
    "        rsq = 1. - np.sum((lm.predict(test_x)-test_y)**2)/np.sum((\n",
    "        test_y.mean()-test_y)**2)\n",
    "        outsample_r2.append(rsq)\n",
    "        rsme = sqrt(mean_squared_error(test_y, lm.predict(test_x)))\n",
    "        outsample_rsme.append(rsme)\n",
    "    print \"Estimated out of sample Root mean squared error for this model is \", sum(\n",
    "        outsample_rsme)/5\n",
    "    print 'Estimated out of sample R-square for this model is',sum(\n",
    "        outsample_r2)/5\n",
    "    print 'Estimated in sample R-square for this model is',sum(\n",
    "        insample_r2)/5\n",
    "    \n",
    "def CVforClassificationModels(data,target,lm,log):\n",
    "    insample_r2=[]\n",
    "    outsample_r2=[]\n",
    "    outsample_rsme=[]\n",
    "    for i in range (5):\n",
    "        training,testing,X,Y,test_x,test_y = dataCVforLinearModels(\n",
    "            data,target,log)\n",
    "        if lm == \"linear\":\n",
    "            lm = linearRegression(training,target)\n",
    "        elif lm == \"logistic\": \n",
    "            lm = logisticRegression(training,target)\n",
    "        ab = sum((lm.predict(X)>0.5)*1*Y )/sum(Y)\n",
    "        insample_r2.append(ab)\n",
    "        ac = sum((lm.predict(test_x)>0.5)*1*test_y )/sum(test_y)\n",
    "        outsample_r2.append(ac)\n",
    "    print 'Estimated out of sample True Positive Rate for this model is',sum(\n",
    "        outsample_r2)/5\n",
    "    print 'Estimated in sample True Positive Rate for this model is',sum(\n",
    "        insample_r2)/5\n",
    "    \n",
    "def FinalClassificationTest(data,target,lm,log):\n",
    "    insample_r2=[]\n",
    "    outsample_r2=[]\n",
    "    outsample_rsme=[]\n",
    "    for i in range (5):\n",
    "        training,testing,X,Y,test_x,test_y = dataCVforLinearModels(\n",
    "            data,target,log)\n",
    "        if lm == \"linear\":\n",
    "            lm = linearRegression(training,target)\n",
    "        elif lm == \"logistic\": \n",
    "            lm = logisticRegression(training,target)\n",
    "        ac = sum((lm.predict(test_x)>0.5)*1*test_y )/sum(test_y)\n",
    "        outsample_r2.append(ac)\n",
    "    print 'Final test True Positive Rate for this model is',sum(\n",
    "        outsample_r2)/5\n",
    "\n",
    "def FinalRegressionTest(data,target,lm,log):\n",
    "    insample_r2=[]\n",
    "    outsample_r2=[]\n",
    "    outsample_rsme=[]\n",
    "    for i in range (5):\n",
    "        training,testing,X,Y,test_x,test_y = dataCVforLinearModels(\n",
    "            data,target,log)\n",
    "        if lm == \"linear\":\n",
    "            lm = linearRegression(training,target)\n",
    "        elif lm == \"logistic\": \n",
    "            lm = logisticRegression(training,target)\n",
    "        rsq = 1. - np.sum((lm.predict(test_x)-test_y)**2)/np.sum((\n",
    "        test_y.mean()-test_y)**2)\n",
    "        outsample_r2.append(rsq)\n",
    "        rsme = sqrt(mean_squared_error(test_y, lm.predict(test_x)))\n",
    "        outsample_rsme.append(rsme)\n",
    "    print \"Estimated out of sample Root mean squared error for this model is \", sum(\n",
    "        outsample_rsme)/5\n",
    "    print 'Estimated out of sample R-square for this model is',sum(\n",
    "        outsample_r2)/5"
   ]
  },
  {
   "cell_type": "markdown",
   "metadata": {},
   "source": [
    "## pt a Classfication"
   ]
  },
  {
   "cell_type": "code",
   "execution_count": 319,
   "metadata": {},
   "outputs": [
    {
     "name": "stdout",
     "output_type": "stream",
     "text": [
      "Estimated out of sample True Positive Rate for this model is 0.8287671232876711\n",
      "Estimated in sample True Positive Rate for this model is 0.8711433756805806\n",
      "Bias of the model is 0.009076348104644971\n",
      "Variance of the model is 0.07889125799573561\n"
     ]
    }
   ],
   "source": [
    "CVforClassificationModels(data.drop([\n",
    "    'SalePrice'], axis=1),'SaleOver2k','linear','none')\n",
    "GetBiasVarianceforClassificationModels(data.drop([\n",
    "    'SalePrice'], axis=1),'SaleOver2k','linear','none')"
   ]
  },
  {
   "cell_type": "code",
   "execution_count": 312,
   "metadata": {},
   "outputs": [
    {
     "name": "stdout",
     "output_type": "stream",
     "text": [
      "model prediction mean is 0.2937660119555935\n",
      "difference ratio is 1.2912482065997204%\n"
     ]
    }
   ],
   "source": [
    "lm = logisticRegression(data.drop([\n",
    "    'SalePrice'], axis=1),'SaleOver2k')\n",
    "lm_mean = (lm.predict(data.drop([\n",
    "    'SalePrice','SaleOver2k'], axis=1))>0.5).mean()\n",
    "dt_mean = data['SaleOver2k'].mean()\n",
    "rt = abs((lm_mean-dt_mean)/dt_mean)*100\n",
    "print \"model prediction mean is \" + str(lm_mean)\n",
    "print \"difference ratio is \" + str(rt) +\"%\""
   ]
  },
  {
   "cell_type": "markdown",
   "metadata": {},
   "source": [
    "## pt b "
   ]
  },
  {
   "cell_type": "markdown",
   "metadata": {},
   "source": [
    "##### 1-0 Loss function is not a useful point of reference in this case for example: it might not punish the price\n",
    "##### large enough and a sale price way below 200,000 and one that is close to 200,000 are totally different, but 1-0\n",
    "##### loss function rates them the same way"
   ]
  },
  {
   "cell_type": "markdown",
   "metadata": {},
   "source": [
    "## pt c classification"
   ]
  },
  {
   "cell_type": "code",
   "execution_count": 267,
   "metadata": {},
   "outputs": [
    {
     "name": "stdout",
     "output_type": "stream",
     "text": [
      "these vars are selected[u'LotArea', u'TotalBsmtSF', u'GrLivArea', u'GarageArea']\n"
     ]
    }
   ],
   "source": [
    "X = data.drop(['SalePrice','SaleOver2k'], axis=1)\n",
    "Y = data['SaleOver2k']\n",
    "alpha=np.arange(20,40,1)\n",
    "singlefeatures = list(X)\n",
    "lasso = linear_model.LassoCV(alphas=alpha,cv =5).fit(X,Y)\n",
    "Importantfeatures = np.array(\n",
    "    singlefeatures)[np.abs(lasso.coef_)>1e-8]\n",
    "print \"these vars are selected\" + str(\n",
    "    list(Importantfeatures))"
   ]
  },
  {
   "cell_type": "code",
   "execution_count": 268,
   "metadata": {},
   "outputs": [],
   "source": [
    "Importantfeatures = list(set(Importantfeatures))\n",
    "Importantfeatures.append('SaleOver2k')"
   ]
  },
  {
   "cell_type": "code",
   "execution_count": 269,
   "metadata": {},
   "outputs": [
    {
     "name": "stdout",
     "output_type": "stream",
     "text": [
      "Estimated out of sample True Positive Rate for this model is 0.7411764705882353\n",
      "Estimated in sample True Positive Rate for this model is 0.7146892655367232\n"
     ]
    }
   ],
   "source": [
    "CVforClassificationModels(\n",
    "    data[Importantfeatures],'SaleOver2k','logistic',\"none\")"
   ]
  },
  {
   "cell_type": "markdown",
   "metadata": {},
   "source": [
    "#### they do not having a great in-sample score and \n",
    "#### out-sample is almost random. It does not perform as\n",
    "#### good as baseline model (almost random)"
   ]
  },
  {
   "cell_type": "markdown",
   "metadata": {},
   "source": [
    "# Q2 Buillding Models\n",
    "## Best Regression Model\n",
    "### Please see reasoning on the report"
   ]
  },
  {
   "cell_type": "code",
   "execution_count": 328,
   "metadata": {},
   "outputs": [
    {
     "name": "stdout",
     "output_type": "stream",
     "text": [
      "Estimated out of sample True Positive Rate for this model is 0.8287671232876711\n",
      "Estimated in sample True Positive Rate for this model is 0.8711433756805806\n"
     ]
    }
   ],
   "source": [
    "#baseline\n",
    "CVforClassificationModels(\n",
    "    data.drop(['SalePrice'], axis=1),'SaleOver2k','linear','none')"
   ]
  },
  {
   "cell_type": "code",
   "execution_count": 321,
   "metadata": {},
   "outputs": [
    {
     "name": "stdout",
     "output_type": "stream",
     "text": [
      "Estimated out of sample accuracy for this model is 0.17967332123411978\n"
     ]
    }
   ],
   "source": [
    "#knn\n",
    "from sklearn.neighbors import KNeighborsClassifier \n",
    "train, test = train_test_split(\n",
    "    data, test_size=0.2,random_state=3)\n",
    "neigh = KNeighborsClassifier(n_neighbors=7) \n",
    "neigh.fit(train.drop(['SalePrice','SaleOver2k'],axis=1), train['SaleOver2k']) \n",
    "a = sum(neigh.predict(test.drop([\n",
    "    'SalePrice','SaleOver2k'],axis=1))*test['SaleOver2k'])/sum(train['SaleOver2k'])\n",
    "print 'Estimated out of sample accuracy for this model is ' + str(a)"
   ]
  },
  {
   "cell_type": "code",
   "execution_count": 273,
   "metadata": {},
   "outputs": [],
   "source": [
    "#selected variable model\n",
    "data2 = pd.read_excel(\"NewData.xlsx\")\n",
    "SaleOver2k = (np.array([\n",
    "    data2['SalePrice']>200000])*1).reshape(len(data2),1)\n",
    "data2= data2.assign(SaleOver2k = SaleOver2k)\n",
    "singlefeatures = data2.columns[:-2]\n",
    "features = list(singlefeatures)\n",
    "for i in range(len(features)):\n",
    "    features[i] = \"\".join(features[i].split())\n",
    "    features[i] = features[i].replace('.','DOT')\n",
    "singlefeatures = features\n",
    "features.append('SalePrice')\n",
    "features.append('SaleOver2k')\n",
    "data2.columns = features"
   ]
  },
  {
   "cell_type": "code",
   "execution_count": 274,
   "metadata": {},
   "outputs": [
    {
     "name": "stdout",
     "output_type": "stream",
     "text": [
      "Estimated out of sample True Positive Rate for this model is 0.8469945355191257\n",
      "Estimated in sample True Positive Rate for this model is 0.8382789317507419\n"
     ]
    }
   ],
   "source": [
    "#selected variable model\n",
    "CVforClassificationModels(\n",
    "    data2.drop(['SalePrice'],axis = 1),'SaleOver2k','linear','none')"
   ]
  },
  {
   "cell_type": "code",
   "execution_count": 275,
   "metadata": {},
   "outputs": [
    {
     "name": "stdout",
     "output_type": "stream",
     "text": [
      "Estimated out of sample True Positive Rate for this model is 0.9176470588235294\n",
      "Estimated in sample True Positive Rate for this model is 0.940677966101695\n"
     ]
    }
   ],
   "source": [
    "#all variables with logistic model\n",
    "CVforClassificationModels(\n",
    "    data.drop(['SalePrice'],axis = 1),'SaleOver2k','logistic','none')\n",
    "(data.drop(['SalePrice'], axis=1),'SaleOver2k','linear','none')"
   ]
  },
  {
   "cell_type": "code",
   "execution_count": 276,
   "metadata": {},
   "outputs": [],
   "source": [
    "data = data2"
   ]
  },
  {
   "cell_type": "code",
   "execution_count": 277,
   "metadata": {},
   "outputs": [],
   "source": [
    "data['ExterQual'] = data['ExterQual'].replace('Ex', 5)\n",
    "data['ExterQual'] = data['ExterQual'].replace('Gd', 4)\n",
    "data['ExterQual'] = data['ExterQual'].replace('TA', 3)\n",
    "data['ExterQual'] = data['ExterQual'].replace('Fa', 2)\n",
    "data['ExterQual'] = data['ExterQual'].replace('Po', 1)\n",
    "data['ExterCond'] = data['ExterCond'].replace('Ex', 5)\n",
    "data['ExterCond'] = data['ExterCond'].replace('Gd', 4)\n",
    "data['ExterCond'] = data['ExterCond'].replace('TA', 3)\n",
    "data['ExterCond'] = data['ExterCond'].replace('Fa', 2)\n",
    "data['ExterCond'] = data['ExterCond'].replace('Po', 1)\n",
    "data['BsmtQual'] = data['BsmtQual'].replace('Ex', 5)\n",
    "data['BsmtQual'] = data['BsmtQual'].replace('Gd', 4)\n",
    "data['BsmtQual'] = data['BsmtQual'].replace('TA', 3)\n",
    "data['BsmtQual'] = data['BsmtQual'].replace('Fa', 2)\n",
    "data['BsmtQual'] = data['BsmtQual'].replace('Po', 1)\n",
    "data['BsmtQual'] = data['BsmtQual'].replace('No Basement', 0)\n",
    "data['BsmtCond'] = data['BsmtCond'].replace('Ex', 5)\n",
    "data['BsmtCond'] = data['BsmtCond'].replace('Gd', 4)\n",
    "data['BsmtCond'] = data['BsmtCond'].replace('TA', 3)\n",
    "data['BsmtCond'] = data['BsmtCond'].replace('Fa', 2)\n",
    "data['BsmtCond'] = data['BsmtCond'].replace('Po', 1)\n",
    "data['BsmtCond'] = data['BsmtCond'].replace('No Basement', 0)"
   ]
  },
  {
   "cell_type": "code",
   "execution_count": 278,
   "metadata": {},
   "outputs": [
    {
     "name": "stdout",
     "output_type": "stream",
     "text": [
      "Estimated out of sample True Positive Rate for this model is 0.8579234972677595\n",
      "Estimated in sample True Positive Rate for this model is 0.870919881305638\n"
     ]
    }
   ],
   "source": [
    "#Selected Variable with Logistic regression\n",
    "CVforClassificationModels(\n",
    "    data.drop(['SalePrice'],axis=1),'SaleOver2k','logistic',\"none\")"
   ]
  },
  {
   "cell_type": "code",
   "execution_count": 283,
   "metadata": {},
   "outputs": [],
   "source": [
    "#Lasso Features with Logistic regression\n",
    "X = data.drop(['SaleOver2k','SalePrice'], axis=1)\n",
    "Y = data['SaleOver2k']\n",
    "alpha=np.arange(0,150,0.1)\n",
    "singlefeatures = list(X)\n",
    "lasso = linear_model.LassoCV(alphas=alpha,cv =5).fit(X,Y)\n",
    "lassofeatures = np.array(\n",
    "    singlefeatures)[np.abs(lasso.coef_)>1e-8]\n",
    "lassofeatures = list(lassofeatures)\n",
    "lassofeatures.append('SaleOver2k')"
   ]
  },
  {
   "cell_type": "code",
   "execution_count": 291,
   "metadata": {},
   "outputs": [
    {
     "name": "stdout",
     "output_type": "stream",
     "text": [
      "Estimated out of sample True Positive Rate for this model is 0.8424657534246576\n",
      "Estimated in sample True Positive Rate for this model is 0.925589836660617\n"
     ]
    }
   ],
   "source": [
    "#Lasso Features with Logistic regression\n",
    "CVforClassificationModels(\n",
    "    data[lassofeatures],'SaleOver2k','logistic','none')"
   ]
  },
  {
   "cell_type": "markdown",
   "metadata": {},
   "source": [
    "# Q3 Prediction Classfication"
   ]
  },
  {
   "cell_type": "code",
   "execution_count": 332,
   "metadata": {},
   "outputs": [],
   "source": [
    "test = pd.read_csv(\"test.csv\")"
   ]
  },
  {
   "cell_type": "code",
   "execution_count": 290,
   "metadata": {},
   "outputs": [
    {
     "name": "stdout",
     "output_type": "stream",
     "text": [
      "Final test True Positive Rate for this model is 0.8424657534246576\n"
     ]
    }
   ],
   "source": [
    "#all variables with logistic model(best)\n",
    "FinalClassificationTest(\n",
    "    data.drop(['SalePrice'],axis = 1),'SaleOver2k','logistic','none')"
   ]
  },
  {
   "cell_type": "code",
   "execution_count": 294,
   "metadata": {},
   "outputs": [
    {
     "name": "stdout",
     "output_type": "stream",
     "text": [
      "Final test True Positive Rate for this model is 0.8287671232876711\n"
     ]
    }
   ],
   "source": [
    "#baseline_linear\n",
    "FinalClassificationTest(\n",
    "    data.drop(['SalePrice'],axis = 1),'SaleOver2k','linear','none')"
   ]
  }
 ],
 "metadata": {
  "kernelspec": {
   "display_name": "Python 2",
   "language": "python",
   "name": "python2"
  },
  "language_info": {
   "codemirror_mode": {
    "name": "ipython",
    "version": 2
   },
   "file_extension": ".py",
   "mimetype": "text/x-python",
   "name": "python",
   "nbconvert_exporter": "python",
   "pygments_lexer": "ipython2",
   "version": "2.7.13"
  }
 },
 "nbformat": 4,
 "nbformat_minor": 2
}
