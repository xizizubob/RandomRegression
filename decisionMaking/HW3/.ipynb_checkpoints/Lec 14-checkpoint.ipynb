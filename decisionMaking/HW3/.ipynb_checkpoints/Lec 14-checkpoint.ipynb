{
 "cells": [
  {
   "cell_type": "code",
   "execution_count": 200,
   "metadata": {},
   "outputs": [
    {
     "name": "stdout",
     "output_type": "stream",
     "text": [
      "Using matplotlib backend: MacOSX\n",
      "Populating the interactive namespace from numpy and matplotlib\n"
     ]
    },
    {
     "name": "stderr",
     "output_type": "stream",
     "text": [
      "/Users/kallus/Applications/anaconda2/lib/python2.7/site-packages/IPython/core/magics/pylab.py:161: UserWarning: pylab import has clobbered these variables: ['beta']\n",
      "`%matplotlib` prevents importing * from pylab and numpy\n",
      "  \"\\n`%matplotlib` prevents importing * from pylab and numpy\"\n"
     ]
    }
   ],
   "source": [
    "# set up the environment\n",
    "%pylab\n",
    "%matplotlib inline\n",
    "%config InlineBackend.figure_format = 'svg'\n",
    "import seaborn as sns\n",
    "sns.set()\n",
    "import pandas as pd\n",
    "import scipy as sp\n",
    "import scipy.stats\n",
    "import statsmodels.stats.api as sms\n",
    "import statsmodels.api as sm\n",
    "import statsmodels.formula.api as smf"
   ]
  },
  {
   "cell_type": "code",
   "execution_count": 201,
   "metadata": {},
   "outputs": [
    {
     "data": {
      "text/html": [
       "<div>\n",
       "<style>\n",
       "    .dataframe thead tr:only-child th {\n",
       "        text-align: right;\n",
       "    }\n",
       "\n",
       "    .dataframe thead th {\n",
       "        text-align: left;\n",
       "    }\n",
       "\n",
       "    .dataframe tbody tr th {\n",
       "        vertical-align: top;\n",
       "    }\n",
       "</style>\n",
       "<table border=\"1\" class=\"dataframe\">\n",
       "  <thead>\n",
       "    <tr style=\"text-align: right;\">\n",
       "      <th></th>\n",
       "      <th>lcavol</th>\n",
       "      <th>lweight</th>\n",
       "      <th>age</th>\n",
       "      <th>lbph</th>\n",
       "      <th>svi</th>\n",
       "      <th>lcp</th>\n",
       "      <th>gleason</th>\n",
       "      <th>pgg45</th>\n",
       "      <th>lpsa</th>\n",
       "    </tr>\n",
       "  </thead>\n",
       "  <tbody>\n",
       "    <tr>\n",
       "      <th>0</th>\n",
       "      <td>-0.579818</td>\n",
       "      <td>2.769459</td>\n",
       "      <td>50</td>\n",
       "      <td>-1.386294</td>\n",
       "      <td>0</td>\n",
       "      <td>-1.386294</td>\n",
       "      <td>6</td>\n",
       "      <td>0</td>\n",
       "      <td>-0.430783</td>\n",
       "    </tr>\n",
       "    <tr>\n",
       "      <th>1</th>\n",
       "      <td>-0.994252</td>\n",
       "      <td>3.319626</td>\n",
       "      <td>58</td>\n",
       "      <td>-1.386294</td>\n",
       "      <td>0</td>\n",
       "      <td>-1.386294</td>\n",
       "      <td>6</td>\n",
       "      <td>0</td>\n",
       "      <td>-0.162519</td>\n",
       "    </tr>\n",
       "    <tr>\n",
       "      <th>2</th>\n",
       "      <td>-0.510826</td>\n",
       "      <td>2.691243</td>\n",
       "      <td>74</td>\n",
       "      <td>-1.386294</td>\n",
       "      <td>0</td>\n",
       "      <td>-1.386294</td>\n",
       "      <td>7</td>\n",
       "      <td>20</td>\n",
       "      <td>-0.162519</td>\n",
       "    </tr>\n",
       "    <tr>\n",
       "      <th>3</th>\n",
       "      <td>-1.203973</td>\n",
       "      <td>3.282789</td>\n",
       "      <td>58</td>\n",
       "      <td>-1.386294</td>\n",
       "      <td>0</td>\n",
       "      <td>-1.386294</td>\n",
       "      <td>6</td>\n",
       "      <td>0</td>\n",
       "      <td>-0.162519</td>\n",
       "    </tr>\n",
       "    <tr>\n",
       "      <th>4</th>\n",
       "      <td>0.751416</td>\n",
       "      <td>3.432373</td>\n",
       "      <td>62</td>\n",
       "      <td>-1.386294</td>\n",
       "      <td>0</td>\n",
       "      <td>-1.386294</td>\n",
       "      <td>6</td>\n",
       "      <td>0</td>\n",
       "      <td>0.371564</td>\n",
       "    </tr>\n",
       "  </tbody>\n",
       "</table>\n",
       "</div>"
      ],
      "text/plain": [
       "     lcavol   lweight  age      lbph  svi       lcp  gleason  pgg45      lpsa\n",
       "0 -0.579818  2.769459   50 -1.386294    0 -1.386294        6      0 -0.430783\n",
       "1 -0.994252  3.319626   58 -1.386294    0 -1.386294        6      0 -0.162519\n",
       "2 -0.510826  2.691243   74 -1.386294    0 -1.386294        7     20 -0.162519\n",
       "3 -1.203973  3.282789   58 -1.386294    0 -1.386294        6      0 -0.162519\n",
       "4  0.751416  3.432373   62 -1.386294    0 -1.386294        6      0  0.371564"
      ]
     },
     "execution_count": 201,
     "metadata": {},
     "output_type": "execute_result"
    }
   ],
   "source": [
    "with open('prostate.data') as f:\n",
    "    prostate = pd.read_table(f)\n",
    "del prostate[prostate.columns[0]]\n",
    "del prostate[prostate.columns[-1]]\n",
    "prostate.head()\n"
   ]
  },
  {
   "cell_type": "code",
   "execution_count": 202,
   "metadata": {},
   "outputs": [
    {
     "name": "stdout",
     "output_type": "stream",
     "text": [
      "['gleason', 'pgg45', 'lcp', 'svi', 'age', 'lcavol', 'lweight', 'lbph']\n"
     ]
    }
   ],
   "source": [
    "data = prostate\n",
    "response = 'lpsa'\n",
    "singlefeatures=list(set(data.columns)-{response})\n",
    "print singlefeatures"
   ]
  },
  {
   "cell_type": "code",
   "execution_count": 203,
   "metadata": {},
   "outputs": [
    {
     "name": "stdout",
     "output_type": "stream",
     "text": [
      "['gleason:pgg45', 'gleason:lcp', 'gleason:svi', 'gleason:age', 'gleason:lcavol', 'gleason:lweight', 'gleason:lbph', 'pgg45:lcp', 'pgg45:svi', 'pgg45:age']\n"
     ]
    }
   ],
   "source": [
    "import itertools\n",
    "interactions = ['%s:%s'%v for v in itertools.combinations(singlefeatures,2)]\n",
    "print interactions[:10]"
   ]
  },
  {
   "cell_type": "code",
   "execution_count": 204,
   "metadata": {},
   "outputs": [
    {
     "data": {
      "text/html": [
       "<table class=\"simpletable\">\n",
       "<caption>OLS Regression Results</caption>\n",
       "<tr>\n",
       "  <th>Dep. Variable:</th>          <td>lpsa</td>       <th>  R-squared:         </th> <td>   0.663</td>\n",
       "</tr>\n",
       "<tr>\n",
       "  <th>Model:</th>                   <td>OLS</td>       <th>  Adj. R-squared:    </th> <td>   0.633</td>\n",
       "</tr>\n",
       "<tr>\n",
       "  <th>Method:</th>             <td>Least Squares</td>  <th>  F-statistic:       </th> <td>   21.68</td>\n",
       "</tr>\n",
       "<tr>\n",
       "  <th>Date:</th>             <td>Mon, 19 Mar 2018</td> <th>  Prob (F-statistic):</th> <td>7.65e-18</td>\n",
       "</tr>\n",
       "<tr>\n",
       "  <th>Time:</th>                 <td>15:32:03</td>     <th>  Log-Likelihood:    </th> <td> -98.248</td>\n",
       "</tr>\n",
       "<tr>\n",
       "  <th>No. Observations:</th>      <td>    97</td>      <th>  AIC:               </th> <td>   214.5</td>\n",
       "</tr>\n",
       "<tr>\n",
       "  <th>Df Residuals:</th>          <td>    88</td>      <th>  BIC:               </th> <td>   237.7</td>\n",
       "</tr>\n",
       "<tr>\n",
       "  <th>Df Model:</th>              <td>     8</td>      <th>                     </th>     <td> </td>   \n",
       "</tr>\n",
       "<tr>\n",
       "  <th>Covariance Type:</th>      <td>nonrobust</td>    <th>                     </th>     <td> </td>   \n",
       "</tr>\n",
       "</table>\n",
       "<table class=\"simpletable\">\n",
       "<tr>\n",
       "      <td></td>         <th>coef</th>     <th>std err</th>      <th>t</th>      <th>P>|t|</th>  <th>[0.025</th>    <th>0.975]</th>  \n",
       "</tr>\n",
       "<tr>\n",
       "  <th>Intercept</th> <td>    0.1816</td> <td>    1.321</td> <td>    0.137</td> <td> 0.891</td> <td>   -2.443</td> <td>    2.806</td>\n",
       "</tr>\n",
       "<tr>\n",
       "  <th>gleason</th>   <td>    0.0492</td> <td>    0.155</td> <td>    0.317</td> <td> 0.752</td> <td>   -0.259</td> <td>    0.358</td>\n",
       "</tr>\n",
       "<tr>\n",
       "  <th>pgg45</th>     <td>    0.0045</td> <td>    0.004</td> <td>    1.021</td> <td> 0.310</td> <td>   -0.004</td> <td>    0.013</td>\n",
       "</tr>\n",
       "<tr>\n",
       "  <th>lcp</th>       <td>   -0.1061</td> <td>    0.090</td> <td>   -1.180</td> <td> 0.241</td> <td>   -0.285</td> <td>    0.073</td>\n",
       "</tr>\n",
       "<tr>\n",
       "  <th>svi</th>       <td>    0.7617</td> <td>    0.241</td> <td>    3.158</td> <td> 0.002</td> <td>    0.282</td> <td>    1.241</td>\n",
       "</tr>\n",
       "<tr>\n",
       "  <th>age</th>       <td>   -0.0212</td> <td>    0.011</td> <td>   -1.917</td> <td> 0.058</td> <td>   -0.043</td> <td>    0.001</td>\n",
       "</tr>\n",
       "<tr>\n",
       "  <th>lcavol</th>    <td>    0.5643</td> <td>    0.088</td> <td>    6.425</td> <td> 0.000</td> <td>    0.390</td> <td>    0.739</td>\n",
       "</tr>\n",
       "<tr>\n",
       "  <th>lweight</th>   <td>    0.6220</td> <td>    0.201</td> <td>    3.096</td> <td> 0.003</td> <td>    0.223</td> <td>    1.021</td>\n",
       "</tr>\n",
       "<tr>\n",
       "  <th>lbph</th>      <td>    0.0967</td> <td>    0.058</td> <td>    1.670</td> <td> 0.098</td> <td>   -0.018</td> <td>    0.212</td>\n",
       "</tr>\n",
       "</table>\n",
       "<table class=\"simpletable\">\n",
       "<tr>\n",
       "  <th>Omnibus:</th>       <td> 0.563</td> <th>  Durbin-Watson:     </th> <td>   1.540</td>\n",
       "</tr>\n",
       "<tr>\n",
       "  <th>Prob(Omnibus):</th> <td> 0.755</td> <th>  Jarque-Bera (JB):  </th> <td>   0.183</td>\n",
       "</tr>\n",
       "<tr>\n",
       "  <th>Skew:</th>          <td> 0.017</td> <th>  Prob(JB):          </th> <td>   0.913</td>\n",
       "</tr>\n",
       "<tr>\n",
       "  <th>Kurtosis:</th>      <td> 3.210</td> <th>  Cond. No.          </th> <td>1.32e+03</td>\n",
       "</tr>\n",
       "</table>"
      ],
      "text/plain": [
       "<class 'statsmodels.iolib.summary.Summary'>\n",
       "\"\"\"\n",
       "                            OLS Regression Results                            \n",
       "==============================================================================\n",
       "Dep. Variable:                   lpsa   R-squared:                       0.663\n",
       "Model:                            OLS   Adj. R-squared:                  0.633\n",
       "Method:                 Least Squares   F-statistic:                     21.68\n",
       "Date:                Mon, 19 Mar 2018   Prob (F-statistic):           7.65e-18\n",
       "Time:                        15:32:03   Log-Likelihood:                -98.248\n",
       "No. Observations:                  97   AIC:                             214.5\n",
       "Df Residuals:                      88   BIC:                             237.7\n",
       "Df Model:                           8                                         \n",
       "Covariance Type:            nonrobust                                         \n",
       "==============================================================================\n",
       "                 coef    std err          t      P>|t|      [0.025      0.975]\n",
       "------------------------------------------------------------------------------\n",
       "Intercept      0.1816      1.321      0.137      0.891      -2.443       2.806\n",
       "gleason        0.0492      0.155      0.317      0.752      -0.259       0.358\n",
       "pgg45          0.0045      0.004      1.021      0.310      -0.004       0.013\n",
       "lcp           -0.1061      0.090     -1.180      0.241      -0.285       0.073\n",
       "svi            0.7617      0.241      3.158      0.002       0.282       1.241\n",
       "age           -0.0212      0.011     -1.917      0.058      -0.043       0.001\n",
       "lcavol         0.5643      0.088      6.425      0.000       0.390       0.739\n",
       "lweight        0.6220      0.201      3.096      0.003       0.223       1.021\n",
       "lbph           0.0967      0.058      1.670      0.098      -0.018       0.212\n",
       "==============================================================================\n",
       "Omnibus:                        0.563   Durbin-Watson:                   1.540\n",
       "Prob(Omnibus):                  0.755   Jarque-Bera (JB):                0.183\n",
       "Skew:                           0.017   Prob(JB):                        0.913\n",
       "Kurtosis:                       3.210   Cond. No.                     1.32e+03\n",
       "==============================================================================\n",
       "\n",
       "Warnings:\n",
       "[1] Standard Errors assume that the covariance matrix of the errors is correctly specified.\n",
       "[2] The condition number is large, 1.32e+03. This might indicate that there are\n",
       "strong multicollinearity or other numerical problems.\n",
       "\"\"\""
      ]
     },
     "execution_count": 204,
     "metadata": {},
     "output_type": "execute_result"
    }
   ],
   "source": [
    "lm = smf.ols(response+' ~ '+'+'.join(singlefeatures), data=data).fit()\n",
    "lm.summary()"
   ]
  },
  {
   "cell_type": "code",
   "execution_count": 205,
   "metadata": {},
   "outputs": [
    {
     "data": {
      "text/plain": [
       "214.49521411610266"
      ]
     },
     "execution_count": 205,
     "metadata": {},
     "output_type": "execute_result"
    }
   ],
   "source": [
    "lm.aic"
   ]
  },
  {
   "cell_type": "code",
   "execution_count": 206,
   "metadata": {
    "collapsed": true
   },
   "outputs": [],
   "source": [
    "def fitmodel(S,data,response):\n",
    "    return smf.ols(response+' ~ '+('+'.join(S) if len(S)>0 else '1'), data=data).fit()\n",
    "def getaic(lm):\n",
    "    return lm.aic\n",
    "mycriterion = getaic"
   ]
  },
  {
   "cell_type": "code",
   "execution_count": 207,
   "metadata": {},
   "outputs": [
    {
     "name": "stdout",
     "output_type": "stream",
     "text": [
      "set(['svi:lbph', 'lcavol:lbph'])\n"
     ]
    }
   ],
   "source": [
    "## forward stepwise\n",
    "Sfwd = set()\n",
    "# features = set(singlefeatures)\n",
    "features = set(singlefeatures).union(set(interactions))\n",
    "while len(Sfwd)<len(features):\n",
    "    f = max(features - Sfwd, key = lambda f: mycriterion(fitmodel(Sfwd.union({f}),data,response)))\n",
    "    after = mycriterion(fitmodel(Sfwd.union({f}),data,response))\n",
    "    before = mycriterion(fitmodel(Sfwd,data,response))\n",
    "    if after > before:\n",
    "        Sfwd = Sfwd.union({f})\n",
    "    else:\n",
    "        break\n",
    "print Sfwd\n",
    "    "
   ]
  },
  {
   "cell_type": "code",
   "execution_count": 208,
   "metadata": {},
   "outputs": [
    {
     "name": "stdout",
     "output_type": "stream",
     "text": [
      "set(['svi:age', 'gleason:lcavol', 'lweight', 'pgg45:lcavol', 'lcavol:lbph', 'lcp:lbph', 'pgg45:lweight', 'pgg45', 'gleason:lbph', 'pgg45:lcp', 'gleason:svi', 'lcp:svi', 'gleason:age', 'age:lweight', 'gleason', 'gleason:pgg45', 'lcp', 'svi:lbph', 'age:lbph', 'pgg45:svi', 'lcp:lcavol', 'lcavol:lweight', 'lcp:lweight', 'svi', 'age', 'svi:lweight', 'svi:lcavol', 'age:lcavol', 'lcavol', 'lbph'])\n"
     ]
    }
   ],
   "source": [
    "## backward stepwise\n",
    "# features = set(singlefeatures)\n",
    "features = set(singlefeatures).union(set(interactions))\n",
    "Sbwd = set(features)\n",
    "while len(Sbwd)>0:\n",
    "    f = max(Sbwd, key = lambda f: mycriterion(fitmodel(Sbwd-{f},data,response)))\n",
    "    after = mycriterion(fitmodel(Sbwd-{f},data,response))\n",
    "    before = mycriterion(fitmodel(Sbwd,data,response))\n",
    "    if after > before:\n",
    "        Sbwd = Sbwd-{f}\n",
    "    else:\n",
    "        break\n",
    "print Sbwd\n",
    "    "
   ]
  },
  {
   "cell_type": "code",
   "execution_count": 209,
   "metadata": {},
   "outputs": [
    {
     "name": "stdout",
     "output_type": "stream",
     "text": [
      "set(['svi:lbph', 'lcavol:lbph'])\n"
     ]
    }
   ],
   "source": [
    "## stepwise\n",
    "Sboth = Sfwd if mycriterion(fitmodel(Sfwd,data,response)) > mycriterion(fitmodel(Sbwd,data,response)) else Sbwd\n",
    "print Sboth\n"
   ]
  },
  {
   "cell_type": "code",
   "execution_count": 210,
   "metadata": {},
   "outputs": [
    {
     "name": "stdout",
     "output_type": "stream",
     "text": [
      "229.422658202\n",
      "306.532631721\n",
      "240.270532295\n",
      "306.532631721\n"
     ]
    }
   ],
   "source": [
    "print fitmodel(features,data,response).aic\n",
    "print fitmodel(Sfwd,data,response).aic\n",
    "print fitmodel(Sbwd,data,response).aic\n",
    "print fitmodel(Sboth,data,response).aic\n"
   ]
  },
  {
   "cell_type": "code",
   "execution_count": 213,
   "metadata": {},
   "outputs": [
    {
     "data": {
      "text/html": [
       "<table class=\"simpletable\">\n",
       "<caption>OLS Regression Results</caption>\n",
       "<tr>\n",
       "  <th>Dep. Variable:</th>          <td>lpsa</td>       <th>  R-squared:         </th> <td>   0.016</td>\n",
       "</tr>\n",
       "<tr>\n",
       "  <th>Model:</th>                   <td>OLS</td>       <th>  Adj. R-squared:    </th> <td>  -0.005</td>\n",
       "</tr>\n",
       "<tr>\n",
       "  <th>Method:</th>             <td>Least Squares</td>  <th>  F-statistic:       </th> <td>  0.7713</td>\n",
       "</tr>\n",
       "<tr>\n",
       "  <th>Date:</th>             <td>Mon, 19 Mar 2018</td> <th>  Prob (F-statistic):</th>  <td> 0.465</td> \n",
       "</tr>\n",
       "<tr>\n",
       "  <th>Time:</th>                 <td>15:35:43</td>     <th>  Log-Likelihood:    </th> <td> -150.27</td>\n",
       "</tr>\n",
       "<tr>\n",
       "  <th>No. Observations:</th>      <td>    97</td>      <th>  AIC:               </th> <td>   306.5</td>\n",
       "</tr>\n",
       "<tr>\n",
       "  <th>Df Residuals:</th>          <td>    94</td>      <th>  BIC:               </th> <td>   314.3</td>\n",
       "</tr>\n",
       "<tr>\n",
       "  <th>Df Model:</th>              <td>     2</td>      <th>                     </th>     <td> </td>   \n",
       "</tr>\n",
       "<tr>\n",
       "  <th>Covariance Type:</th>      <td>nonrobust</td>    <th>                     </th>     <td> </td>   \n",
       "</tr>\n",
       "</table>\n",
       "<table class=\"simpletable\">\n",
       "<tr>\n",
       "       <td></td>          <th>coef</th>     <th>std err</th>      <th>t</th>      <th>P>|t|</th>  <th>[0.025</th>    <th>0.975]</th>  \n",
       "</tr>\n",
       "<tr>\n",
       "  <th>Intercept</th>   <td>    2.4656</td> <td>    0.119</td> <td>   20.788</td> <td> 0.000</td> <td>    2.230</td> <td>    2.701</td>\n",
       "</tr>\n",
       "<tr>\n",
       "  <th>svi:lbph</th>    <td>   -0.2850</td> <td>    0.243</td> <td>   -1.173</td> <td> 0.244</td> <td>   -0.767</td> <td>    0.197</td>\n",
       "</tr>\n",
       "<tr>\n",
       "  <th>lcavol:lbph</th> <td>    0.0245</td> <td>    0.060</td> <td>    0.410</td> <td> 0.682</td> <td>   -0.094</td> <td>    0.143</td>\n",
       "</tr>\n",
       "</table>\n",
       "<table class=\"simpletable\">\n",
       "<tr>\n",
       "  <th>Omnibus:</th>       <td> 2.760</td> <th>  Durbin-Watson:     </th> <td>   0.040</td>\n",
       "</tr>\n",
       "<tr>\n",
       "  <th>Prob(Omnibus):</th> <td> 0.252</td> <th>  Jarque-Bera (JB):  </th> <td>   2.629</td>\n",
       "</tr>\n",
       "<tr>\n",
       "  <th>Skew:</th>          <td> 0.027</td> <th>  Prob(JB):          </th> <td>   0.269</td>\n",
       "</tr>\n",
       "<tr>\n",
       "  <th>Kurtosis:</th>      <td> 3.805</td> <th>  Cond. No.          </th> <td>    5.35</td>\n",
       "</tr>\n",
       "</table>"
      ],
      "text/plain": [
       "<class 'statsmodels.iolib.summary.Summary'>\n",
       "\"\"\"\n",
       "                            OLS Regression Results                            \n",
       "==============================================================================\n",
       "Dep. Variable:                   lpsa   R-squared:                       0.016\n",
       "Model:                            OLS   Adj. R-squared:                 -0.005\n",
       "Method:                 Least Squares   F-statistic:                    0.7713\n",
       "Date:                Mon, 19 Mar 2018   Prob (F-statistic):              0.465\n",
       "Time:                        15:35:43   Log-Likelihood:                -150.27\n",
       "No. Observations:                  97   AIC:                             306.5\n",
       "Df Residuals:                      94   BIC:                             314.3\n",
       "Df Model:                           2                                         \n",
       "Covariance Type:            nonrobust                                         \n",
       "===============================================================================\n",
       "                  coef    std err          t      P>|t|      [0.025      0.975]\n",
       "-------------------------------------------------------------------------------\n",
       "Intercept       2.4656      0.119     20.788      0.000       2.230       2.701\n",
       "svi:lbph       -0.2850      0.243     -1.173      0.244      -0.767       0.197\n",
       "lcavol:lbph     0.0245      0.060      0.410      0.682      -0.094       0.143\n",
       "==============================================================================\n",
       "Omnibus:                        2.760   Durbin-Watson:                   0.040\n",
       "Prob(Omnibus):                  0.252   Jarque-Bera (JB):                2.629\n",
       "Skew:                           0.027   Prob(JB):                        0.269\n",
       "Kurtosis:                       3.805   Cond. No.                         5.35\n",
       "==============================================================================\n",
       "\n",
       "Warnings:\n",
       "[1] Standard Errors assume that the covariance matrix of the errors is correctly specified.\n",
       "\"\"\""
      ]
     },
     "execution_count": 213,
     "metadata": {},
     "output_type": "execute_result"
    }
   ],
   "source": [
    "lm = smf.ols(response+' ~ '+'+'.join(Sboth), data=data).fit()\n",
    "lm.summary()"
   ]
  },
  {
   "cell_type": "code",
   "execution_count": 224,
   "metadata": {
    "scrolled": true
   },
   "outputs": [
    {
     "data": {
      "text/plain": [
       "array([ 0,  1,  2,  3,  4,  5,  6,  7,  8,  9, 10, 11, 12, 13, 14, 15, 16,\n",
       "       17, 18, 19, 20, 21, 22, 23, 24, 25, 26, 27, 28, 29, 30, 31, 32, 33,\n",
       "       34, 35, 36, 37, 38, 39, 40, 41, 42, 43, 44, 45, 46, 47, 48, 49, 50,\n",
       "       51, 52, 53, 54, 55, 56, 57, 58, 59, 60, 61, 62, 63, 64, 65, 66, 67,\n",
       "       68, 69, 70, 71, 72, 73, 74, 75, 76, 77, 78, 79, 80, 81, 82, 83, 84,\n",
       "       85, 86, 87, 88, 89, 90, 91, 92, 93, 94, 95, 96], dtype=int32)"
      ]
     },
     "execution_count": 224,
     "metadata": {},
     "output_type": "execute_result"
    }
   ],
   "source": [
    "# folds = 10\n",
    "folds = 100\n",
    "idxs = np.arange(len(data),dtype='i')/int(np.ceil(len(data)/float(folds)))\n",
    "idxs"
   ]
  },
  {
   "cell_type": "code",
   "execution_count": 215,
   "metadata": {
    "collapsed": true,
    "scrolled": true
   },
   "outputs": [],
   "source": [
    "def CV_MSE(response, features, data, idxs):\n",
    "    fs = max(idxs)+1\n",
    "    mses = np.zeros(fs)\n",
    "    for f in range(fs):\n",
    "        mses[f] = ((data[idxs==f][response]\n",
    "            -\n",
    "            fitmodel(features,data[idxs!=f],response).predict(data[idxs==f]))**2).mean()\n",
    "    return mses.mean(), mses.std(ddof=1)/np.sqrt(fs)\n"
   ]
  },
  {
   "cell_type": "code",
   "execution_count": 225,
   "metadata": {},
   "outputs": [
    {
     "data": {
      "text/plain": [
       "(1.3905174029101879, 0.2393445009003656)"
      ]
     },
     "execution_count": 225,
     "metadata": {},
     "output_type": "execute_result"
    }
   ],
   "source": [
    "CV_MSE(response,Sboth,data,idxs)"
   ]
  },
  {
   "cell_type": "code",
   "execution_count": 226,
   "metadata": {
    "scrolled": true
   },
   "outputs": [
    {
     "data": {
      "text/plain": [
       "(0.54132905390533437, 0.083703795097385916)"
      ]
     },
     "execution_count": 226,
     "metadata": {},
     "output_type": "execute_result"
    }
   ],
   "source": [
    "CV_MSE(response,features,data,idxs)"
   ]
  },
  {
   "cell_type": "code",
   "execution_count": 218,
   "metadata": {
    "collapsed": true
   },
   "outputs": [],
   "source": [
    "def getssr(lm):\n",
    "    return -lm.ssr\n",
    "mycriterion = getssr"
   ]
  },
  {
   "cell_type": "code",
   "execution_count": 227,
   "metadata": {
    "collapsed": true
   },
   "outputs": [],
   "source": [
    "## forward stepwise CV\n",
    "features = set(singlefeatures)\n",
    "# features = set(singlefeatures).union(set(interactions))\n",
    "S = set()\n",
    "Ss  = [None for i in range(len(features)+1)]\n",
    "CVs = np.zeros(len(features)+1)\n",
    "SEs = np.zeros(len(features)+1)\n",
    "while True:\n",
    "    Ss[len(S)] = S\n",
    "    CVs[len(S)],SEs[len(S)] = CV_MSE(response,S,data,idxs)\n",
    "    if len(S)>=len(features):\n",
    "        break\n",
    "    f = max(features - S, key = lambda f: mycriterion(fitmodel(S.union({f}),data,response)))\n",
    "    S = S.union({f})\n"
   ]
  },
  {
   "cell_type": "code",
   "execution_count": 228,
   "metadata": {},
   "outputs": [
    {
     "data": {
      "text/plain": [
       "0.52552752191650132"
      ]
     },
     "execution_count": 228,
     "metadata": {},
     "output_type": "execute_result"
    }
   ],
   "source": [
    "CVs.min()"
   ]
  },
  {
   "cell_type": "code",
   "execution_count": 229,
   "metadata": {},
   "outputs": [
    {
     "data": {
      "text/plain": [
       "{'lcavol', 'lweight', 'svi'}"
      ]
     },
     "execution_count": 229,
     "metadata": {},
     "output_type": "execute_result"
    }
   ],
   "source": [
    "Sfwdvc0=Ss[CVs.argmin()]\n",
    "Sfwdvc0"
   ]
  },
  {
   "cell_type": "code",
   "execution_count": 230,
   "metadata": {},
   "outputs": [
    {
     "data": {
      "text/plain": [
       "<Container object of 3 artists>"
      ]
     },
     "execution_count": 230,
     "metadata": {},
     "output_type": "execute_result"
    },
    {
     "data": {
      "image/svg+xml": [
       "<?xml version=\"1.0\" encoding=\"utf-8\" standalone=\"no\"?>\n",
       "<!DOCTYPE svg PUBLIC \"-//W3C//DTD SVG 1.1//EN\"\n",
       "  \"http://www.w3.org/Graphics/SVG/1.1/DTD/svg11.dtd\">\n",
       "<!-- Created with matplotlib (http://matplotlib.org/) -->\n",
       "<svg height=\"248pt\" version=\"1.1\" viewBox=\"0 0 370 248\" width=\"370pt\" xmlns=\"http://www.w3.org/2000/svg\" xmlns:xlink=\"http://www.w3.org/1999/xlink\">\n",
       " <defs>\n",
       "  <style type=\"text/css\">\n",
       "*{stroke-linecap:butt;stroke-linejoin:round;}\n",
       "  </style>\n",
       " </defs>\n",
       " <g id=\"figure_1\">\n",
       "  <g id=\"patch_1\">\n",
       "   <path d=\"M 0 248.153048 \n",
       "L 370.1 248.153048 \n",
       "L 370.1 0 \n",
       "L 0 0 \n",
       "z\n",
       "\" style=\"fill:#ffffff;\"/>\n",
       "  </g>\n",
       "  <g id=\"axes_1\">\n",
       "   <g id=\"patch_2\">\n",
       "    <path d=\"M 28.1 224.807735 \n",
       "L 362.9 224.807735 \n",
       "L 362.9 7.367735 \n",
       "L 28.1 7.367735 \n",
       "z\n",
       "\" style=\"fill:#eaeaf2;\"/>\n",
       "   </g>\n",
       "   <g id=\"matplotlib.axis_1\">\n",
       "    <g id=\"xtick_1\">\n",
       "     <g id=\"line2d_1\">\n",
       "      <path clip-path=\"url(#p5736341f7a)\" d=\"M 43.318182 224.807735 \n",
       "L 43.318182 7.367735 \n",
       "\" style=\"fill:none;stroke:#ffffff;stroke-linecap:round;\"/>\n",
       "     </g>\n",
       "     <g id=\"line2d_2\"/>\n",
       "     <g id=\"text_1\">\n",
       "      <!-- 0 -->\n",
       "      <defs>\n",
       "       <path d=\"M 4.15625 35.296875 \n",
       "Q 4.15625 48 6.765625 55.734375 \n",
       "Q 9.375 63.484375 14.515625 67.671875 \n",
       "Q 19.671875 71.875 27.484375 71.875 \n",
       "Q 33.25 71.875 37.59375 69.546875 \n",
       "Q 41.9375 67.234375 44.765625 62.859375 \n",
       "Q 47.609375 58.5 49.21875 52.21875 \n",
       "Q 50.828125 45.953125 50.828125 35.296875 \n",
       "Q 50.828125 22.703125 48.234375 14.96875 \n",
       "Q 45.65625 7.234375 40.5 3 \n",
       "Q 35.359375 -1.21875 27.484375 -1.21875 \n",
       "Q 17.140625 -1.21875 11.234375 6.203125 \n",
       "Q 4.15625 15.140625 4.15625 35.296875 \n",
       "z\n",
       "M 13.1875 35.296875 \n",
       "Q 13.1875 17.671875 17.3125 11.828125 \n",
       "Q 21.4375 6 27.484375 6 \n",
       "Q 33.546875 6 37.671875 11.859375 \n",
       "Q 41.796875 17.71875 41.796875 35.296875 \n",
       "Q 41.796875 52.984375 37.671875 58.78125 \n",
       "Q 33.546875 64.59375 27.390625 64.59375 \n",
       "Q 21.34375 64.59375 17.71875 59.46875 \n",
       "Q 13.1875 52.9375 13.1875 35.296875 \n",
       "z\n",
       "\" id=\"ArialMT-30\"/>\n",
       "      </defs>\n",
       "      <g style=\"fill:#262626;\" transform=\"translate(40.537713 238.965548)scale(0.1 -0.1)\">\n",
       "       <use xlink:href=\"#ArialMT-30\"/>\n",
       "      </g>\n",
       "     </g>\n",
       "    </g>\n",
       "    <g id=\"xtick_2\">\n",
       "     <g id=\"line2d_3\">\n",
       "      <path clip-path=\"url(#p5736341f7a)\" d=\"M 81.363636 224.807735 \n",
       "L 81.363636 7.367735 \n",
       "\" style=\"fill:none;stroke:#ffffff;stroke-linecap:round;\"/>\n",
       "     </g>\n",
       "     <g id=\"line2d_4\"/>\n",
       "     <g id=\"text_2\">\n",
       "      <!-- 1 -->\n",
       "      <defs>\n",
       "       <path d=\"M 37.25 0 \n",
       "L 28.46875 0 \n",
       "L 28.46875 56 \n",
       "Q 25.296875 52.984375 20.140625 49.953125 \n",
       "Q 14.984375 46.921875 10.890625 45.40625 \n",
       "L 10.890625 53.90625 \n",
       "Q 18.265625 57.375 23.78125 62.296875 \n",
       "Q 29.296875 67.234375 31.59375 71.875 \n",
       "L 37.25 71.875 \n",
       "z\n",
       "\" id=\"ArialMT-31\"/>\n",
       "      </defs>\n",
       "      <g style=\"fill:#262626;\" transform=\"translate(78.583168 238.965548)scale(0.1 -0.1)\">\n",
       "       <use xlink:href=\"#ArialMT-31\"/>\n",
       "      </g>\n",
       "     </g>\n",
       "    </g>\n",
       "    <g id=\"xtick_3\">\n",
       "     <g id=\"line2d_5\">\n",
       "      <path clip-path=\"url(#p5736341f7a)\" d=\"M 119.409091 224.807735 \n",
       "L 119.409091 7.367735 \n",
       "\" style=\"fill:none;stroke:#ffffff;stroke-linecap:round;\"/>\n",
       "     </g>\n",
       "     <g id=\"line2d_6\"/>\n",
       "     <g id=\"text_3\">\n",
       "      <!-- 2 -->\n",
       "      <defs>\n",
       "       <path d=\"M 50.34375 8.453125 \n",
       "L 50.34375 0 \n",
       "L 3.03125 0 \n",
       "Q 2.9375 3.171875 4.046875 6.109375 \n",
       "Q 5.859375 10.9375 9.828125 15.625 \n",
       "Q 13.8125 20.3125 21.34375 26.46875 \n",
       "Q 33.015625 36.03125 37.109375 41.625 \n",
       "Q 41.21875 47.21875 41.21875 52.203125 \n",
       "Q 41.21875 57.421875 37.46875 61 \n",
       "Q 33.734375 64.59375 27.734375 64.59375 \n",
       "Q 21.390625 64.59375 17.578125 60.78125 \n",
       "Q 13.765625 56.984375 13.71875 50.25 \n",
       "L 4.6875 51.171875 \n",
       "Q 5.609375 61.28125 11.65625 66.578125 \n",
       "Q 17.71875 71.875 27.9375 71.875 \n",
       "Q 38.234375 71.875 44.234375 66.15625 \n",
       "Q 50.25 60.453125 50.25 52 \n",
       "Q 50.25 47.703125 48.484375 43.546875 \n",
       "Q 46.734375 39.40625 42.65625 34.8125 \n",
       "Q 38.578125 30.21875 29.109375 22.21875 \n",
       "Q 21.1875 15.578125 18.9375 13.203125 \n",
       "Q 16.703125 10.84375 15.234375 8.453125 \n",
       "z\n",
       "\" id=\"ArialMT-32\"/>\n",
       "      </defs>\n",
       "      <g style=\"fill:#262626;\" transform=\"translate(116.628622 238.965548)scale(0.1 -0.1)\">\n",
       "       <use xlink:href=\"#ArialMT-32\"/>\n",
       "      </g>\n",
       "     </g>\n",
       "    </g>\n",
       "    <g id=\"xtick_4\">\n",
       "     <g id=\"line2d_7\">\n",
       "      <path clip-path=\"url(#p5736341f7a)\" d=\"M 157.454545 224.807735 \n",
       "L 157.454545 7.367735 \n",
       "\" style=\"fill:none;stroke:#ffffff;stroke-linecap:round;\"/>\n",
       "     </g>\n",
       "     <g id=\"line2d_8\"/>\n",
       "     <g id=\"text_4\">\n",
       "      <!-- 3 -->\n",
       "      <defs>\n",
       "       <path d=\"M 4.203125 18.890625 \n",
       "L 12.984375 20.0625 \n",
       "Q 14.5 12.59375 18.140625 9.296875 \n",
       "Q 21.78125 6 27 6 \n",
       "Q 33.203125 6 37.46875 10.296875 \n",
       "Q 41.75 14.59375 41.75 20.953125 \n",
       "Q 41.75 27 37.796875 30.921875 \n",
       "Q 33.84375 34.859375 27.734375 34.859375 \n",
       "Q 25.25 34.859375 21.53125 33.890625 \n",
       "L 22.515625 41.609375 \n",
       "Q 23.390625 41.5 23.921875 41.5 \n",
       "Q 29.546875 41.5 34.03125 44.421875 \n",
       "Q 38.53125 47.359375 38.53125 53.46875 \n",
       "Q 38.53125 58.296875 35.25 61.46875 \n",
       "Q 31.984375 64.65625 26.8125 64.65625 \n",
       "Q 21.6875 64.65625 18.265625 61.421875 \n",
       "Q 14.84375 58.203125 13.875 51.765625 \n",
       "L 5.078125 53.328125 \n",
       "Q 6.6875 62.15625 12.390625 67.015625 \n",
       "Q 18.109375 71.875 26.609375 71.875 \n",
       "Q 32.46875 71.875 37.390625 69.359375 \n",
       "Q 42.328125 66.84375 44.9375 62.5 \n",
       "Q 47.5625 58.15625 47.5625 53.265625 \n",
       "Q 47.5625 48.640625 45.0625 44.828125 \n",
       "Q 42.578125 41.015625 37.703125 38.765625 \n",
       "Q 44.046875 37.3125 47.5625 32.6875 \n",
       "Q 51.078125 28.078125 51.078125 21.140625 \n",
       "Q 51.078125 11.765625 44.234375 5.25 \n",
       "Q 37.40625 -1.265625 26.953125 -1.265625 \n",
       "Q 17.53125 -1.265625 11.296875 4.34375 \n",
       "Q 5.078125 9.96875 4.203125 18.890625 \n",
       "z\n",
       "\" id=\"ArialMT-33\"/>\n",
       "      </defs>\n",
       "      <g style=\"fill:#262626;\" transform=\"translate(154.674077 238.965548)scale(0.1 -0.1)\">\n",
       "       <use xlink:href=\"#ArialMT-33\"/>\n",
       "      </g>\n",
       "     </g>\n",
       "    </g>\n",
       "    <g id=\"xtick_5\">\n",
       "     <g id=\"line2d_9\">\n",
       "      <path clip-path=\"url(#p5736341f7a)\" d=\"M 195.5 224.807735 \n",
       "L 195.5 7.367735 \n",
       "\" style=\"fill:none;stroke:#ffffff;stroke-linecap:round;\"/>\n",
       "     </g>\n",
       "     <g id=\"line2d_10\"/>\n",
       "     <g id=\"text_5\">\n",
       "      <!-- 4 -->\n",
       "      <defs>\n",
       "       <path d=\"M 32.328125 0 \n",
       "L 32.328125 17.140625 \n",
       "L 1.265625 17.140625 \n",
       "L 1.265625 25.203125 \n",
       "L 33.9375 71.578125 \n",
       "L 41.109375 71.578125 \n",
       "L 41.109375 25.203125 \n",
       "L 50.78125 25.203125 \n",
       "L 50.78125 17.140625 \n",
       "L 41.109375 17.140625 \n",
       "L 41.109375 0 \n",
       "z\n",
       "M 32.328125 25.203125 \n",
       "L 32.328125 57.46875 \n",
       "L 9.90625 25.203125 \n",
       "z\n",
       "\" id=\"ArialMT-34\"/>\n",
       "      </defs>\n",
       "      <g style=\"fill:#262626;\" transform=\"translate(192.719531 238.965548)scale(0.1 -0.1)\">\n",
       "       <use xlink:href=\"#ArialMT-34\"/>\n",
       "      </g>\n",
       "     </g>\n",
       "    </g>\n",
       "    <g id=\"xtick_6\">\n",
       "     <g id=\"line2d_11\">\n",
       "      <path clip-path=\"url(#p5736341f7a)\" d=\"M 233.545455 224.807735 \n",
       "L 233.545455 7.367735 \n",
       "\" style=\"fill:none;stroke:#ffffff;stroke-linecap:round;\"/>\n",
       "     </g>\n",
       "     <g id=\"line2d_12\"/>\n",
       "     <g id=\"text_6\">\n",
       "      <!-- 5 -->\n",
       "      <defs>\n",
       "       <path d=\"M 4.15625 18.75 \n",
       "L 13.375 19.53125 \n",
       "Q 14.40625 12.796875 18.140625 9.390625 \n",
       "Q 21.875 6 27.15625 6 \n",
       "Q 33.5 6 37.890625 10.78125 \n",
       "Q 42.28125 15.578125 42.28125 23.484375 \n",
       "Q 42.28125 31 38.0625 35.34375 \n",
       "Q 33.84375 39.703125 27 39.703125 \n",
       "Q 22.75 39.703125 19.328125 37.765625 \n",
       "Q 15.921875 35.84375 13.96875 32.765625 \n",
       "L 5.71875 33.84375 \n",
       "L 12.640625 70.609375 \n",
       "L 48.25 70.609375 \n",
       "L 48.25 62.203125 \n",
       "L 19.671875 62.203125 \n",
       "L 15.828125 42.96875 \n",
       "Q 22.265625 47.46875 29.34375 47.46875 \n",
       "Q 38.71875 47.46875 45.15625 40.96875 \n",
       "Q 51.609375 34.46875 51.609375 24.265625 \n",
       "Q 51.609375 14.546875 45.953125 7.46875 \n",
       "Q 39.0625 -1.21875 27.15625 -1.21875 \n",
       "Q 17.390625 -1.21875 11.203125 4.25 \n",
       "Q 5.03125 9.71875 4.15625 18.75 \n",
       "z\n",
       "\" id=\"ArialMT-35\"/>\n",
       "      </defs>\n",
       "      <g style=\"fill:#262626;\" transform=\"translate(230.764986 238.965548)scale(0.1 -0.1)\">\n",
       "       <use xlink:href=\"#ArialMT-35\"/>\n",
       "      </g>\n",
       "     </g>\n",
       "    </g>\n",
       "    <g id=\"xtick_7\">\n",
       "     <g id=\"line2d_13\">\n",
       "      <path clip-path=\"url(#p5736341f7a)\" d=\"M 271.590909 224.807735 \n",
       "L 271.590909 7.367735 \n",
       "\" style=\"fill:none;stroke:#ffffff;stroke-linecap:round;\"/>\n",
       "     </g>\n",
       "     <g id=\"line2d_14\"/>\n",
       "     <g id=\"text_7\">\n",
       "      <!-- 6 -->\n",
       "      <defs>\n",
       "       <path d=\"M 49.75 54.046875 \n",
       "L 41.015625 53.375 \n",
       "Q 39.84375 58.546875 37.703125 60.890625 \n",
       "Q 34.125 64.65625 28.90625 64.65625 \n",
       "Q 24.703125 64.65625 21.53125 62.3125 \n",
       "Q 17.390625 59.28125 14.984375 53.46875 \n",
       "Q 12.59375 47.65625 12.5 36.921875 \n",
       "Q 15.671875 41.75 20.265625 44.09375 \n",
       "Q 24.859375 46.4375 29.890625 46.4375 \n",
       "Q 38.671875 46.4375 44.84375 39.96875 \n",
       "Q 51.03125 33.5 51.03125 23.25 \n",
       "Q 51.03125 16.5 48.125 10.71875 \n",
       "Q 45.21875 4.9375 40.140625 1.859375 \n",
       "Q 35.0625 -1.21875 28.609375 -1.21875 \n",
       "Q 17.625 -1.21875 10.6875 6.859375 \n",
       "Q 3.765625 14.9375 3.765625 33.5 \n",
       "Q 3.765625 54.25 11.421875 63.671875 \n",
       "Q 18.109375 71.875 29.4375 71.875 \n",
       "Q 37.890625 71.875 43.28125 67.140625 \n",
       "Q 48.6875 62.40625 49.75 54.046875 \n",
       "z\n",
       "M 13.875 23.1875 \n",
       "Q 13.875 18.65625 15.796875 14.5 \n",
       "Q 17.71875 10.359375 21.1875 8.171875 \n",
       "Q 24.65625 6 28.46875 6 \n",
       "Q 34.03125 6 38.03125 10.484375 \n",
       "Q 42.046875 14.984375 42.046875 22.703125 \n",
       "Q 42.046875 30.125 38.078125 34.390625 \n",
       "Q 34.125 38.671875 28.125 38.671875 \n",
       "Q 22.171875 38.671875 18.015625 34.390625 \n",
       "Q 13.875 30.125 13.875 23.1875 \n",
       "z\n",
       "\" id=\"ArialMT-36\"/>\n",
       "      </defs>\n",
       "      <g style=\"fill:#262626;\" transform=\"translate(268.81044 238.965548)scale(0.1 -0.1)\">\n",
       "       <use xlink:href=\"#ArialMT-36\"/>\n",
       "      </g>\n",
       "     </g>\n",
       "    </g>\n",
       "    <g id=\"xtick_8\">\n",
       "     <g id=\"line2d_15\">\n",
       "      <path clip-path=\"url(#p5736341f7a)\" d=\"M 309.636364 224.807735 \n",
       "L 309.636364 7.367735 \n",
       "\" style=\"fill:none;stroke:#ffffff;stroke-linecap:round;\"/>\n",
       "     </g>\n",
       "     <g id=\"line2d_16\"/>\n",
       "     <g id=\"text_8\">\n",
       "      <!-- 7 -->\n",
       "      <defs>\n",
       "       <path d=\"M 4.734375 62.203125 \n",
       "L 4.734375 70.65625 \n",
       "L 51.078125 70.65625 \n",
       "L 51.078125 63.8125 \n",
       "Q 44.234375 56.546875 37.515625 44.484375 \n",
       "Q 30.8125 32.421875 27.15625 19.671875 \n",
       "Q 24.515625 10.6875 23.78125 0 \n",
       "L 14.75 0 \n",
       "Q 14.890625 8.453125 18.0625 20.40625 \n",
       "Q 21.234375 32.375 27.171875 43.484375 \n",
       "Q 33.109375 54.59375 39.796875 62.203125 \n",
       "z\n",
       "\" id=\"ArialMT-37\"/>\n",
       "      </defs>\n",
       "      <g style=\"fill:#262626;\" transform=\"translate(306.855895 238.965548)scale(0.1 -0.1)\">\n",
       "       <use xlink:href=\"#ArialMT-37\"/>\n",
       "      </g>\n",
       "     </g>\n",
       "    </g>\n",
       "    <g id=\"xtick_9\">\n",
       "     <g id=\"line2d_17\">\n",
       "      <path clip-path=\"url(#p5736341f7a)\" d=\"M 347.681818 224.807735 \n",
       "L 347.681818 7.367735 \n",
       "\" style=\"fill:none;stroke:#ffffff;stroke-linecap:round;\"/>\n",
       "     </g>\n",
       "     <g id=\"line2d_18\"/>\n",
       "     <g id=\"text_9\">\n",
       "      <!-- 8 -->\n",
       "      <defs>\n",
       "       <path d=\"M 17.671875 38.8125 \n",
       "Q 12.203125 40.828125 9.5625 44.53125 \n",
       "Q 6.9375 48.25 6.9375 53.421875 \n",
       "Q 6.9375 61.234375 12.546875 66.546875 \n",
       "Q 18.171875 71.875 27.484375 71.875 \n",
       "Q 36.859375 71.875 42.578125 66.421875 \n",
       "Q 48.296875 60.984375 48.296875 53.171875 \n",
       "Q 48.296875 48.1875 45.671875 44.5 \n",
       "Q 43.0625 40.828125 37.75 38.8125 \n",
       "Q 44.34375 36.671875 47.78125 31.875 \n",
       "Q 51.21875 27.09375 51.21875 20.453125 \n",
       "Q 51.21875 11.28125 44.71875 5.03125 \n",
       "Q 38.234375 -1.21875 27.640625 -1.21875 \n",
       "Q 17.046875 -1.21875 10.546875 5.046875 \n",
       "Q 4.046875 11.328125 4.046875 20.703125 \n",
       "Q 4.046875 27.6875 7.59375 32.390625 \n",
       "Q 11.140625 37.109375 17.671875 38.8125 \n",
       "z\n",
       "M 15.921875 53.71875 \n",
       "Q 15.921875 48.640625 19.1875 45.40625 \n",
       "Q 22.46875 42.1875 27.6875 42.1875 \n",
       "Q 32.765625 42.1875 36.015625 45.375 \n",
       "Q 39.265625 48.578125 39.265625 53.21875 \n",
       "Q 39.265625 58.0625 35.90625 61.359375 \n",
       "Q 32.5625 64.65625 27.59375 64.65625 \n",
       "Q 22.5625 64.65625 19.234375 61.421875 \n",
       "Q 15.921875 58.203125 15.921875 53.71875 \n",
       "z\n",
       "M 13.09375 20.65625 \n",
       "Q 13.09375 16.890625 14.875 13.375 \n",
       "Q 16.65625 9.859375 20.171875 7.921875 \n",
       "Q 23.6875 6 27.734375 6 \n",
       "Q 34.03125 6 38.125 10.046875 \n",
       "Q 42.234375 14.109375 42.234375 20.359375 \n",
       "Q 42.234375 26.703125 38.015625 30.859375 \n",
       "Q 33.796875 35.015625 27.4375 35.015625 \n",
       "Q 21.234375 35.015625 17.15625 30.90625 \n",
       "Q 13.09375 26.8125 13.09375 20.65625 \n",
       "z\n",
       "\" id=\"ArialMT-38\"/>\n",
       "      </defs>\n",
       "      <g style=\"fill:#262626;\" transform=\"translate(344.901349 238.965548)scale(0.1 -0.1)\">\n",
       "       <use xlink:href=\"#ArialMT-38\"/>\n",
       "      </g>\n",
       "     </g>\n",
       "    </g>\n",
       "   </g>\n",
       "   <g id=\"matplotlib.axis_2\">\n",
       "    <g id=\"ytick_1\">\n",
       "     <g id=\"line2d_19\">\n",
       "      <path clip-path=\"url(#p5736341f7a)\" d=\"M 28.1 223.591275 \n",
       "L 362.9 223.591275 \n",
       "\" style=\"fill:none;stroke:#ffffff;stroke-linecap:round;\"/>\n",
       "     </g>\n",
       "     <g id=\"line2d_20\"/>\n",
       "     <g id=\"text_10\">\n",
       "      <!-- 0.4 -->\n",
       "      <defs>\n",
       "       <path d=\"M 9.078125 0 \n",
       "L 9.078125 10.015625 \n",
       "L 19.09375 10.015625 \n",
       "L 19.09375 0 \n",
       "z\n",
       "\" id=\"ArialMT-2e\"/>\n",
       "      </defs>\n",
       "      <g style=\"fill:#262626;\" transform=\"translate(7.2 227.170182)scale(0.1 -0.1)\">\n",
       "       <use xlink:href=\"#ArialMT-30\"/>\n",
       "       <use x=\"55.615234\" xlink:href=\"#ArialMT-2e\"/>\n",
       "       <use x=\"83.398438\" xlink:href=\"#ArialMT-34\"/>\n",
       "      </g>\n",
       "     </g>\n",
       "    </g>\n",
       "    <g id=\"ytick_2\">\n",
       "     <g id=\"line2d_21\">\n",
       "      <path clip-path=\"url(#p5736341f7a)\" d=\"M 28.1 188.122547 \n",
       "L 362.9 188.122547 \n",
       "\" style=\"fill:none;stroke:#ffffff;stroke-linecap:round;\"/>\n",
       "     </g>\n",
       "     <g id=\"line2d_22\"/>\n",
       "     <g id=\"text_11\">\n",
       "      <!-- 0.6 -->\n",
       "      <g style=\"fill:#262626;\" transform=\"translate(7.2 191.701453)scale(0.1 -0.1)\">\n",
       "       <use xlink:href=\"#ArialMT-30\"/>\n",
       "       <use x=\"55.615234\" xlink:href=\"#ArialMT-2e\"/>\n",
       "       <use x=\"83.398438\" xlink:href=\"#ArialMT-36\"/>\n",
       "      </g>\n",
       "     </g>\n",
       "    </g>\n",
       "    <g id=\"ytick_3\">\n",
       "     <g id=\"line2d_23\">\n",
       "      <path clip-path=\"url(#p5736341f7a)\" d=\"M 28.1 152.653819 \n",
       "L 362.9 152.653819 \n",
       "\" style=\"fill:none;stroke:#ffffff;stroke-linecap:round;\"/>\n",
       "     </g>\n",
       "     <g id=\"line2d_24\"/>\n",
       "     <g id=\"text_12\">\n",
       "      <!-- 0.8 -->\n",
       "      <g style=\"fill:#262626;\" transform=\"translate(7.2 156.232725)scale(0.1 -0.1)\">\n",
       "       <use xlink:href=\"#ArialMT-30\"/>\n",
       "       <use x=\"55.615234\" xlink:href=\"#ArialMT-2e\"/>\n",
       "       <use x=\"83.398438\" xlink:href=\"#ArialMT-38\"/>\n",
       "      </g>\n",
       "     </g>\n",
       "    </g>\n",
       "    <g id=\"ytick_4\">\n",
       "     <g id=\"line2d_25\">\n",
       "      <path clip-path=\"url(#p5736341f7a)\" d=\"M 28.1 117.185091 \n",
       "L 362.9 117.185091 \n",
       "\" style=\"fill:none;stroke:#ffffff;stroke-linecap:round;\"/>\n",
       "     </g>\n",
       "     <g id=\"line2d_26\"/>\n",
       "     <g id=\"text_13\">\n",
       "      <!-- 1.0 -->\n",
       "      <g style=\"fill:#262626;\" transform=\"translate(7.2 120.763997)scale(0.1 -0.1)\">\n",
       "       <use xlink:href=\"#ArialMT-31\"/>\n",
       "       <use x=\"55.615234\" xlink:href=\"#ArialMT-2e\"/>\n",
       "       <use x=\"83.398438\" xlink:href=\"#ArialMT-30\"/>\n",
       "      </g>\n",
       "     </g>\n",
       "    </g>\n",
       "    <g id=\"ytick_5\">\n",
       "     <g id=\"line2d_27\">\n",
       "      <path clip-path=\"url(#p5736341f7a)\" d=\"M 28.1 81.716363 \n",
       "L 362.9 81.716363 \n",
       "\" style=\"fill:none;stroke:#ffffff;stroke-linecap:round;\"/>\n",
       "     </g>\n",
       "     <g id=\"line2d_28\"/>\n",
       "     <g id=\"text_14\">\n",
       "      <!-- 1.2 -->\n",
       "      <g style=\"fill:#262626;\" transform=\"translate(7.2 85.295269)scale(0.1 -0.1)\">\n",
       "       <use xlink:href=\"#ArialMT-31\"/>\n",
       "       <use x=\"55.615234\" xlink:href=\"#ArialMT-2e\"/>\n",
       "       <use x=\"83.398438\" xlink:href=\"#ArialMT-32\"/>\n",
       "      </g>\n",
       "     </g>\n",
       "    </g>\n",
       "    <g id=\"ytick_6\">\n",
       "     <g id=\"line2d_29\">\n",
       "      <path clip-path=\"url(#p5736341f7a)\" d=\"M 28.1 46.247634 \n",
       "L 362.9 46.247634 \n",
       "\" style=\"fill:none;stroke:#ffffff;stroke-linecap:round;\"/>\n",
       "     </g>\n",
       "     <g id=\"line2d_30\"/>\n",
       "     <g id=\"text_15\">\n",
       "      <!-- 1.4 -->\n",
       "      <g style=\"fill:#262626;\" transform=\"translate(7.2 49.826541)scale(0.1 -0.1)\">\n",
       "       <use xlink:href=\"#ArialMT-31\"/>\n",
       "       <use x=\"55.615234\" xlink:href=\"#ArialMT-2e\"/>\n",
       "       <use x=\"83.398438\" xlink:href=\"#ArialMT-34\"/>\n",
       "      </g>\n",
       "     </g>\n",
       "    </g>\n",
       "    <g id=\"ytick_7\">\n",
       "     <g id=\"line2d_31\">\n",
       "      <path clip-path=\"url(#p5736341f7a)\" d=\"M 28.1 10.778906 \n",
       "L 362.9 10.778906 \n",
       "\" style=\"fill:none;stroke:#ffffff;stroke-linecap:round;\"/>\n",
       "     </g>\n",
       "     <g id=\"line2d_32\"/>\n",
       "     <g id=\"text_16\">\n",
       "      <!-- 1.6 -->\n",
       "      <g style=\"fill:#262626;\" transform=\"translate(7.2 14.357812)scale(0.1 -0.1)\">\n",
       "       <use xlink:href=\"#ArialMT-31\"/>\n",
       "       <use x=\"55.615234\" xlink:href=\"#ArialMT-2e\"/>\n",
       "       <use x=\"83.398438\" xlink:href=\"#ArialMT-36\"/>\n",
       "      </g>\n",
       "     </g>\n",
       "    </g>\n",
       "   </g>\n",
       "   <g id=\"LineCollection_1\">\n",
       "    <path clip-path=\"url(#p5736341f7a)\" d=\"M 43.318182 94.270895 \n",
       "L 43.318182 17.251372 \n",
       "\" style=\"fill:none;stroke:#4c72b0;stroke-width:1.75;\"/>\n",
       "    <path clip-path=\"url(#p5736341f7a)\" d=\"M 81.363636 197.020563 \n",
       "L 81.363636 166.550988 \n",
       "\" style=\"fill:none;stroke:#4c72b0;stroke-width:1.75;\"/>\n",
       "    <path clip-path=\"url(#p5736341f7a)\" d=\"M 119.409091 207.575972 \n",
       "L 119.409091 179.543973 \n",
       "\" style=\"fill:none;stroke:#4c72b0;stroke-width:1.75;\"/>\n",
       "    <path clip-path=\"url(#p5736341f7a)\" d=\"M 157.454545 214.216871 \n",
       "L 157.454545 188.442664 \n",
       "\" style=\"fill:none;stroke:#4c72b0;stroke-width:1.75;\"/>\n",
       "    <path clip-path=\"url(#p5736341f7a)\" d=\"M 195.5 214.29498 \n",
       "L 195.5 187.623537 \n",
       "\" style=\"fill:none;stroke:#4c72b0;stroke-width:1.75;\"/>\n",
       "    <path clip-path=\"url(#p5736341f7a)\" d=\"M 233.545455 214.924099 \n",
       "L 233.545455 187.674569 \n",
       "\" style=\"fill:none;stroke:#4c72b0;stroke-width:1.75;\"/>\n",
       "    <path clip-path=\"url(#p5736341f7a)\" d=\"M 271.590909 214.689916 \n",
       "L 271.590909 186.721916 \n",
       "\" style=\"fill:none;stroke:#4c72b0;stroke-width:1.75;\"/>\n",
       "    <path clip-path=\"url(#p5736341f7a)\" d=\"M 309.636364 214.794038 \n",
       "L 309.636364 185.66661 \n",
       "\" style=\"fill:none;stroke:#4c72b0;stroke-width:1.75;\"/>\n",
       "    <path clip-path=\"url(#p5736341f7a)\" d=\"M 347.681818 213.371802 \n",
       "L 347.681818 183.683131 \n",
       "\" style=\"fill:none;stroke:#4c72b0;stroke-width:1.75;\"/>\n",
       "   </g>\n",
       "   <g id=\"line2d_33\">\n",
       "    <path clip-path=\"url(#p5736341f7a)\" d=\"M 43.318182 55.761133 \n",
       "L 81.363636 181.785776 \n",
       "L 119.409091 193.559972 \n",
       "L 157.454545 201.329768 \n",
       "L 195.5 200.959259 \n",
       "L 233.545455 201.299334 \n",
       "L 271.590909 200.705916 \n",
       "L 309.636364 200.230324 \n",
       "L 347.681818 198.527466 \n",
       "\" style=\"fill:none;stroke:#4c72b0;stroke-linecap:round;stroke-width:1.75;\"/>\n",
       "   </g>\n",
       "   <g id=\"patch_3\">\n",
       "    <path d=\"M 28.1 224.807735 \n",
       "L 28.1 7.367735 \n",
       "\" style=\"fill:none;\"/>\n",
       "   </g>\n",
       "   <g id=\"patch_4\">\n",
       "    <path d=\"M 362.9 224.807735 \n",
       "L 362.9 7.367735 \n",
       "\" style=\"fill:none;\"/>\n",
       "   </g>\n",
       "   <g id=\"patch_5\">\n",
       "    <path d=\"M 28.1 224.807735 \n",
       "L 362.9 224.807735 \n",
       "\" style=\"fill:none;\"/>\n",
       "   </g>\n",
       "   <g id=\"patch_6\">\n",
       "    <path d=\"M 28.1 7.367735 \n",
       "L 362.9 7.367735 \n",
       "\" style=\"fill:none;\"/>\n",
       "   </g>\n",
       "  </g>\n",
       " </g>\n",
       " <defs>\n",
       "  <clipPath id=\"p5736341f7a\">\n",
       "   <rect height=\"217.44\" width=\"334.8\" x=\"28.1\" y=\"7.367735\"/>\n",
       "  </clipPath>\n",
       " </defs>\n",
       "</svg>\n"
      ],
      "text/plain": [
       "<matplotlib.figure.Figure at 0x123b2a910>"
      ]
     },
     "metadata": {},
     "output_type": "display_data"
    }
   ],
   "source": [
    "errorbar(range(len(features)+1), CVs, yerr=SEs)"
   ]
  },
  {
   "cell_type": "code",
   "execution_count": 231,
   "metadata": {},
   "outputs": [
    {
     "data": {
      "text/plain": [
       "{'lcavol', 'lweight'}"
      ]
     },
     "execution_count": 231,
     "metadata": {},
     "output_type": "execute_result"
    }
   ],
   "source": [
    "## stepwise fwd regression with one-standard-error rule\n",
    "Sfwdvc1=Ss[np.where(CVs<=CVs.min()+SEs[CVs.argmin()])[0][0]]\n",
    "Sfwdvc1"
   ]
  },
  {
   "cell_type": "code",
   "execution_count": 232,
   "metadata": {
    "collapsed": true
   },
   "outputs": [],
   "source": [
    "from sklearn import linear_model\n",
    "import patsy\n",
    "holdout = 10\n",
    "features = list(set(singlefeatures).union(set(interactions)))\n",
    "X=patsy.dmatrix('+'.join(features)+'-1',data)\n",
    "Y=data[response]\n",
    "ridge = linear_model.RidgeCV().fit(X[holdout:],Y[holdout:])\n",
    "ols = smf.ols(response+' ~ '+'+'.join(features), data=data[holdout:]).fit()\n"
   ]
  },
  {
   "cell_type": "code",
   "execution_count": 233,
   "metadata": {},
   "outputs": [
    {
     "name": "stdout",
     "output_type": "stream",
     "text": [
      "2.74046226328\n",
      "2.10103026293\n"
     ]
    }
   ],
   "source": [
    "print ((ols.predict(data[:holdout])-data[response][:holdout])**2).mean()\n",
    "print ((ridge.predict(X[:holdout])-Y[:holdout])**2).mean()\n"
   ]
  },
  {
   "cell_type": "code",
   "execution_count": 234,
   "metadata": {},
   "outputs": [
    {
     "name": "stderr",
     "output_type": "stream",
     "text": [
      "/Users/kallus/Applications/anaconda2/lib/python2.7/site-packages/sklearn/linear_model/coordinate_descent.py:491: ConvergenceWarning: Objective did not converge. You might want to increase the number of iterations. Fitting data with very small alpha may cause precision problems.\n",
      "  ConvergenceWarning)\n"
     ]
    }
   ],
   "source": [
    "from sklearn import linear_model\n",
    "import patsy\n",
    "holdout = 10\n",
    "features = list(set(singlefeatures).union(set(interactions)))\n",
    "X=patsy.dmatrix('+'.join(features)+'-1',data)\n",
    "Y=data[response]\n",
    "lasso = linear_model.LassoCV().fit(X[holdout:],Y[holdout:])\n",
    "ols = smf.ols(response+' ~ '+'+'.join(features), data=data[holdout:]).fit()\n"
   ]
  },
  {
   "cell_type": "code",
   "execution_count": 235,
   "metadata": {},
   "outputs": [
    {
     "name": "stdout",
     "output_type": "stream",
     "text": [
      "2.74046226328\n",
      "2.03883662242\n"
     ]
    }
   ],
   "source": [
    "print ((ols.predict(data[:holdout])-data[response][:holdout])**2).mean()\n",
    "print ((lasso.predict(X[:holdout])-Y[:holdout])**2).mean()\n"
   ]
  },
  {
   "cell_type": "code",
   "execution_count": 236,
   "metadata": {},
   "outputs": [
    {
     "data": {
      "text/plain": [
       "array([ 0.01146079, -0.        ,  0.        ,  0.        ,  0.00829897,\n",
       "       -0.00017829, -0.        , -0.        ,  0.00093953,  0.        ,\n",
       "        0.        , -0.00723929,  0.        ,  0.00052736,  0.        ,\n",
       "       -0.00415825,  0.00314955,  0.        ,  0.00072485,  0.        ,\n",
       "       -0.        ,  0.        ,  0.00149471,  0.        , -0.        ,\n",
       "        0.        ,  0.        ,  0.        ,  0.        ,  0.        ,\n",
       "       -0.        ,  0.        ,  0.        ,  0.00566784,  0.        ,  0.        ])"
      ]
     },
     "execution_count": 236,
     "metadata": {},
     "output_type": "execute_result"
    }
   ],
   "source": [
    "lasso.coef_"
   ]
  },
  {
   "cell_type": "code",
   "execution_count": 237,
   "metadata": {},
   "outputs": [
    {
     "data": {
      "text/plain": [
       "array(['svi:age', 'pgg45:lcavol', 'pgg45:age', 'pgg45:lweight',\n",
       "       'pgg45:lcp', 'lcp:age', 'gleason:age', 'age:lweight',\n",
       "       'gleason:pgg45', 'age:lbph', 'age:lcavol'], \n",
       "      dtype='|S15')"
      ]
     },
     "execution_count": 237,
     "metadata": {},
     "output_type": "execute_result"
    }
   ],
   "source": [
    "np.array(features)[np.abs(lasso.coef_)>1e-10]"
   ]
  },
  {
   "cell_type": "code",
   "execution_count": 238,
   "metadata": {},
   "outputs": [
    {
     "name": "stdout",
     "output_type": "stream",
     "text": [
      "2.30890511517\n"
     ]
    }
   ],
   "source": [
    "ols2 = smf.ols(response+' ~ '+'+'.join(np.array(features)[lasso.coef_>0]), data=data[holdout:]).fit()\n",
    "print ((ols2.predict(data[:holdout])-data[response][:holdout])**2).mean()"
   ]
  },
  {
   "cell_type": "code",
   "execution_count": 240,
   "metadata": {
    "collapsed": true
   },
   "outputs": [],
   "source": [
    "\n",
    "holdout = 10\n",
    "features = list(set(singlefeatures).union(set(interactions)))\n",
    "X=patsy.dmatrix('+'.join(features)+'-1',data)\n",
    "Y=data[response]\n",
    "en = linear_model.ElasticNetCV(l1_ratio=0.5).fit(X[holdout:],Y[holdout:])\n",
    "ols = smf.ols(response+' ~ '+'+'.join(features), data=data[holdout:]).fit()\n"
   ]
  },
  {
   "cell_type": "code",
   "execution_count": 241,
   "metadata": {},
   "outputs": [
    {
     "name": "stdout",
     "output_type": "stream",
     "text": [
      "2.74046226328\n",
      "2.03900878728\n"
     ]
    }
   ],
   "source": [
    "print ((ols.predict(data[:holdout])-data[response][:holdout])**2).mean()\n",
    "print ((en.predict(X[:holdout])-Y[:holdout])**2).mean()\n"
   ]
  },
  {
   "cell_type": "code",
   "execution_count": 242,
   "metadata": {},
   "outputs": [
    {
     "data": {
      "text/plain": [
       "array(['svi:age', 'pgg45:lcavol', 'pgg45:age', 'pgg45:lweight',\n",
       "       'pgg45:lcp', 'lcp:age', 'gleason:age', 'age:lweight',\n",
       "       'gleason:pgg45', 'age:lbph', 'age:lcavol'], \n",
       "      dtype='|S15')"
      ]
     },
     "execution_count": 242,
     "metadata": {},
     "output_type": "execute_result"
    }
   ],
   "source": [
    "np.array(features)[np.abs(en.coef_)>1e-10]"
   ]
  },
  {
   "cell_type": "code",
   "execution_count": 243,
   "metadata": {},
   "outputs": [
    {
     "data": {
      "text/html": [
       "<table class=\"simpletable\">\n",
       "<caption>OLS Regression Results</caption>\n",
       "<tr>\n",
       "  <th>Dep. Variable:</th>          <td>lpsa</td>       <th>  R-squared:         </th> <td>   0.505</td>\n",
       "</tr>\n",
       "<tr>\n",
       "  <th>Model:</th>                   <td>OLS</td>       <th>  Adj. R-squared:    </th> <td>   0.454</td>\n",
       "</tr>\n",
       "<tr>\n",
       "  <th>Method:</th>             <td>Least Squares</td>  <th>  F-statistic:       </th> <td>   9.932</td>\n",
       "</tr>\n",
       "<tr>\n",
       "  <th>Date:</th>             <td>Mon, 19 Mar 2018</td> <th>  Prob (F-statistic):</th> <td>2.01e-09</td>\n",
       "</tr>\n",
       "<tr>\n",
       "  <th>Time:</th>                 <td>16:33:28</td>     <th>  Log-Likelihood:    </th> <td> -87.293</td>\n",
       "</tr>\n",
       "<tr>\n",
       "  <th>No. Observations:</th>      <td>    87</td>      <th>  AIC:               </th> <td>   192.6</td>\n",
       "</tr>\n",
       "<tr>\n",
       "  <th>Df Residuals:</th>          <td>    78</td>      <th>  BIC:               </th> <td>   214.8</td>\n",
       "</tr>\n",
       "<tr>\n",
       "  <th>Df Model:</th>              <td>     8</td>      <th>                     </th>     <td> </td>   \n",
       "</tr>\n",
       "<tr>\n",
       "  <th>Covariance Type:</th>      <td>nonrobust</td>    <th>                     </th>     <td> </td>   \n",
       "</tr>\n",
       "</table>\n",
       "<table class=\"simpletable\">\n",
       "<tr>\n",
       "        <td></td>           <th>coef</th>     <th>std err</th>      <th>t</th>      <th>P>|t|</th>  <th>[0.025</th>    <th>0.975]</th>  \n",
       "</tr>\n",
       "<tr>\n",
       "  <th>Intercept</th>     <td>    2.1577</td> <td>    0.475</td> <td>    4.542</td> <td> 0.000</td> <td>    1.212</td> <td>    3.103</td>\n",
       "</tr>\n",
       "<tr>\n",
       "  <th>svi:age</th>       <td>    0.0116</td> <td>    0.004</td> <td>    3.150</td> <td> 0.002</td> <td>    0.004</td> <td>    0.019</td>\n",
       "</tr>\n",
       "<tr>\n",
       "  <th>pgg45:lcavol</th>  <td>    0.0026</td> <td>    0.003</td> <td>    0.808</td> <td> 0.421</td> <td>   -0.004</td> <td>    0.009</td>\n",
       "</tr>\n",
       "<tr>\n",
       "  <th>pgg45:lweight</th> <td>    0.0055</td> <td>    0.004</td> <td>    1.488</td> <td> 0.141</td> <td>   -0.002</td> <td>    0.013</td>\n",
       "</tr>\n",
       "<tr>\n",
       "  <th>lcp:age</th>       <td>   -0.0018</td> <td>    0.001</td> <td>   -1.193</td> <td> 0.236</td> <td>   -0.005</td> <td>    0.001</td>\n",
       "</tr>\n",
       "<tr>\n",
       "  <th>age:lweight</th>   <td>   -0.0016</td> <td>    0.002</td> <td>   -0.736</td> <td> 0.464</td> <td>   -0.006</td> <td>    0.003</td>\n",
       "</tr>\n",
       "<tr>\n",
       "  <th>gleason:pgg45</th> <td>   -0.0028</td> <td>    0.002</td> <td>   -1.678</td> <td> 0.097</td> <td>   -0.006</td> <td>    0.001</td>\n",
       "</tr>\n",
       "<tr>\n",
       "  <th>age:lbph</th>      <td>    0.0012</td> <td>    0.001</td> <td>    1.297</td> <td> 0.198</td> <td>   -0.001</td> <td>    0.003</td>\n",
       "</tr>\n",
       "<tr>\n",
       "  <th>age:lcavol</th>    <td>    0.0060</td> <td>    0.002</td> <td>    3.670</td> <td> 0.000</td> <td>    0.003</td> <td>    0.009</td>\n",
       "</tr>\n",
       "</table>\n",
       "<table class=\"simpletable\">\n",
       "<tr>\n",
       "  <th>Omnibus:</th>       <td> 2.736</td> <th>  Durbin-Watson:     </th> <td>   1.041</td>\n",
       "</tr>\n",
       "<tr>\n",
       "  <th>Prob(Omnibus):</th> <td> 0.255</td> <th>  Jarque-Bera (JB):  </th> <td>   2.106</td>\n",
       "</tr>\n",
       "<tr>\n",
       "  <th>Skew:</th>          <td> 0.242</td> <th>  Prob(JB):          </th> <td>   0.349</td>\n",
       "</tr>\n",
       "<tr>\n",
       "  <th>Kurtosis:</th>      <td> 3.590</td> <th>  Cond. No.          </th> <td>2.56e+03</td>\n",
       "</tr>\n",
       "</table>"
      ],
      "text/plain": [
       "<class 'statsmodels.iolib.summary.Summary'>\n",
       "\"\"\"\n",
       "                            OLS Regression Results                            \n",
       "==============================================================================\n",
       "Dep. Variable:                   lpsa   R-squared:                       0.505\n",
       "Model:                            OLS   Adj. R-squared:                  0.454\n",
       "Method:                 Least Squares   F-statistic:                     9.932\n",
       "Date:                Mon, 19 Mar 2018   Prob (F-statistic):           2.01e-09\n",
       "Time:                        16:33:28   Log-Likelihood:                -87.293\n",
       "No. Observations:                  87   AIC:                             192.6\n",
       "Df Residuals:                      78   BIC:                             214.8\n",
       "Df Model:                           8                                         \n",
       "Covariance Type:            nonrobust                                         \n",
       "=================================================================================\n",
       "                    coef    std err          t      P>|t|      [0.025      0.975]\n",
       "---------------------------------------------------------------------------------\n",
       "Intercept         2.1577      0.475      4.542      0.000       1.212       3.103\n",
       "svi:age           0.0116      0.004      3.150      0.002       0.004       0.019\n",
       "pgg45:lcavol      0.0026      0.003      0.808      0.421      -0.004       0.009\n",
       "pgg45:lweight     0.0055      0.004      1.488      0.141      -0.002       0.013\n",
       "lcp:age          -0.0018      0.001     -1.193      0.236      -0.005       0.001\n",
       "age:lweight      -0.0016      0.002     -0.736      0.464      -0.006       0.003\n",
       "gleason:pgg45    -0.0028      0.002     -1.678      0.097      -0.006       0.001\n",
       "age:lbph          0.0012      0.001      1.297      0.198      -0.001       0.003\n",
       "age:lcavol        0.0060      0.002      3.670      0.000       0.003       0.009\n",
       "==============================================================================\n",
       "Omnibus:                        2.736   Durbin-Watson:                   1.041\n",
       "Prob(Omnibus):                  0.255   Jarque-Bera (JB):                2.106\n",
       "Skew:                           0.242   Prob(JB):                        0.349\n",
       "Kurtosis:                       3.590   Cond. No.                     2.56e+03\n",
       "==============================================================================\n",
       "\n",
       "Warnings:\n",
       "[1] Standard Errors assume that the covariance matrix of the errors is correctly specified.\n",
       "[2] The condition number is large, 2.56e+03. This might indicate that there are\n",
       "strong multicollinearity or other numerical problems.\n",
       "\"\"\""
      ]
     },
     "execution_count": 243,
     "metadata": {},
     "output_type": "execute_result"
    }
   ],
   "source": [
    "ols2.summary()"
   ]
  },
  {
   "cell_type": "code",
   "execution_count": 244,
   "metadata": {
    "collapsed": true
   },
   "outputs": [],
   "source": [
    "d = 100\n",
    "beta = np.hstack((np.ones(d/2),np.zeros(d/2)))\n",
    "def generate_data(n):\n",
    "    X = np.random.randn(n,d)\n",
    "    Y = X.dot(beta) + np.random.randn()\n",
    "    return Y,X"
   ]
  },
  {
   "cell_type": "code",
   "execution_count": 245,
   "metadata": {},
   "outputs": [
    {
     "name": "stdout",
     "output_type": "stream",
     "text": [
      "1.19594889216\n",
      "1.0088192231\n"
     ]
    }
   ],
   "source": [
    "np.random.seed(0)\n",
    "y,x = generate_data(1)\n",
    "print sm.OLS(*generate_data(200)).fit().get_prediction(x).se_mean[0]\n",
    "preds = [sm.OLS(*generate_data(200)).fit().predict(x) for i in range(200)]\n",
    "print np.std(preds)\n"
   ]
  },
  {
   "cell_type": "code",
   "execution_count": 252,
   "metadata": {},
   "outputs": [
    {
     "name": "stdout",
     "output_type": "stream",
     "text": [
      "[ True False False False False  True  True False False  True False False\n",
      "  True False  True  True  True  True False False False False False False\n",
      "  True  True False False  True False False  True False  True False False\n",
      " False  True  True False False False False  True  True  True False  True\n",
      " False False False False False False False False False False  True  True\n",
      " False False False False False False False  True False False  True  True\n",
      " False False False False False False False False False  True False False\n",
      " False False False  True False False False  True False False  True  True\n",
      " False False False False]\n",
      "1.09262759432\n"
     ]
    }
   ],
   "source": [
    "np.random.seed(0)\n",
    "n = 50\n",
    "Y,X = generate_data(n)\n",
    "lasso = linear_model.LassoCV().fit(X,Y)\n",
    "lassofeatures = np.abs(lasso.coef_)>1e-10\n",
    "print lassofeatures\n",
    "print sm.OLS(Y,X[:,lassofeatures]).fit().get_prediction(x[:,lassofeatures]).se_mean[0]\n"
   ]
  },
  {
   "cell_type": "code",
   "execution_count": 251,
   "metadata": {
    "scrolled": true
   },
   "outputs": [
    {
     "name": "stdout",
     "output_type": "stream",
     "text": [
      "5.9619919711\n"
     ]
    }
   ],
   "source": [
    "lamb = lasso.alpha_\n",
    "preds = np.zeros(200)\n",
    "for i in range(200):\n",
    "    Y,X = generate_data(n)\n",
    "    lasso = linear_model.Lasso(alpha=lamb).fit(X,Y)\n",
    "    lassofeatures = np.abs(lasso.coef_)>1e-10\n",
    "    preds[i] = sm.OLS(Y,X[:,lassofeatures]).fit().predict(x[:,lassofeatures])[0]\n",
    "print np.std(preds)"
   ]
  }
 ],
 "metadata": {
  "kernelspec": {
   "display_name": "Python 2",
   "language": "python",
   "name": "python2"
  },
  "language_info": {
   "codemirror_mode": {
    "name": "ipython",
    "version": 2
   },
   "file_extension": ".py",
   "mimetype": "text/x-python",
   "name": "python",
   "nbconvert_exporter": "python",
   "pygments_lexer": "ipython2",
   "version": "2.7.13"
  }
 },
 "nbformat": 4,
 "nbformat_minor": 2
}
