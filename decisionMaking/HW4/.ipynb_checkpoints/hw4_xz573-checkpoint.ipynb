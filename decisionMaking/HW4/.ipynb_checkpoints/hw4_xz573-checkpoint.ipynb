{
 "cells": [
  {
   "cell_type": "code",
   "execution_count": 394,
   "metadata": {},
   "outputs": [
    {
     "name": "stdout",
     "output_type": "stream",
     "text": [
      "Populating the interactive namespace from numpy and matplotlib\n"
     ]
    }
   ],
   "source": [
    "import pandas as pd\n",
    "import numpy as np\n",
    "import seaborn as sns\n",
    "import matplotlib\n",
    "import math\n",
    "import sklearn\n",
    "from scipy import stats\n",
    "import statsmodels.formula.api as sm\n",
    "\n",
    "import matplotlib.pyplot as plt\n",
    "from scipy.stats import skew\n",
    "from scipy.stats.stats import pearsonr\n",
    "from sklearn import linear_model\n",
    "import patsy\n",
    "import statsmodels.formula.api as smf\n",
    "from sklearn.linear_model import Lasso\n",
    "from sklearn.linear_model import LogisticRegression\n",
    "from sklearn.model_selection import train_test_split\n",
    "from sklearn.metrics import mean_squared_error\n",
    "from math import sqrt\n",
    "from __future__ import division\n",
    "import matplotlib.pyplot as plt\n",
    "import scipy\n",
    "%matplotlib inline\n",
    "%pylab inline"
   ]
  },
  {
   "cell_type": "markdown",
   "metadata": {},
   "source": [
    "# Q1 \n",
    "## part A"
   ]
  },
  {
   "cell_type": "code",
   "execution_count": 6,
   "metadata": {},
   "outputs": [],
   "source": [
    "data = pd.read_table(\"card.dat\")"
   ]
  },
  {
   "cell_type": "code",
   "execution_count": 7,
   "metadata": {},
   "outputs": [],
   "source": [
    "def linearRegression(data,target):\n",
    "    lm = smf.ols(target+' ~ '+' + '.join(list(\n",
    "        data.drop([target], axis=1))), data=data).fit()\n",
    "    return lm"
   ]
  },
  {
   "cell_type": "code",
   "execution_count": 45,
   "metadata": {},
   "outputs": [],
   "source": [
    "data = data.assign(log_wage = np.log(np.array(data['wage'])))\n",
    "data = data.assign(exper_2 = data['exper']*data['exper'])\n",
    "features = ['log_wage','educ','exper','exper_2','south','black']\n",
    "testdata = data[features]"
   ]
  },
  {
   "cell_type": "code",
   "execution_count": 50,
   "metadata": {
    "scrolled": true
   },
   "outputs": [
    {
     "data": {
      "text/html": [
       "<table class=\"simpletable\">\n",
       "<caption>OLS Regression Results</caption>\n",
       "<tr>\n",
       "  <th>Dep. Variable:</th>        <td>log_wage</td>     <th>  R-squared:         </th> <td>   0.237</td> \n",
       "</tr>\n",
       "<tr>\n",
       "  <th>Model:</th>                   <td>OLS</td>       <th>  Adj. R-squared:    </th> <td>   0.236</td> \n",
       "</tr>\n",
       "<tr>\n",
       "  <th>Method:</th>             <td>Least Squares</td>  <th>  F-statistic:       </th> <td>   137.5</td> \n",
       "</tr>\n",
       "<tr>\n",
       "  <th>Date:</th>             <td>Thu, 10 May 2018</td> <th>  Prob (F-statistic):</th> <td>3.65e-127</td>\n",
       "</tr>\n",
       "<tr>\n",
       "  <th>Time:</th>                 <td>15:24:19</td>     <th>  Log-Likelihood:    </th> <td> -1021.0</td> \n",
       "</tr>\n",
       "<tr>\n",
       "  <th>No. Observations:</th>      <td>  2215</td>      <th>  AIC:               </th> <td>   2054.</td> \n",
       "</tr>\n",
       "<tr>\n",
       "  <th>Df Residuals:</th>          <td>  2209</td>      <th>  BIC:               </th> <td>   2088.</td> \n",
       "</tr>\n",
       "<tr>\n",
       "  <th>Df Model:</th>              <td>     5</td>      <th>                     </th>     <td> </td>    \n",
       "</tr>\n",
       "<tr>\n",
       "  <th>Covariance Type:</th>      <td>nonrobust</td>    <th>                     </th>     <td> </td>    \n",
       "</tr>\n",
       "</table>\n",
       "<table class=\"simpletable\">\n",
       "<tr>\n",
       "      <td></td>         <th>coef</th>     <th>std err</th>      <th>t</th>      <th>P>|t|</th>  <th>[0.025</th>    <th>0.975]</th>  \n",
       "</tr>\n",
       "<tr>\n",
       "  <th>Intercept</th> <td>    4.7351</td> <td>    0.080</td> <td>   59.472</td> <td> 0.000</td> <td>    4.579</td> <td>    4.891</td>\n",
       "</tr>\n",
       "<tr>\n",
       "  <th>educ</th>      <td>    0.0802</td> <td>    0.004</td> <td>   19.458</td> <td> 0.000</td> <td>    0.072</td> <td>    0.088</td>\n",
       "</tr>\n",
       "<tr>\n",
       "  <th>exper</th>     <td>    0.0893</td> <td>    0.008</td> <td>   11.074</td> <td> 0.000</td> <td>    0.074</td> <td>    0.105</td>\n",
       "</tr>\n",
       "<tr>\n",
       "  <th>exper_2</th>   <td>   -0.0025</td> <td>    0.000</td> <td>   -6.065</td> <td> 0.000</td> <td>   -0.003</td> <td>   -0.002</td>\n",
       "</tr>\n",
       "<tr>\n",
       "  <th>south</th>     <td>   -0.1359</td> <td>    0.018</td> <td>   -7.656</td> <td> 0.000</td> <td>   -0.171</td> <td>   -0.101</td>\n",
       "</tr>\n",
       "<tr>\n",
       "  <th>black</th>     <td>   -0.1591</td> <td>    0.024</td> <td>   -6.692</td> <td> 0.000</td> <td>   -0.206</td> <td>   -0.112</td>\n",
       "</tr>\n",
       "</table>\n",
       "<table class=\"simpletable\">\n",
       "<tr>\n",
       "  <th>Omnibus:</th>       <td>50.607</td> <th>  Durbin-Watson:     </th> <td>   1.835</td>\n",
       "</tr>\n",
       "<tr>\n",
       "  <th>Prob(Omnibus):</th> <td> 0.000</td> <th>  Jarque-Bera (JB):  </th> <td>  62.572</td>\n",
       "</tr>\n",
       "<tr>\n",
       "  <th>Skew:</th>          <td>-0.294</td> <th>  Prob(JB):          </th> <td>2.59e-14</td>\n",
       "</tr>\n",
       "<tr>\n",
       "  <th>Kurtosis:</th>      <td> 3.576</td> <th>  Cond. No.          </th> <td>1.12e+03</td>\n",
       "</tr>\n",
       "</table>"
      ],
      "text/plain": [
       "<class 'statsmodels.iolib.summary.Summary'>\n",
       "\"\"\"\n",
       "                            OLS Regression Results                            \n",
       "==============================================================================\n",
       "Dep. Variable:               log_wage   R-squared:                       0.237\n",
       "Model:                            OLS   Adj. R-squared:                  0.236\n",
       "Method:                 Least Squares   F-statistic:                     137.5\n",
       "Date:                Thu, 10 May 2018   Prob (F-statistic):          3.65e-127\n",
       "Time:                        15:24:19   Log-Likelihood:                -1021.0\n",
       "No. Observations:                2215   AIC:                             2054.\n",
       "Df Residuals:                    2209   BIC:                             2088.\n",
       "Df Model:                           5                                         \n",
       "Covariance Type:            nonrobust                                         \n",
       "==============================================================================\n",
       "                 coef    std err          t      P>|t|      [0.025      0.975]\n",
       "------------------------------------------------------------------------------\n",
       "Intercept      4.7351      0.080     59.472      0.000       4.579       4.891\n",
       "educ           0.0802      0.004     19.458      0.000       0.072       0.088\n",
       "exper          0.0893      0.008     11.074      0.000       0.074       0.105\n",
       "exper_2       -0.0025      0.000     -6.065      0.000      -0.003      -0.002\n",
       "south         -0.1359      0.018     -7.656      0.000      -0.171      -0.101\n",
       "black         -0.1591      0.024     -6.692      0.000      -0.206      -0.112\n",
       "==============================================================================\n",
       "Omnibus:                       50.607   Durbin-Watson:                   1.835\n",
       "Prob(Omnibus):                  0.000   Jarque-Bera (JB):               62.572\n",
       "Skew:                          -0.294   Prob(JB):                     2.59e-14\n",
       "Kurtosis:                       3.576   Cond. No.                     1.12e+03\n",
       "==============================================================================\n",
       "\n",
       "Warnings:\n",
       "[1] Standard Errors assume that the covariance matrix of the errors is correctly specified.\n",
       "[2] The condition number is large, 1.12e+03. This might indicate that there are\n",
       "strong multicollinearity or other numerical problems.\n",
       "\"\"\""
      ]
     },
     "execution_count": 50,
     "metadata": {},
     "output_type": "execute_result"
    }
   ],
   "source": [
    "lm = linearRegression(testdata,'log_wage')\n",
    "lm.summary()"
   ]
  },
  {
   "cell_type": "markdown",
   "metadata": {},
   "source": [
    "#### The parameter for educ is 4.7351, and 95% CI is [4.579, 4.891]"
   ]
  },
  {
   "cell_type": "markdown",
   "metadata": {},
   "source": [
    "#### It means with an extra unit of Education, there will be 4.7351 increase unit of log(wage) "
   ]
  },
  {
   "cell_type": "markdown",
   "metadata": {},
   "source": [
    "#### We might not be able to interpret this estimate as causal because\n",
    "#### education might cause increase in network, which causes salary to move upward"
   ]
  },
  {
   "cell_type": "markdown",
   "metadata": {},
   "source": [
    "## part B"
   ]
  },
  {
   "cell_type": "markdown",
   "metadata": {},
   "source": [
    "(i) ignorable given experience and demographics ?\n",
    "#### nearc4 is more of a random/low-correlated factor given experience and demographics\n",
    "#### because living near 4 year college is not one of the factors that people consider when\n",
    "#### deciding where to live given their experience as social being and demographics\n",
    "#### Violation: if families of wealth tend to live near college to give their children better exposure, \n",
    "#### ignorablility is violated\n",
    "(ii) relevant\n",
    "#### near4 is correlated with education to certain extend, alum of the 4 year college will be likely \n",
    "#### to stay in a closer neighbourhood to their former 4 year college. \n",
    "#### Violation: If people all look for places to live regardless of 4 year college (only looking at whether\n",
    "#### it is near their workplace)\n",
    "(iii) exclusion restriction\n",
    "#### near4 is almost not likely to influence the wage in other ways possible, near4 is only related to \n",
    "#### education and influence wage through its impact on education\n",
    "#### Violation: if near4 also influence experience, for example, if near 4 year college, one is more\n",
    "#### likely to get more college education, thus influence exper, then it is violated.\n"
   ]
  },
  {
   "cell_type": "markdown",
   "metadata": {},
   "source": [
    "## part C"
   ]
  },
  {
   "cell_type": "code",
   "execution_count": 80,
   "metadata": {},
   "outputs": [],
   "source": [
    "features = ['nearc4','educ','exper','exper_2','south','black']\n",
    "testdata = data[features]\n",
    "lm2 = linearRegression(testdata,'educ')\n",
    "data = data.assign(educhat = lm2.predict(data[list(data[features].drop(\n",
    "    'educ',axis = 1))]))\n",
    "newfeatures = ['educhat','log_wage','exper','exper_2','south','black']\n",
    "testdata = data[newfeatures]\n",
    "lm3 = linearRegression(testdata,'log_wage')\n",
    "f"
   ]
  },
  {
   "cell_type": "code",
   "execution_count": 88,
   "metadata": {},
   "outputs": [],
   "source": [
    "dist = []\n",
    "for i in range(1000):\n",
    "    features = ['nearc4','educ','exper','exper_2','south','black']\n",
    "    new_data = data.sample(len(data),replace=True)\n",
    "    testdata = new_data[features]\n",
    "    lm2 = linearRegression(testdata,'educ')\n",
    "    new_data = new_data.assign(educhat = lm2.predict(data[list(data[features].drop(\n",
    "        'educ',axis = 1))]))\n",
    "    newfeatures = ['educhat','log_wage','exper','exper_2','south','black']\n",
    "    testdata = new_data[newfeatures]\n",
    "    lm3 = linearRegression(testdata,'log_wage')\n",
    "    pivi = 2*educhat_hat-lm3.params['educhat']\n",
    "    dist.append(pivi)"
   ]
  },
  {
   "cell_type": "code",
   "execution_count": 89,
   "metadata": {},
   "outputs": [
    {
     "name": "stdout",
     "output_type": "stream",
     "text": [
      "educhat BSCI is [0.03586057998966743,0.3135487527034567]\n"
     ]
    }
   ],
   "source": [
    "low,high = np.percentile(dist,[2.5,97.5])\n",
    "print \"educhat BSCI is [\" + str(low) +\",\" +str(high)+']'"
   ]
  },
  {
   "cell_type": "markdown",
   "metadata": {},
   "source": [
    "# Q2\n",
    "## part A \n",
    "#### \n",
    "#### Z: Asking target participants to get free sample --> \n",
    "#### T: increase whether people get free sample --> \n",
    "#### X: which results in better sales of the product\n",
    "#### here the study does not consider those who are not asked\n",
    "## part B\n",
    "#### Assumption, somebody will get the free sample, if they are not\n",
    "#### asked about it (the free sample plays hard-to-get)\n",
    "#### Z: Asking target participants to get free sample --> \n",
    "#### T: increase whether people get free sample --> \n",
    "#### X: which results in better sales of the product\n",
    "## part C\n",
    "#### Here, free sample contains a voucher,\n",
    "#### which leads to access to the products\n",
    "#### Z: Asking target participants to get free sample --> \n",
    "#### T: increase whether people get free sample --> \n",
    "#### X: which results in better sales of the product. "
   ]
  },
  {
   "cell_type": "markdown",
   "metadata": {},
   "source": [
    "# Q3 \n",
    "## part A"
   ]
  },
  {
   "cell_type": "code",
   "execution_count": 139,
   "metadata": {},
   "outputs": [],
   "source": [
    "data = pd.read_csv(\"grade5.csv\")"
   ]
  },
  {
   "cell_type": "code",
   "execution_count": 105,
   "metadata": {},
   "outputs": [
    {
     "name": "stdout",
     "output_type": "stream",
     "text": [
      "Class size parameter when regressing without controls: 0.3217141444388144\n",
      "Class size parameter when regressing with controls: 0.018535060246143875\n"
     ]
    }
   ],
   "source": [
    "features = ['avgmath','classize']\n",
    "lm4 = linearRegression(data[features],'avgmath')\n",
    "newf = ['avgmath','classize','disadv','enrollment']\n",
    "lm5 = linearRegression(data[newf],'avgmath')\n",
    "print 'Class size parameter when regressing without controls: ' + str(\n",
    "    lm4.params['classize'])\n",
    "print 'Class size parameter when regressing with controls: ' + str(\n",
    "    lm5.params['classize'])"
   ]
  },
  {
   "cell_type": "markdown",
   "metadata": {},
   "source": [
    "#### As we can see, class size has postiive parameters (more classsize, more avgmath)\n",
    "#### but if regressing with control, it becomes less significant"
   ]
  },
  {
   "cell_type": "markdown",
   "metadata": {},
   "source": [
    "## part B"
   ]
  },
  {
   "cell_type": "code",
   "execution_count": 252,
   "metadata": {},
   "outputs": [],
   "source": [
    "a = data[data['enrollment'] < 60] \n",
    "newData = a[a['enrollment']>20]"
   ]
  },
  {
   "cell_type": "markdown",
   "metadata": {},
   "source": [
    "#### It is valid because there is law restricting the class size \n",
    "#### after enrollment is bewteen 40 and 60, likely to have a effect on classsize\n",
    "#### therefore have an impact on average math score"
   ]
  },
  {
   "cell_type": "markdown",
   "metadata": {},
   "source": [
    "## part C"
   ]
  },
  {
   "cell_type": "code",
   "execution_count": 202,
   "metadata": {},
   "outputs": [
    {
     "name": "stdout",
     "output_type": "stream",
     "text": [
      "Class size parameter when regressing without controls: 2.7117142621725767\n",
      "Class size parameter when regressing with controls: 3.4438701752340477\n"
     ]
    }
   ],
   "source": [
    "_newData = newData.assign(EOver40 = (\n",
    "    newData['enrollment'] > 40)*1)\n",
    "features = ['avgmath','enrollment','EOver40']\n",
    "lm6 = linearRegression(_newData[features],'avgmath')\n",
    "features = ['avgmath','enrollment','EOver40','disadv']\n",
    "lm7 = linearRegression(_newData[features],'avgmath')\n",
    "print 'Class size parameter when regressing without controls: ' + str(\n",
    "    lm6.params['EOver40'])\n",
    "print 'Class size parameter when regressing with controls: ' + str(\n",
    "    lm7.params['EOver40'])"
   ]
  },
  {
   "cell_type": "code",
   "execution_count": 203,
   "metadata": {},
   "outputs": [
    {
     "data": {
      "text/html": [
       "<table class=\"simpletable\">\n",
       "<caption>OLS Regression Results</caption>\n",
       "<tr>\n",
       "  <th>Dep. Variable:</th>         <td>avgmath</td>     <th>  R-squared:         </th> <td>   0.015</td>\n",
       "</tr>\n",
       "<tr>\n",
       "  <th>Model:</th>                   <td>OLS</td>       <th>  Adj. R-squared:    </th> <td>   0.012</td>\n",
       "</tr>\n",
       "<tr>\n",
       "  <th>Method:</th>             <td>Least Squares</td>  <th>  F-statistic:       </th> <td>   5.039</td>\n",
       "</tr>\n",
       "<tr>\n",
       "  <th>Date:</th>             <td>Thu, 10 May 2018</td> <th>  Prob (F-statistic):</th>  <td>0.00673</td>\n",
       "</tr>\n",
       "<tr>\n",
       "  <th>Time:</th>                 <td>18:51:37</td>     <th>  Log-Likelihood:    </th> <td> -2462.2</td>\n",
       "</tr>\n",
       "<tr>\n",
       "  <th>No. Observations:</th>      <td>   656</td>      <th>  AIC:               </th> <td>   4930.</td>\n",
       "</tr>\n",
       "<tr>\n",
       "  <th>Df Residuals:</th>          <td>   653</td>      <th>  BIC:               </th> <td>   4944.</td>\n",
       "</tr>\n",
       "<tr>\n",
       "  <th>Df Model:</th>              <td>     2</td>      <th>                     </th>     <td> </td>   \n",
       "</tr>\n",
       "<tr>\n",
       "  <th>Covariance Type:</th>      <td>nonrobust</td>    <th>                     </th>     <td> </td>   \n",
       "</tr>\n",
       "</table>\n",
       "<table class=\"simpletable\">\n",
       "<tr>\n",
       "       <td></td>         <th>coef</th>     <th>std err</th>      <th>t</th>      <th>P>|t|</th>  <th>[0.025</th>    <th>0.975]</th>  \n",
       "</tr>\n",
       "<tr>\n",
       "  <th>Intercept</th>  <td>   62.6161</td> <td>    2.248</td> <td>   27.860</td> <td> 0.000</td> <td>   58.203</td> <td>   67.029</td>\n",
       "</tr>\n",
       "<tr>\n",
       "  <th>enrollment</th> <td>    0.0012</td> <td>    0.072</td> <td>    0.016</td> <td> 0.987</td> <td>   -0.139</td> <td>    0.142</td>\n",
       "</tr>\n",
       "<tr>\n",
       "  <th>EOver40</th>    <td>    2.7117</td> <td>    1.681</td> <td>    1.614</td> <td> 0.107</td> <td>   -0.588</td> <td>    6.012</td>\n",
       "</tr>\n",
       "</table>\n",
       "<table class=\"simpletable\">\n",
       "<tr>\n",
       "  <th>Omnibus:</th>       <td> 5.672</td> <th>  Durbin-Watson:     </th> <td>   1.351</td>\n",
       "</tr>\n",
       "<tr>\n",
       "  <th>Prob(Omnibus):</th> <td> 0.059</td> <th>  Jarque-Bera (JB):  </th> <td>   5.547</td>\n",
       "</tr>\n",
       "<tr>\n",
       "  <th>Skew:</th>          <td>-0.221</td> <th>  Prob(JB):          </th> <td>  0.0625</td>\n",
       "</tr>\n",
       "<tr>\n",
       "  <th>Kurtosis:</th>      <td> 3.084</td> <th>  Cond. No.          </th> <td>    288.</td>\n",
       "</tr>\n",
       "</table>"
      ],
      "text/plain": [
       "<class 'statsmodels.iolib.summary.Summary'>\n",
       "\"\"\"\n",
       "                            OLS Regression Results                            \n",
       "==============================================================================\n",
       "Dep. Variable:                avgmath   R-squared:                       0.015\n",
       "Model:                            OLS   Adj. R-squared:                  0.012\n",
       "Method:                 Least Squares   F-statistic:                     5.039\n",
       "Date:                Thu, 10 May 2018   Prob (F-statistic):            0.00673\n",
       "Time:                        18:51:37   Log-Likelihood:                -2462.2\n",
       "No. Observations:                 656   AIC:                             4930.\n",
       "Df Residuals:                     653   BIC:                             4944.\n",
       "Df Model:                           2                                         \n",
       "Covariance Type:            nonrobust                                         \n",
       "==============================================================================\n",
       "                 coef    std err          t      P>|t|      [0.025      0.975]\n",
       "------------------------------------------------------------------------------\n",
       "Intercept     62.6161      2.248     27.860      0.000      58.203      67.029\n",
       "enrollment     0.0012      0.072      0.016      0.987      -0.139       0.142\n",
       "EOver40        2.7117      1.681      1.614      0.107      -0.588       6.012\n",
       "==============================================================================\n",
       "Omnibus:                        5.672   Durbin-Watson:                   1.351\n",
       "Prob(Omnibus):                  0.059   Jarque-Bera (JB):                5.547\n",
       "Skew:                          -0.221   Prob(JB):                       0.0625\n",
       "Kurtosis:                       3.084   Cond. No.                         288.\n",
       "==============================================================================\n",
       "\n",
       "Warnings:\n",
       "[1] Standard Errors assume that the covariance matrix of the errors is correctly specified.\n",
       "\"\"\""
      ]
     },
     "execution_count": 203,
     "metadata": {},
     "output_type": "execute_result"
    }
   ],
   "source": [
    "lm6.summary()"
   ]
  },
  {
   "cell_type": "code",
   "execution_count": 204,
   "metadata": {},
   "outputs": [
    {
     "data": {
      "text/html": [
       "<table class=\"simpletable\">\n",
       "<caption>OLS Regression Results</caption>\n",
       "<tr>\n",
       "  <th>Dep. Variable:</th>         <td>avgmath</td>     <th>  R-squared:         </th> <td>   0.313</td>\n",
       "</tr>\n",
       "<tr>\n",
       "  <th>Model:</th>                   <td>OLS</td>       <th>  Adj. R-squared:    </th> <td>   0.310</td>\n",
       "</tr>\n",
       "<tr>\n",
       "  <th>Method:</th>             <td>Least Squares</td>  <th>  F-statistic:       </th> <td>   99.18</td>\n",
       "</tr>\n",
       "<tr>\n",
       "  <th>Date:</th>             <td>Thu, 10 May 2018</td> <th>  Prob (F-statistic):</th> <td>6.80e-53</td>\n",
       "</tr>\n",
       "<tr>\n",
       "  <th>Time:</th>                 <td>18:51:37</td>     <th>  Log-Likelihood:    </th> <td> -2343.9</td>\n",
       "</tr>\n",
       "<tr>\n",
       "  <th>No. Observations:</th>      <td>   656</td>      <th>  AIC:               </th> <td>   4696.</td>\n",
       "</tr>\n",
       "<tr>\n",
       "  <th>Df Residuals:</th>          <td>   652</td>      <th>  BIC:               </th> <td>   4714.</td>\n",
       "</tr>\n",
       "<tr>\n",
       "  <th>Df Model:</th>              <td>     3</td>      <th>                     </th>     <td> </td>   \n",
       "</tr>\n",
       "<tr>\n",
       "  <th>Covariance Type:</th>      <td>nonrobust</td>    <th>                     </th>     <td> </td>   \n",
       "</tr>\n",
       "</table>\n",
       "<table class=\"simpletable\">\n",
       "<tr>\n",
       "       <td></td>         <th>coef</th>     <th>std err</th>      <th>t</th>      <th>P>|t|</th>  <th>[0.025</th>    <th>0.975]</th>  \n",
       "</tr>\n",
       "<tr>\n",
       "  <th>Intercept</th>  <td>   72.4891</td> <td>    1.968</td> <td>   36.840</td> <td> 0.000</td> <td>   68.625</td> <td>   76.353</td>\n",
       "</tr>\n",
       "<tr>\n",
       "  <th>enrollment</th> <td>   -0.0780</td> <td>    0.060</td> <td>   -1.300</td> <td> 0.194</td> <td>   -0.196</td> <td>    0.040</td>\n",
       "</tr>\n",
       "<tr>\n",
       "  <th>EOver40</th>    <td>    3.4439</td> <td>    1.405</td> <td>    2.451</td> <td> 0.015</td> <td>    0.685</td> <td>    6.203</td>\n",
       "</tr>\n",
       "<tr>\n",
       "  <th>disadv</th>     <td>   -0.3414</td> <td>    0.020</td> <td>  -16.826</td> <td> 0.000</td> <td>   -0.381</td> <td>   -0.302</td>\n",
       "</tr>\n",
       "</table>\n",
       "<table class=\"simpletable\">\n",
       "<tr>\n",
       "  <th>Omnibus:</th>       <td> 1.722</td> <th>  Durbin-Watson:     </th> <td>   1.517</td>\n",
       "</tr>\n",
       "<tr>\n",
       "  <th>Prob(Omnibus):</th> <td> 0.423</td> <th>  Jarque-Bera (JB):  </th> <td>   1.805</td>\n",
       "</tr>\n",
       "<tr>\n",
       "  <th>Skew:</th>          <td>-0.114</td> <th>  Prob(JB):          </th> <td>   0.406</td>\n",
       "</tr>\n",
       "<tr>\n",
       "  <th>Kurtosis:</th>      <td> 2.882</td> <th>  Cond. No.          </th> <td>    326.</td>\n",
       "</tr>\n",
       "</table>"
      ],
      "text/plain": [
       "<class 'statsmodels.iolib.summary.Summary'>\n",
       "\"\"\"\n",
       "                            OLS Regression Results                            \n",
       "==============================================================================\n",
       "Dep. Variable:                avgmath   R-squared:                       0.313\n",
       "Model:                            OLS   Adj. R-squared:                  0.310\n",
       "Method:                 Least Squares   F-statistic:                     99.18\n",
       "Date:                Thu, 10 May 2018   Prob (F-statistic):           6.80e-53\n",
       "Time:                        18:51:37   Log-Likelihood:                -2343.9\n",
       "No. Observations:                 656   AIC:                             4696.\n",
       "Df Residuals:                     652   BIC:                             4714.\n",
       "Df Model:                           3                                         \n",
       "Covariance Type:            nonrobust                                         \n",
       "==============================================================================\n",
       "                 coef    std err          t      P>|t|      [0.025      0.975]\n",
       "------------------------------------------------------------------------------\n",
       "Intercept     72.4891      1.968     36.840      0.000      68.625      76.353\n",
       "enrollment    -0.0780      0.060     -1.300      0.194      -0.196       0.040\n",
       "EOver40        3.4439      1.405      2.451      0.015       0.685       6.203\n",
       "disadv        -0.3414      0.020    -16.826      0.000      -0.381      -0.302\n",
       "==============================================================================\n",
       "Omnibus:                        1.722   Durbin-Watson:                   1.517\n",
       "Prob(Omnibus):                  0.423   Jarque-Bera (JB):                1.805\n",
       "Skew:                          -0.114   Prob(JB):                        0.406\n",
       "Kurtosis:                       2.882   Cond. No.                         326.\n",
       "==============================================================================\n",
       "\n",
       "Warnings:\n",
       "[1] Standard Errors assume that the covariance matrix of the errors is correctly specified.\n",
       "\"\"\""
      ]
     },
     "execution_count": 204,
     "metadata": {},
     "output_type": "execute_result"
    }
   ],
   "source": [
    "lm7.summary()"
   ]
  },
  {
   "cell_type": "markdown",
   "metadata": {},
   "source": [
    "#### CI without adv: -0.588\t6.012 CI with adv: 0.685\t6.203\n",
    "#### As we can see, class size has postiive parameters (more classsize, more avgmath)\n",
    "#### but if regressing with control, it becomes less significant, but this effect is \n",
    "#### way more stronger than what we have in part a (i.e. before RDD)\n",
    "#### the reasoning is that now the causal relationship (law of size)is clearer after introducing RDD, \n",
    "#### its importance is not wrongly distributed to other variables"
   ]
  },
  {
   "cell_type": "markdown",
   "metadata": {},
   "source": [
    "## part D"
   ]
  },
  {
   "cell_type": "code",
   "execution_count": 269,
   "metadata": {},
   "outputs": [
    {
     "name": "stdout",
     "output_type": "stream",
     "text": [
      "KNN result is going to be 2.04937987328\n"
     ]
    }
   ],
   "source": [
    "up = newData[newData['enrollment']>40]\n",
    "up40 = up.iloc[np.argsort(\n",
    "    up['enrollment'])[:40]]['avgmath'].mean()\n",
    "down = newData[newData['enrollment']<40]\n",
    "down40 = down.iloc[np.argsort(\n",
    "    down['enrollment'])[len(down)-40:len(down)]]['avgmath'].mean()\n",
    "diff_hat = up40-down40\n",
    "print \"KNN result is going to be \" + str(diff_hat) "
   ]
  },
  {
   "cell_type": "code",
   "execution_count": 274,
   "metadata": {},
   "outputs": [],
   "source": [
    "diffs = []\n",
    "for i in range(1000):\n",
    "    new_data = newData.sample(\n",
    "        len(newData),replace=True)\n",
    "    up = new_data[new_data['enrollment']>40]\n",
    "    up40 = up.iloc[np.argsort(\n",
    "        up['enrollment'])[:40]]['avgmath'].mean()\n",
    "    down = new_data[new_data['enrollment']<40]\n",
    "    down40 = down.iloc[np.argsort(down[\n",
    "        'enrollment'])[len(down)-40:len(down)]]['avgmath'].mean()\n",
    "    diff = 2*diff_hat-(up40-down40)\n",
    "    diffs.append(diff)"
   ]
  },
  {
   "cell_type": "code",
   "execution_count": 275,
   "metadata": {},
   "outputs": [
    {
     "name": "stdout",
     "output_type": "stream",
     "text": [
      "diff_hat BSCI is [-4.070465377569211,6.00762863993643]\n"
     ]
    }
   ],
   "source": [
    "low,high = np.percentile(diffs,[2.5,97.5])\n",
    "print \"diff_hat BSCI is [\" + str(low) +\",\" +str(high)+']'"
   ]
  },
  {
   "cell_type": "markdown",
   "metadata": {},
   "source": [
    "#### result is still stable and resembles partc, because if the up40 and down40 are close enough,\n",
    "#### it is acting like RDD with OLS"
   ]
  },
  {
   "cell_type": "markdown",
   "metadata": {},
   "source": [
    "## part E\n",
    "### fuzzy ols"
   ]
  },
  {
   "cell_type": "code",
   "execution_count": 277,
   "metadata": {},
   "outputs": [],
   "source": [
    "def logisticRegression(data,target):\n",
    "    lr = LogisticRegression(penalty='l1', solver='liblinear')\n",
    "    lr.fit(data.drop([target],axis=1),data[target])\n",
    "    return lr"
   ]
  },
  {
   "cell_type": "code",
   "execution_count": 337,
   "metadata": {},
   "outputs": [
    {
     "data": {
      "text/html": [
       "<table class=\"simpletable\">\n",
       "<caption>OLS Regression Results</caption>\n",
       "<tr>\n",
       "  <th>Dep. Variable:</th>         <td>avgmath</td>     <th>  R-squared:         </th> <td>   0.316</td>\n",
       "</tr>\n",
       "<tr>\n",
       "  <th>Model:</th>                   <td>OLS</td>       <th>  Adj. R-squared:    </th> <td>   0.312</td>\n",
       "</tr>\n",
       "<tr>\n",
       "  <th>Method:</th>             <td>Least Squares</td>  <th>  F-statistic:       </th> <td>   75.10</td>\n",
       "</tr>\n",
       "<tr>\n",
       "  <th>Date:</th>             <td>Thu, 10 May 2018</td> <th>  Prob (F-statistic):</th> <td>2.40e-52</td>\n",
       "</tr>\n",
       "<tr>\n",
       "  <th>Time:</th>                 <td>20:48:01</td>     <th>  Log-Likelihood:    </th> <td> -2342.7</td>\n",
       "</tr>\n",
       "<tr>\n",
       "  <th>No. Observations:</th>      <td>   656</td>      <th>  AIC:               </th> <td>   4695.</td>\n",
       "</tr>\n",
       "<tr>\n",
       "  <th>Df Residuals:</th>          <td>   651</td>      <th>  BIC:               </th> <td>   4718.</td>\n",
       "</tr>\n",
       "<tr>\n",
       "  <th>Df Model:</th>              <td>     4</td>      <th>                     </th>     <td> </td>   \n",
       "</tr>\n",
       "<tr>\n",
       "  <th>Covariance Type:</th>      <td>nonrobust</td>    <th>                     </th>     <td> </td>   \n",
       "</tr>\n",
       "</table>\n",
       "<table class=\"simpletable\">\n",
       "<tr>\n",
       "       <td></td>         <th>coef</th>     <th>std err</th>      <th>t</th>      <th>P>|t|</th>  <th>[0.025</th>    <th>0.975]</th>  \n",
       "</tr>\n",
       "<tr>\n",
       "  <th>Intercept</th>  <td>   71.9214</td> <td>    2.002</td> <td>   35.931</td> <td> 0.000</td> <td>   67.991</td> <td>   75.852</td>\n",
       "</tr>\n",
       "<tr>\n",
       "  <th>COver30_h</th>  <td>   -3.2802</td> <td>    2.180</td> <td>   -1.504</td> <td> 0.133</td> <td>   -7.561</td> <td>    1.001</td>\n",
       "</tr>\n",
       "<tr>\n",
       "  <th>EOver40</th>    <td>    2.5709</td> <td>    1.519</td> <td>    1.693</td> <td> 0.091</td> <td>   -0.411</td> <td>    5.553</td>\n",
       "</tr>\n",
       "<tr>\n",
       "  <th>enrollment</th> <td>   -0.0492</td> <td>    0.063</td> <td>   -0.781</td> <td> 0.435</td> <td>   -0.173</td> <td>    0.074</td>\n",
       "</tr>\n",
       "<tr>\n",
       "  <th>disadv</th>     <td>   -0.3415</td> <td>    0.020</td> <td>  -16.845</td> <td> 0.000</td> <td>   -0.381</td> <td>   -0.302</td>\n",
       "</tr>\n",
       "</table>\n",
       "<table class=\"simpletable\">\n",
       "<tr>\n",
       "  <th>Omnibus:</th>       <td> 2.155</td> <th>  Durbin-Watson:     </th> <td>   1.522</td>\n",
       "</tr>\n",
       "<tr>\n",
       "  <th>Prob(Omnibus):</th> <td> 0.341</td> <th>  Jarque-Bera (JB):  </th> <td>   2.225</td>\n",
       "</tr>\n",
       "<tr>\n",
       "  <th>Skew:</th>          <td>-0.134</td> <th>  Prob(JB):          </th> <td>   0.329</td>\n",
       "</tr>\n",
       "<tr>\n",
       "  <th>Kurtosis:</th>      <td> 2.902</td> <th>  Cond. No.          </th> <td>    373.</td>\n",
       "</tr>\n",
       "</table>"
      ],
      "text/plain": [
       "<class 'statsmodels.iolib.summary.Summary'>\n",
       "\"\"\"\n",
       "                            OLS Regression Results                            \n",
       "==============================================================================\n",
       "Dep. Variable:                avgmath   R-squared:                       0.316\n",
       "Model:                            OLS   Adj. R-squared:                  0.312\n",
       "Method:                 Least Squares   F-statistic:                     75.10\n",
       "Date:                Thu, 10 May 2018   Prob (F-statistic):           2.40e-52\n",
       "Time:                        20:48:01   Log-Likelihood:                -2342.7\n",
       "No. Observations:                 656   AIC:                             4695.\n",
       "Df Residuals:                     651   BIC:                             4718.\n",
       "Df Model:                           4                                         \n",
       "Covariance Type:            nonrobust                                         \n",
       "==============================================================================\n",
       "                 coef    std err          t      P>|t|      [0.025      0.975]\n",
       "------------------------------------------------------------------------------\n",
       "Intercept     71.9214      2.002     35.931      0.000      67.991      75.852\n",
       "COver30_h     -3.2802      2.180     -1.504      0.133      -7.561       1.001\n",
       "EOver40        2.5709      1.519      1.693      0.091      -0.411       5.553\n",
       "enrollment    -0.0492      0.063     -0.781      0.435      -0.173       0.074\n",
       "disadv        -0.3415      0.020    -16.845      0.000      -0.381      -0.302\n",
       "==============================================================================\n",
       "Omnibus:                        2.155   Durbin-Watson:                   1.522\n",
       "Prob(Omnibus):                  0.341   Jarque-Bera (JB):                2.225\n",
       "Skew:                          -0.134   Prob(JB):                        0.329\n",
       "Kurtosis:                       2.902   Cond. No.                         373.\n",
       "==============================================================================\n",
       "\n",
       "Warnings:\n",
       "[1] Standard Errors assume that the covariance matrix of the errors is correctly specified.\n",
       "\"\"\""
      ]
     },
     "execution_count": 337,
     "metadata": {},
     "output_type": "execute_result"
    }
   ],
   "source": [
    "_newData = newData.assign(EOver40 = (newData['enrollment'] > 40)*1)\n",
    "_newData = _newData.assign(COver30 = (newData['classize'] > 30)*1)\n",
    "features = ['COver30','enrollment','EOver40']\n",
    "COver30_hat = logisticRegression(_newData[\n",
    "    features],'COver30').predict(_newData[features].drop('COver30',axis = 1))\n",
    "COver30_hat = (COver30_hat>0.5)*1\n",
    "_newData = _newData.assign(COver30_h = COver30_hat)\n",
    "features = ['avgmath','COver30_h','EOver40','enrollment','disadv']\n",
    "lm9 = linearRegression(_newData[features],'avgmath')\n",
    "lm9.summary()"
   ]
  },
  {
   "cell_type": "code",
   "execution_count": 345,
   "metadata": {},
   "outputs": [],
   "source": [
    "tao_1 = _newData[_newData['enrollment']>40][\n",
    "    'COver30_h'].mean() - _newData[_newData[\n",
    "    'enrollment']<=40]['COver30_h'].mean()\n",
    "features = ['avgmath','COver30_h','EOver40','enrollment','disadv']\n",
    "_newData = _newData.assign(\n",
    "    avgmath_h = lm9.predict(_newData[features].drop('avgmath',axis = 1)))\n",
    "tao_2 = _newData[_newData['enrollment']>40][\n",
    "    'avgmath_h'].mean() - _newData[_newData[\n",
    "    'enrollment']<=40]['avgmath_h'].mean()\n",
    "ratio_hat = tao_2/tao_1"
   ]
  },
  {
   "cell_type": "code",
   "execution_count": 343,
   "metadata": {},
   "outputs": [
    {
     "name": "stdout",
     "output_type": "stream",
     "text": [
      "ratio BSCI is [-43.9582047532408,-6.7613402997691905]\n"
     ]
    }
   ],
   "source": [
    "ratios = []\n",
    "for i in range(1000):\n",
    "    new_newData = _newData.sample(len(_newData),replace=True)\n",
    "    tao_1 = new_newData[new_newData['enrollment']>40][\n",
    "        'COver30_h'].mean() - new_newData[new_newData[\n",
    "        'enrollment']<=40]['COver30_h'].mean()\n",
    "    tao_2 = new_newData[new_newData['enrollment']>40][\n",
    "        'avgmath_h'].mean() - new_newData[new_newData[\n",
    "        'enrollment']<=40]['avgmath_h'].mean()\n",
    "    ratio = tao_2/tao_1\n",
    "    ratio = 2*ratio_hat-ratio\n",
    "    ratios.append(ratio)\n",
    "low,high = np.percentile(ratios,[2.5,97.5])\n",
    "print \"ratio BSCI is [\" + str(low) +\",\" +str(high)+']'"
   ]
  },
  {
   "cell_type": "markdown",
   "metadata": {},
   "source": [
    "#### As we can see, large class size has an negative parameters (more classsize, less avgmath)\n",
    "#### It is different from A (the sign has changed)\n",
    "#### the main reasoning is that fuzzy RDD does not assume that there is a sharp cutoff\n",
    "#### the cutting point, and treating cutoff as a nudge, it limits the confounder effect choice \n",
    "#### of class size here, which allows us to focus only on classize\n",
    "### It is thus a better model in this view"
   ]
  },
  {
   "cell_type": "markdown",
   "metadata": {},
   "source": [
    "### fuzzy KNN"
   ]
  },
  {
   "cell_type": "code",
   "execution_count": 347,
   "metadata": {},
   "outputs": [
    {
     "name": "stdout",
     "output_type": "stream",
     "text": [
      "KNN result is going to be -8.1975194931\n"
     ]
    }
   ],
   "source": [
    "up = _newData[_newData['enrollment']>40]\n",
    "up40 = up.iloc[np.argsort(up['enrollment'])[:40]]['avgmath'].mean()\n",
    "down = _newData[_newData['enrollment']<40]\n",
    "down40 = down.iloc[\n",
    "    np.argsort(down['enrollment'])[len(down)-40:len(down)]]['avgmath'].mean()\n",
    "diff_hat_1 = up40-down40\n",
    "up = _newData[_newData['enrollment']>40]\n",
    "up40 = up.iloc[np.argsort(\n",
    "    up['enrollment'])[:40]]['COver30_h'].mean()\n",
    "down = _newData[_newData['enrollment']<40]\n",
    "down40 = down.iloc[np.argsort(\n",
    "    down['enrollment'])[len(down)-40:len(down)]]['COver30_h'].mean()\n",
    "diff_hat_2 = up40-down40\n",
    "ratio_hh = diff_hat_1/diff_hat_2\n",
    "print \"KNN result is going to be \" + str(ratio_hh) "
   ]
  },
  {
   "cell_type": "code",
   "execution_count": 348,
   "metadata": {},
   "outputs": [
    {
     "name": "stdout",
     "output_type": "stream",
     "text": [
      "KNN ratio BSCI is [-41.90721618822491,21.41349699208229]\n"
     ]
    }
   ],
   "source": [
    "ratio_kk = []\n",
    "for i in range(1000):\n",
    "    new_newData = _newData.sample(len(_newData),replace=True)\n",
    "    up = new_newData[new_newData['enrollment']>40]\n",
    "    up40 = up.iloc[np.argsort(up['enrollment'])[:40]]['avgmath'].mean()\n",
    "    down = new_newData[new_newData['enrollment']<40]\n",
    "    down40 = down.iloc[\n",
    "        np.argsort(down['enrollment'])[len(down)-40:len(down)]]['avgmath'].mean()\n",
    "    diff_hat_1 = up40-down40\n",
    "    up = new_newData[new_newData['enrollment']>40]\n",
    "    up40 = up.iloc[np.argsort(up['enrollment'])[:40]]['COver30_h'].mean()\n",
    "    down = new_newData[new_newData['enrollment']<40]\n",
    "    down40 = down.iloc[\n",
    "        np.argsort(down['enrollment'])[len(down)-40:len(down)]]['COver30_h'].mean()\n",
    "    diff_hat_2 = up40-down40\n",
    "    ratio = diff_hat_1/diff_hat_2\n",
    "    ratio = 2*ratio_hh-ratio\n",
    "    ratios.append(ratio)\n",
    "low,high = np.percentile(ratios,[2.5,97.5])\n",
    "print \"KNN ratio BSCI is [\" + str(low) +\",\" +str(high)+']'"
   ]
  },
  {
   "cell_type": "markdown",
   "metadata": {},
   "source": [
    "#### As we can see, large class size has an negative parameters (more classsize, less avgmath)\n",
    "#### It is different from A (the sign has changed)\n",
    "#### the main reasoning is that fuzzy RDD does not assume that there is a sharp cutoff\n",
    "#### the cutting point, and treating cutoff as a nudge, it limits the confounder effect choice \n",
    "#### of class size here, which allows us to focus only on classize\n",
    "### It is thus a better model in this view as well"
   ]
  },
  {
   "cell_type": "markdown",
   "metadata": {},
   "source": [
    "# ------------------------------------------------------"
   ]
  },
  {
   "cell_type": "markdown",
   "metadata": {},
   "source": [
    "# q5\n",
    "## pt A"
   ]
  },
  {
   "cell_type": "code",
   "execution_count": 386,
   "metadata": {},
   "outputs": [],
   "source": [
    "def PH0Y(theta,Y):\n",
    "    up = math.exp((-Y**2)/2)\n",
    "    down_1 = math.exp((-Y**2)/2)\n",
    "    down_2 = (math.sqrt(1+theta**2)/(\n",
    "        2*math.pi*theta**2))*math.exp(0.5*(-Y**2)+0.5*((theta**2)*(Y**2)/(1+theta**2)))\n",
    "    prob = up/(down_1+down_2)                                                      \n",
    "    return prob                                                                    "
   ]
  },
  {
   "cell_type": "code",
   "execution_count": 391,
   "metadata": {},
   "outputs": [
    {
     "data": {
      "text/plain": [
       "[<matplotlib.lines.Line2D at 0x11ed1fb90>]"
      ]
     },
     "execution_count": 391,
     "metadata": {},
     "output_type": "execute_result"
    },
    {
     "data": {
      "image/png": "[encoded data removed]",
      "text/plain": [
       "<matplotlib.figure.Figure at 0x11b7b29d0>"
      ]
     },
     "metadata": {},
     "output_type": "display_data"
    }
   ],
   "source": [
    "probs=[]\n",
    "for i in range(len(np.arange(-2, 2, 0.2))):\n",
    "    probs.append(PH0Y(1,np.arange(-2, 2, 0.2)[i]))\n",
    "plt.plot(np.arange(-2, 2, 0.2),probs)"
   ]
  },
  {
   "cell_type": "code",
   "execution_count": 392,
   "metadata": {},
   "outputs": [
    {
     "data": {
      "text/plain": [
       "[<matplotlib.lines.Line2D at 0x11ee54110>]"
      ]
     },
     "execution_count": 392,
     "metadata": {},
     "output_type": "execute_result"
    },
    {
     "data": {
      "image/png": "[encoded data removed]",
      "text/plain": [
       "<matplotlib.figure.Figure at 0x11b5dd3d0>"
      ]
     },
     "metadata": {},
     "output_type": "display_data"
    }
   ],
   "source": [
    "probs=[]\n",
    "for i in range(len(np.arange(-2, 2, 0.2))):\n",
    "    probs.append(PH0Y(np.arange(-2, 2, 0.2)[i],1))\n",
    "plt.plot(np.arange(-2, 2, 0.2),probs)"
   ]
  },
  {
   "cell_type": "markdown",
   "metadata": {},
   "source": [
    "#### as we notice, if variance increase, H0 is more likely to be zero\n",
    "#### if we move data's value from zero, H0 is more likely to not be zero \n",
    "#### it is like basic filter where parameter is updated \n",
    "#### according to observations "
   ]
  },
  {
   "cell_type": "code",
   "execution_count": 397,
   "metadata": {},
   "outputs": [
    {
     "data": {
      "text/plain": [
       "[<matplotlib.lines.Line2D at 0x11f1c4750>]"
      ]
     },
     "execution_count": 397,
     "metadata": {},
     "output_type": "execute_result"
    },
    {
     "data": {
      "image/png": "[encoded data removed]",
      "text/plain": [
       "<matplotlib.figure.Figure at 0x11a794490>"
      ]
     },
     "metadata": {},
     "output_type": "display_data"
    }
   ],
   "source": [
    "prob=2*(1-scipy.stats.norm.cdf(abs(np.arange(-2, 2, 0.2))))\n",
    "plot(np.arange(-2, 2, 0.2),prob)"
   ]
  },
  {
   "cell_type": "markdown",
   "metadata": {},
   "source": [
    "#### wald value is also chaning as we observe different samples"
   ]
  },
  {
   "cell_type": "markdown",
   "metadata": {},
   "source": [
    "## pt B"
   ]
  },
  {
   "cell_type": "code",
   "execution_count": 490,
   "metadata": {},
   "outputs": [],
   "source": [
    "def mPH0Y(theta,Y):\n",
    "    up = math.exp((-sum(Y**2))/2)\n",
    "    down_1 = math.exp((-sum(Y**2))/2)\n",
    "    down_2 = (math.sqrt(1+len(Y)*theta**2)/(2*len(\n",
    "        Y)*math.pi*theta**2))*math.exp(0.5*(-sum(Y**2))+0.5*((theta**2)*(sum(Y)**2)/(n+len(Y)*theta**2)))\n",
    "    prob = up/(down_1+down_2)                                                      \n",
    "    return prob                                                                    "
   ]
  },
  {
   "cell_type": "code",
   "execution_count": 456,
   "metadata": {},
   "outputs": [
    {
     "data": {
      "text/plain": [
       "<Container object of 3 artists>"
      ]
     },
     "execution_count": 456,
     "metadata": {},
     "output_type": "execute_result"
    },
    {
     "data": {
      "image/png": "[encoded data removed]",
      "text/plain": [
       "<matplotlib.figure.Figure at 0x120107e50>"
      ]
     },
     "metadata": {},
     "output_type": "display_data"
    }
   ],
   "source": [
    "prob=np.zeros([20,1000])\n",
    "std=np.zeros([20,1000])\n",
    "wald=np.zeros([20,1000])\n",
    "for i in range(20):\n",
    "    for j in range(1000):\n",
    "        prob[i][j]= (mPH0Y(1,np.random.normal(0,1,5*i+5))) \n",
    "        wald[i][j]=(2*(1-scipy.stats.norm.cdf(abs(sum(np.random.normal(0,1,5*i+5))/math.sqrt(\n",
    "            len(np.random.normal(0,1,5*i+5)))))))\n",
    "        std[i][j]=(np.std(np.random.normal(\n",
    "            0,1,5*i+5))/len(np.random.normal(0,1,5*i+5)))\n",
    "prob = prob.mean(axis=1)\n",
    "std = std.mean(axis=1)\n",
    "wald = wald.mean(axis=1)\n",
    "plt.errorbar(np.arange(5, 105, 5),prob,yerr=std)\n",
    "plt.errorbar(np.arange(5, 105, 5),wald,yerr=std)"
   ]
  },
  {
   "cell_type": "code",
   "execution_count": 458,
   "metadata": {},
   "outputs": [
    {
     "data": {
      "text/plain": [
       "<Container object of 3 artists>"
      ]
     },
     "execution_count": 458,
     "metadata": {},
     "output_type": "execute_result"
    },
    {
     "data": {
      "image/png": "[encoded data removed]",
      "text/plain": [
       "<matplotlib.figure.Figure at 0x11fb3cfd0>"
      ]
     },
     "metadata": {},
     "output_type": "display_data"
    }
   ],
   "source": [
    "prob=np.zeros([20,1000])\n",
    "std=np.zeros([20,1000])\n",
    "wald=np.zeros([20,1000])\n",
    "for i in range(20):\n",
    "    for j in range(1000):\n",
    "        prob[i][j]= (mPH0Y(1,np.random.normal(1,1,5*i+5))) \n",
    "        wald[i][j]=(2*(1-scipy.stats.norm.cdf(abs(sum(np.random.normal(1,1,5*i+5))/math.sqrt(\n",
    "            len(np.random.normal(1,1,5*i+5)))))))\n",
    "        std[i][j]=(np.std(np.random.normal(\n",
    "            0,1,5*i+5))/len(np.random.normal(1,1,5*i+5)))\n",
    "prob = prob.mean(axis=1)\n",
    "std = std.mean(axis=1)\n",
    "wald = wald.mean(axis=1)\n",
    "plt.errorbar(np.arange(5, 105, 5),prob,yerr=std)\n",
    "plt.errorbar(np.arange(5, 105, 5),wald,yerr=std)"
   ]
  },
  {
   "cell_type": "markdown",
   "metadata": {},
   "source": [
    "#### it makes a lot of sense for the estimate to move to observations"
   ]
  },
  {
   "cell_type": "markdown",
   "metadata": {},
   "source": [
    "## part C"
   ]
  },
  {
   "cell_type": "code",
   "execution_count": 464,
   "metadata": {},
   "outputs": [],
   "source": [
    "def drawmything(theta,real_theta):\n",
    "    prob=np.zeros([20,1000])\n",
    "    std=np.zeros([20,1000])\n",
    "    wald=np.zeros([20,1000])\n",
    "    u=np.random.normal(0,real_theta,1000)\n",
    "    for i in range(20):\n",
    "        for j in range(1000):\n",
    "            Y=np.random.normal(u[j],1,(i+1)*5)\n",
    "            prob[i][j] = (mPH0Y(theta,Y)) \n",
    "            wald[i][j] = (2*(1-scipy.stats.norm.cdf(abs(sum(Y)/math.sqrt(len(Y))))))\n",
    "            std[i][j] = (np.std(Y)/len(Y))\n",
    "    prob = prob.mean(axis=1)\n",
    "    std = std.mean(axis=1)\n",
    "    wald = wald.mean(axis=1)\n",
    "    plt.errorbar(np.arange(5, 105, 5),prob,yerr=std)\n",
    "    plt.errorbar(np.arange(5, 105, 5),wald,yerr=std)"
   ]
  },
  {
   "cell_type": "code",
   "execution_count": 488,
   "metadata": {},
   "outputs": [
    {
     "data": {
      "image/png": "[encoded data removed]",
      "text/plain": [
       "<matplotlib.figure.Figure at 0x1210f2550>"
      ]
     },
     "metadata": {},
     "output_type": "display_data"
    }
   ],
   "source": [
    "plt.plot([3,2,3])\n",
    "plt.subplot(211)\n",
    "drawmything(1,2)\n",
    "plt.subplot(212)\n",
    "drawmything(1,10)\n"
   ]
  },
  {
   "cell_type": "code",
   "execution_count": 489,
   "metadata": {},
   "outputs": [
    {
     "data": {
      "image/png": "[encoded data removed]",
      "text/plain": [
       "<matplotlib.figure.Figure at 0x120f99bd0>"
      ]
     },
     "metadata": {},
     "output_type": "display_data"
    }
   ],
   "source": [
    "plt.plot([3,2,3])\n",
    "plt.subplot(211)\n",
    "drawmything(2,1)\n",
    "plt.subplot(212)\n",
    "drawmything(10,1)"
   ]
  }
 ],
 "metadata": {
  "kernelspec": {
   "display_name": "Python 2",
   "language": "python",
   "name": "python2"
  },
  "language_info": {
   "codemirror_mode": {
    "name": "ipython",
    "version": 2
   },
   "file_extension": ".py",
   "mimetype": "text/x-python",
   "name": "python",
   "nbconvert_exporter": "python",
   "pygments_lexer": "ipython2",
   "version": "2.7.13"
  }
 },
 "nbformat": 4,
 "nbformat_minor": 2
}
